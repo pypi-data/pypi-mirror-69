{
 "cells": [
  {
   "cell_type": "markdown",
   "metadata": {},
   "source": [
    "# Hyperdb provides wrapper functions for working with Tableau hyper datasources and moving data between Tableau Server, Google Cloud Platform and Microsoft Azure through a common interface.\n",
    "\n",
    "Some example use cases are:\n",
    "   - Publishing SQL query results to Tableau Server with python scripts. This approach leverages computing power of SQL databases for ETL and improves dashboard performance\n",
    "   - Extracting and transforming data from noncoventional datasources such as emails and API for dashboards. Using cloud storage and serverless compute solutions, proto-typing and development becomes easy\n",
    "   - Tapping hyper datasources on servers for analysis in Pandas and storing results in SQL database. Usually hyper data sources feeding the dashboards are cleaned and enriched, why not use them instead of using the raw data?\n",
    "   - Feeding data from ML models to published dashboards. With Pandas and cloud services working together possibilities are limitless. The missing link between data and insight is vizualization and this libray aims to fill that gap by feeding Tableau vizualizations what they love: hyper datasources! \n",
    "    \n",
    "\n",
    "\n"
   ]
  },
  {
   "cell_type": "markdown",
   "metadata": {},
   "source": [
    "# Setting up development environment"
   ]
  },
  {
   "cell_type": "markdown",
   "metadata": {},
   "source": [
    "git clone https://github.com/mhadi813/hyperdb\n",
    "cd hyperdb\n",
    "conda env create -f hyperdb_dev.yml"
   ]
  },
  {
   "cell_type": "markdown",
   "metadata": {},
   "source": [
    "# Authentication"
   ]
  },
  {
   "cell_type": "code",
   "execution_count": null,
   "metadata": {},
   "outputs": [],
   "source": [
    "import os\n",
    "#TODO: update path to credential files\n",
    "# see ``secrets`` folder for credential tamplates\n",
    "# see functions ``doc string`` for authentication methods at run-time\n",
    "os.environ['GOOGLE_APPLICATION_CREDENTIALS'] = './secrets/dummy_gcp_service_account_credentials.json'\n",
    "os.environ[\"AZURE_CREDENTIALS\"]= './secrets/dummy_ms_azure_credentials.json' \n",
    "os.environ['TABLEAU_SERVER_CREDENTIALS']='./secrets/dummy_tableau_server_credentials.json'"
   ]
  },
  {
   "cell_type": "code",
   "execution_count": null,
   "metadata": {},
   "outputs": [],
   "source": []
  },
  {
   "cell_type": "markdown",
   "metadata": {},
   "source": [
    "# Publishing hyper extract from google bigquery SQL statement/stored procedure"
   ]
  },
  {
   "cell_type": "code",
   "execution_count": null,
   "metadata": {},
   "outputs": [],
   "source": [
    "import hyperdb.gcp as gcp\n",
    "import hyperdb.tableau_server as ts"
   ]
  },
  {
   "cell_type": "code",
   "execution_count": null,
   "metadata": {},
   "outputs": [],
   "source": [
    "sql = \"\"\"SELECT Order_ID, Order_Date, Ship_Date, Ship_Mode, Customer_ID, Customer_Name, Segment \n",
    "FROM `composite-drive-276806.hyper_sources.sample_superstore` \"\"\"\n",
    "\n",
    "sql = \"\"\"CALL `composite-drive-276806.hyper_sources.spoc_sample_superstore`();\"\"\"\n",
    "\n",
    "df = gcp.bq_to_df(sql)\n",
    "\n",
    "hyper_filepath = ts.df_to_hyper(df)\n",
    "datasource_name = ts.upload_hyper_tableau_server(hyper_filepath)"
   ]
  },
  {
   "cell_type": "markdown",
   "metadata": {},
   "source": [
    "# Dealing with unconvential data sources"
   ]
  },
  {
   "cell_type": "code",
   "execution_count": null,
   "metadata": {},
   "outputs": [],
   "source": [
    "import hyperdb.tableau_server as ts\n",
    "import hyperdb.ms_azure as az\n",
    "import pandas as pd"
   ]
  },
  {
   "cell_type": "code",
   "execution_count": null,
   "metadata": {},
   "outputs": [],
   "source": [
    "# TODO Azure logic app extracts excels files from email and stores on cloud storage, get url of blob\n",
    "\n",
    "blob_url = 'https://tableaupydb.blob.core.windows.net/sql-script/Sample - Superstore.xls'\n",
    "in_mem_file = az.download_blob_azure_storage(blob_url,output_option='IO')\n",
    "df = pd.read_excel(in_mem_file)\n",
    "hyper_filepath = ts.df_to_hyper(df)\n",
    "datasource_name = ts.upload_hyper_tableau_server(hyper_filepath)"
   ]
  },
  {
   "cell_type": "markdown",
   "metadata": {},
   "source": [
    "# Tapping hyper datasources on Tableau servers for analysis in pandas"
   ]
  },
  {
   "cell_type": "code",
   "execution_count": null,
   "metadata": {},
   "outputs": [],
   "source": [
    "import hyperdb.tableau_server as ts\n",
    "import pandas as pd"
   ]
  },
  {
   "cell_type": "code",
   "execution_count": null,
   "metadata": {},
   "outputs": [],
   "source": [
    "datasource_name = 'Sample - Superstore'\n",
    "\n",
    "hyper_filepath = ts.download_hyper_tableau_server(datasource_name)\n",
    "df = ts.hyper_to_df(hyper_filepath)\n",
    "df.head()\n"
   ]
  },
  {
   "cell_type": "code",
   "execution_count": null,
   "metadata": {},
   "outputs": [],
   "source": [
    "# let's write the data to azure sql table and use a non default database\n",
    "import hyperdb.ms_azure as az\n",
    "table_name = 'dbo.fact_sample_superstore'\n",
    "engine = az.azure_sql_engine(database='CloudAnalyticsDev')\n",
    "az.df_to_azure_sql(df,table_name, engine=engine)\n"
   ]
  },
  {
   "cell_type": "markdown",
   "metadata": {},
   "source": [
    "# Feeding Tableau Dashboard data form ML model"
   ]
  },
  {
   "cell_type": "code",
   "execution_count": null,
   "metadata": {},
   "outputs": [],
   "source": [
    "# TODO train and save time series forecast model using fbProphet package on Google Cloud Storage\n",
    "# TODO serve forecast with Google Cloud functions\n",
    "# get forecasts with python requests module\n",
    "\n"
   ]
  },
  {
   "cell_type": "code",
   "execution_count": null,
   "metadata": {},
   "outputs": [],
   "source": [
    "import requests\n",
    "from pyplatform_dev import gcf_authenticated_request\n",
    "\n",
    "request_params = {\"startDate\": \"2020-05-01\"}\n",
    "gcf_url = 'TODO'\n",
    "\n",
    "response  = gcf_authenticated_request(gcf_url,method='POST',request_params)\n",
    "df = pd.DataFrame(response.json())\n",
    "hyper_filepath = ts.df_to_hyper(df)\n",
    "datasource_name = ts.upload_hyper_tableau_server(hyper_filepath)\n",
    "\n",
    "\n"
   ]
  },
  {
   "cell_type": "markdown",
   "metadata": {},
   "source": [
    "# Putting everything together"
   ]
  },
  {
   "cell_type": "code",
   "execution_count": null,
   "metadata": {},
   "outputs": [],
   "source": [
    "# TODO deploy an app on Pivotal Cloud Foundary to abstract away data analystics infrastucture\n",
    "# this approach is to keep things serverless and work around storage dependency of Tableau Hyper Client and Tableau Server Python packages"
   ]
  }
 ],
 "metadata": {
  "kernelspec": {
   "display_name": "hyperdb_dev",
   "language": "python",
   "name": "hyperdb_dev"
  },
  "language_info": {
   "codemirror_mode": {
    "name": "ipython",
    "version": 3
   },
   "file_extension": ".py",
   "mimetype": "text/x-python",
   "name": "python",
   "nbconvert_exporter": "python",
   "pygments_lexer": "ipython3",
   "version": "3.7.7"
  }
 },
 "nbformat": 4,
 "nbformat_minor": 4
}
