{
 "cells": [
  {
   "cell_type": "markdown",
   "metadata": {},
   "source": [
    "# Papermill"
   ]
  },
  {
   "cell_type": "code",
   "execution_count": 1,
   "metadata": {},
   "outputs": [],
   "source": [
    "import papermill as pm"
   ]
  },
  {
   "cell_type": "code",
   "execution_count": 3,
   "metadata": {},
   "outputs": [
    {
     "name": "stdout",
     "output_type": "stream",
     "text": [
      "mkdir: ../papermill_notebooks: File exists\n"
     ]
    },
    {
     "data": {
      "application/vnd.jupyter.widget-view+json": {
       "model_id": "4d5112c6ae0d47b8b325e95adb61ec71",
       "version_major": 2,
       "version_minor": 0
      },
      "text/plain": [
       "HBox(children=(FloatProgress(value=0.0, description='Executing', max=22.0, style=ProgressStyle(description_wid…"
      ]
     },
     "metadata": {},
     "output_type": "display_data"
    },
    {
     "name": "stdout",
     "output_type": "stream",
     "text": [
      "\n"
     ]
    }
   ],
   "source": [
    "!mkdir ../papermill_notebooks\n",
    "tmp = pm.execute_notebook(\n",
    "    'introduction_lab.ipynb',\n",
    "    '../papermill_notebooks/introduction_lab.ipynb'\n",
    ")"
   ]
  },
  {
   "cell_type": "code",
   "execution_count": 4,
   "metadata": {},
   "outputs": [
    {
     "name": "stdout",
     "output_type": "stream",
     "text": [
      "[NbConvertApp] Converting notebook ../papermill_notebooks/introduction_lab.ipynb to html\n",
      "[NbConvertApp] Writing 320362 bytes to ../reports/introduction_lab.html\n"
     ]
    }
   ],
   "source": [
    "!jupyter nbconvert --to html --output-dir='../reports/' ../papermill_notebooks/introduction_lab.ipynb"
   ]
  },
  {
   "cell_type": "code",
   "execution_count": null,
   "metadata": {},
   "outputs": [],
   "source": []
  }
 ],
 "metadata": {
  "kernelspec": {
   "display_name": "Python 3",
   "language": "python",
   "name": "python3"
  },
  "language_info": {
   "codemirror_mode": {
    "name": "ipython",
    "version": 3
   },
   "file_extension": ".py",
   "mimetype": "text/x-python",
   "name": "python",
   "nbconvert_exporter": "python",
   "pygments_lexer": "ipython3",
   "version": "3.6.5"
  },
  "widgets": {
   "application/vnd.jupyter.widget-state+json": {
    "state": {
     "002eb5a9019e41be887af2ada1830399": {
      "model_module": "@jupyter-widgets/controls",
      "model_module_version": "1.5.0",
      "model_name": "FloatProgressModel",
      "state": {
       "bar_style": "success",
       "description": "Executing: 100%",
       "layout": "IPY_MODEL_dbbac67cd138423b92989ee56e8d7bfe",
       "max": 22,
       "style": "IPY_MODEL_a20e448c30174ec7a72a3b6a6a01056e",
       "value": 22
      }
     },
     "10beba6ef48940d2871b763a51114413": {
      "model_module": "@jupyter-widgets/controls",
      "model_module_version": "1.5.0",
      "model_name": "ProgressStyleModel",
      "state": {
       "description_width": "initial"
      }
     },
     "1bbd24c3a61c4dd5a7cac195d6944036": {
      "model_module": "@jupyter-widgets/base",
      "model_module_version": "1.2.0",
      "model_name": "LayoutModel",
      "state": {}
     },
     "2b1552ca142c433a956fe4c8222012dd": {
      "model_module": "@jupyter-widgets/base",
      "model_module_version": "1.2.0",
      "model_name": "LayoutModel",
      "state": {}
     },
     "39e9c322fc934f718d36b9e73f4e00dc": {
      "model_module": "@jupyter-widgets/controls",
      "model_module_version": "1.5.0",
      "model_name": "DescriptionStyleModel",
      "state": {
       "description_width": ""
      }
     },
     "48ac084969cc4f1bb5ffbaf12c827ff2": {
      "model_module": "@jupyter-widgets/controls",
      "model_module_version": "1.5.0",
      "model_name": "HTMLModel",
      "state": {
       "layout": "IPY_MODEL_85cd22e4b0c54a00b47a5173b4d2614b",
       "style": "IPY_MODEL_39e9c322fc934f718d36b9e73f4e00dc",
       "value": " 4/14 [00:02&lt;00:07,  1.37cell/s]"
      }
     },
     "4d5112c6ae0d47b8b325e95adb61ec71": {
      "model_module": "@jupyter-widgets/controls",
      "model_module_version": "1.5.0",
      "model_name": "HBoxModel",
      "state": {
       "children": [
        "IPY_MODEL_002eb5a9019e41be887af2ada1830399",
        "IPY_MODEL_97df74695d564c648dbf2e31a1704838"
       ],
       "layout": "IPY_MODEL_d4f3238882dc4515a2d1aeabc858a33c"
      }
     },
     "85cd22e4b0c54a00b47a5173b4d2614b": {
      "model_module": "@jupyter-widgets/base",
      "model_module_version": "1.2.0",
      "model_name": "LayoutModel",
      "state": {}
     },
     "862aa09527e340fb8f9d84b74ff9b41a": {
      "model_module": "@jupyter-widgets/controls",
      "model_module_version": "1.5.0",
      "model_name": "DescriptionStyleModel",
      "state": {
       "description_width": ""
      }
     },
     "97df74695d564c648dbf2e31a1704838": {
      "model_module": "@jupyter-widgets/controls",
      "model_module_version": "1.5.0",
      "model_name": "HTMLModel",
      "state": {
       "layout": "IPY_MODEL_1bbd24c3a61c4dd5a7cac195d6944036",
       "style": "IPY_MODEL_862aa09527e340fb8f9d84b74ff9b41a",
       "value": " 22/22 [00:02&lt;00:00,  9.42cell/s]"
      }
     },
     "a20e448c30174ec7a72a3b6a6a01056e": {
      "model_module": "@jupyter-widgets/controls",
      "model_module_version": "1.5.0",
      "model_name": "ProgressStyleModel",
      "state": {
       "description_width": "initial"
      }
     },
     "b87c1813ce964ee290fcacd55e87e392": {
      "model_module": "@jupyter-widgets/base",
      "model_module_version": "1.2.0",
      "model_name": "LayoutModel",
      "state": {}
     },
     "d4f3238882dc4515a2d1aeabc858a33c": {
      "model_module": "@jupyter-widgets/base",
      "model_module_version": "1.2.0",
      "model_name": "LayoutModel",
      "state": {}
     },
     "dbbac67cd138423b92989ee56e8d7bfe": {
      "model_module": "@jupyter-widgets/base",
      "model_module_version": "1.2.0",
      "model_name": "LayoutModel",
      "state": {}
     },
     "e594590c72674651a24a039ced90ceb8": {
      "model_module": "@jupyter-widgets/controls",
      "model_module_version": "1.5.0",
      "model_name": "HBoxModel",
      "state": {
       "children": [
        "IPY_MODEL_f0ae22c0385f42ae9a06d278a5231740",
        "IPY_MODEL_48ac084969cc4f1bb5ffbaf12c827ff2"
       ],
       "layout": "IPY_MODEL_2b1552ca142c433a956fe4c8222012dd"
      }
     },
     "f0ae22c0385f42ae9a06d278a5231740": {
      "model_module": "@jupyter-widgets/controls",
      "model_module_version": "1.5.0",
      "model_name": "FloatProgressModel",
      "state": {
       "bar_style": "danger",
       "description": "Executing:  29%",
       "layout": "IPY_MODEL_b87c1813ce964ee290fcacd55e87e392",
       "max": 14,
       "style": "IPY_MODEL_10beba6ef48940d2871b763a51114413",
       "value": 4
      }
     }
    },
    "version_major": 2,
    "version_minor": 0
   }
  }
 },
 "nbformat": 4,
 "nbformat_minor": 4
}
