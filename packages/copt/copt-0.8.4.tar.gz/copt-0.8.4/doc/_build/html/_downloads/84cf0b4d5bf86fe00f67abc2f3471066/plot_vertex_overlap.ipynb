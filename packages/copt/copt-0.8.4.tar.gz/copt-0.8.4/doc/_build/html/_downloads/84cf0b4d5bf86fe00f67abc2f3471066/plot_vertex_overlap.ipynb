{
  "cells": [
    {
      "cell_type": "code",
      "execution_count": null,
      "metadata": {
        "collapsed": false
      },
      "outputs": [],
      "source": [
        "%matplotlib inline"
      ]
    },
    {
      "cell_type": "markdown",
      "metadata": {},
      "source": [
        "\nUpdate Direction Overlap in Frank-Wolfe\n========================================\n\nThis example quantifies how many times the Frank-Wolfe algorithm selects\nthe same extremal vertex (which will determine the update direction) twice\nin a row. Selecting the same vertex twice in a row is symptomatic of a poor\nstep-size, as it implies that the last two updates could have been replaced\nby a single update with larger step-size.\n"
      ]
    },
    {
      "cell_type": "code",
      "execution_count": null,
      "metadata": {
        "collapsed": false
      },
      "outputs": [],
      "source": [
        "import copt as cp\nimport matplotlib.pyplot as plt\nfrom matplotlib.ticker import MaxNLocator\nimport numpy as np\n\n# datasets and their respective loading functions\ndatasets = [\n    (\"Gisette\", cp.datasets.load_gisette),\n    (\"RCV1\", cp.datasets.load_rcv1),\n    (\"Madelon\", cp.datasets.load_madelon),\n    (\"Covtype\", cp.datasets.load_covtype),\n]\n\n\nfig, axes = plt.subplots(nrows=2, ncols=2, figsize=(10, 5))\nfor ax, (dataset_title, load_data) in zip(axes.ravel(), datasets):\n    print(\"Running on the %s dataset\" % dataset_title)\n\n    X, y = load_data()\n    n_samples, n_features = X.shape\n\n    l1_ball = cp.utils.L1Ball(n_features / 2.0)\n    f = cp.utils.LogLoss(X, y)\n    x0 = np.zeros(n_features)\n\n    for i, (step, label, marker) in enumerate(\n        [[\"backtracking\", \"backtracking\", \"^\"], [\"DR\", \"DR step-size\", \"d\"]]\n    ):\n        print(\"Running %s variant\" % label)\n        st_prev = []\n        overlap = []\n\n        def trace(kw):\n            \"\"\"Store vertex overlap during execution of the algorithm.\"\"\"\n            s_t = kw[\"update_direction\"] + kw[\"x\"]\n            if st_prev:\n                # check if the vertex of this and the previous iterate\n                # coincide. Since these might be sparse vectors, we use\n                # sparse.linalg.norm to make the comparison\n                prev_overlap = overlap[-1]\n                if np.linalg.norm(st_prev[0] - s_t) == 0:\n                    overlap.append(prev_overlap + 1)\n                else:\n                    overlap.append(prev_overlap)\n                st_prev[0] = s_t\n            else:\n                overlap.append(0)\n                st_prev.append(s_t)\n\n        cp.minimize_frank_wolfe(\n            f.f_grad,\n            x0,\n            l1_ball.lmo,\n            callback=trace,\n            max_iter=50,\n            step=step,\n            verbose=True,\n            lipschitz=f.lipschitz,\n        )\n        ax.plot(overlap, label=label, marker=marker, markevery=7 + i)\n        ax.yaxis.set_major_locator(MaxNLocator(integer=True))\n        ax.legend()\n    ax.set_xlabel(\"number of iterations\")\n    ax.set_ylabel(\"LMO overlap\")\n    ax.set_title(dataset_title)\n    fig.tight_layout()  # otherwise the right y-label is slightly clipped\n    ax.grid()\n# plt.legend()\nplt.show()"
      ]
    }
  ],
  "metadata": {
    "kernelspec": {
      "display_name": "Python 3",
      "language": "python",
      "name": "python3"
    },
    "language_info": {
      "codemirror_mode": {
        "name": "ipython",
        "version": 3
      },
      "file_extension": ".py",
      "mimetype": "text/x-python",
      "name": "python",
      "nbconvert_exporter": "python",
      "pygments_lexer": "ipython3",
      "version": "3.7.4"
    }
  },
  "nbformat": 4,
  "nbformat_minor": 0
}