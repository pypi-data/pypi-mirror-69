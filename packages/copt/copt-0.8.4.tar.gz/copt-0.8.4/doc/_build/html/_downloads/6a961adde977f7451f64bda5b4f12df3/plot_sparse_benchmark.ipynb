{
  "cells": [
    {
      "cell_type": "code",
      "execution_count": null,
      "metadata": {
        "collapsed": false
      },
      "outputs": [],
      "source": [
        "%matplotlib inline"
      ]
    },
    {
      "cell_type": "markdown",
      "metadata": {},
      "source": [
        "\nBenchmark of Frank-Wolfe variants for sparse logistic regression\n================================================================\n\nComparison of different Frank-Wolfe variants on various \nproblems with a logistic regression loss (:meth:`copt.utils.LogLoss`)\nand a L1 ball constraint (:meth:`copt.utils.L1Ball`).\n"
      ]
    },
    {
      "cell_type": "code",
      "execution_count": null,
      "metadata": {
        "collapsed": false
      },
      "outputs": [],
      "source": [
        "import matplotlib.pyplot as plt\nimport numpy as np\nimport copt as cp\n\n# .. datasets and their loading functions ..\ndatasets = [\n    (\"Gisette\", cp.datasets.load_gisette, 6e3),\n    (\"RCV1\", cp.datasets.load_rcv1, 2e4),\n    (\"Madelon\", cp.datasets.load_madelon, 20.0),\n    (\"Covtype\", cp.datasets.load_covtype, 200.0),\n]\n\n\nvariants_fw = [\n    [\"backtracking\", \"adaptive step-size\", \"s\"],\n    [\"DR\", \"Lipschitz step-size\", \"<\"],\n]\n\nfor dataset_title, load_data, alpha in datasets:\n    plt.figure()\n    print(\"Running on the %s dataset\" % dataset_title)\n\n    X, y = load_data()\n    n_samples, n_features = X.shape\n\n    l1_ball = cp.utils.L1Ball(alpha)\n    f = cp.utils.LogLoss(X, y)\n    x0 = np.zeros(n_features)\n\n    for step, label, marker in variants_fw:\n\n        cb = cp.utils.Trace(f)\n        sol = cp.minimize_frank_wolfe(\n            f.f_grad, x0, l1_ball.lmo, callback=cb, step=step, lipschitz=f.lipschitz\n        )\n\n        plt.plot(cb.trace_time, cb.trace_fx, label=label, marker=marker, markevery=10)\n\n    print(\"Sparsity of solution: %s\" % np.mean(np.abs(sol.x) > 1e-8))\n    plt.legend()\n    plt.xlabel(\"Time (in seconds)\")\n    plt.ylabel(\"Objective function\")\n    plt.title(dataset_title)\n    plt.tight_layout()  # otherwise the right y-label is slightly clipped\n    plt.xlim((0, 0.7 * cb.trace_time[-1]))  # for aesthetics\n    plt.grid()\n    plt.show()"
      ]
    }
  ],
  "metadata": {
    "kernelspec": {
      "display_name": "Python 3",
      "language": "python",
      "name": "python3"
    },
    "language_info": {
      "codemirror_mode": {
        "name": "ipython",
        "version": 3
      },
      "file_extension": ".py",
      "mimetype": "text/x-python",
      "name": "python",
      "nbconvert_exporter": "python",
      "pygments_lexer": "ipython3",
      "version": "3.7.4"
    }
  },
  "nbformat": 4,
  "nbformat_minor": 0
}