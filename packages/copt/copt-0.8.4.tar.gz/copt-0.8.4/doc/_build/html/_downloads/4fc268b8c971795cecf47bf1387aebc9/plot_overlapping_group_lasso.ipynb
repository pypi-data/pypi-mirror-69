{
  "cells": [
    {
      "cell_type": "code",
      "execution_count": null,
      "metadata": {
        "collapsed": false
      },
      "outputs": [],
      "source": [
        "%matplotlib inline"
      ]
    },
    {
      "cell_type": "markdown",
      "metadata": {},
      "source": [
        "\nGroup lasso with overlap\n========================\n\nComparison of solvers for a least squares with\noverlapping group lasso regularization.\n\nReferences\n----------\nThis example is modeled after the experiments in `Adaptive Three Operator Splitting <https://arxiv.org/pdf/1804.02339.pdf>`_, Appendix E.3.\n"
      ]
    },
    {
      "cell_type": "code",
      "execution_count": null,
      "metadata": {
        "collapsed": false
      },
      "outputs": [],
      "source": [
        "import copt as cp\nimport matplotlib.pyplot as plt\nimport numpy as np\nfrom sklearn import preprocessing\n\nnp.random.seed(0)\n\nn_samples, n_features = 100, 1002\n\n# .. generate some data ..\n# .. the first set of blocks is\ngroups = [np.arange(8 * i, 8 * i + 10) for i in range(125)]\nground_truth = np.zeros(n_features)\ng = np.random.randint(0, len(groups), 10)\nfor i in g:\n    ground_truth[groups[i]] = np.random.randn()\n\nA = np.random.randn(n_samples, n_features)\np = 0.95  # create a matrix with correlations between features\nfor i in range(1, n_features):\n    A[:, i] = p * A[:, i] + (1 - p) * A[:, i-1]\nA[:, 0] /= np.sqrt(1 - p ** 2)\nA = preprocessing.StandardScaler().fit_transform(A)\nb = A.dot(ground_truth) + np.random.randn(n_samples)\n\n# make labels in {0, 1}\nb = np.sign(b)\nb = (b + 1) // 2\n\n\n# .. compute the step-size ..\nmax_iter = 5000\nf = cp.utils.LogLoss(A, b)\nstep_size = 1. / f.lipschitz\n\n# .. run the solver for different values ..\n# .. of the regularization parameter beta ..\nall_betas = np.logspace(-4, -1, 4)\nall_trace_ls, all_trace_nols, all_trace_pdhg_nols, all_trace_pdhg = [], [], [], []\nall_trace_ls_time, all_trace_nols_time, all_trace_pdhg_nols_time, all_trace_pdhg_time = [], [], [], []\nout_img = []\nfor i, beta in enumerate(all_betas):\n    print('beta = %s' % beta)\n    G1 = cp.utils.GroupL1(beta, groups[::2])\n    G2 = cp.utils.GroupL1(beta, groups[1::2])\n\n    def loss(x):\n        return f(x) + G1(x) + G2(x)\n\n    cb_tosls = cp.utils.Trace()\n    x0 = np.zeros(n_features)\n    tos_ls = cp.minimize_three_split(\n        f.f_grad, x0, G1.prox, G2.prox, step_size=10 * step_size,\n        max_iter=max_iter, tol=1e-14, verbose=1,\n        callback=cb_tosls, h_Lipschitz=beta)\n    trace_ls = np.array([loss(x) for x in cb_tosls.trace_x])\n    all_trace_ls.append(trace_ls)\n    all_trace_ls_time.append(cb_tosls.trace_time)\n\n    cb_tos = cp.utils.Trace()\n    x0 = np.zeros(n_features)\n    tos = cp.minimize_three_split(\n        f.f_grad, x0, G1.prox, G2.prox,\n        step_size=step_size,\n        max_iter=max_iter, tol=1e-14, verbose=1,\n        line_search=True, callback=cb_tos)\n    trace_nols = np.array([loss(x) for x in cb_tos.trace_x])\n    all_trace_nols.append(trace_nols)\n    all_trace_nols_time.append(cb_tos.trace_time)\n    out_img.append(tos.x)\n\n    cb_pdhg = cp.utils.Trace()\n    x0 = np.zeros(n_features)\n    pdhg = cp.minimize_primal_dual(\n        f.f_grad, x0, G1.prox, G2.prox,\n        callback=cb_pdhg, max_iter=max_iter,\n        step_size=step_size,\n        step_size2=(1. / step_size) / 2, tol=0, line_search=False)\n    trace_pdhg = np.array([loss(x) for x in cb_pdhg.trace_x])\n    all_trace_pdhg.append(trace_pdhg)\n    all_trace_pdhg_time.append(cb_pdhg.trace_time)\n\n    cb_pdhg_nols = cp.utils.Trace()\n    x0 = np.zeros(n_features)\n    pdhg_nols = cp.minimize_primal_dual(\n        f.f_grad, x0, G1.prox, G2.prox,\n        callback=cb_pdhg_nols, max_iter=max_iter,\n        step_size=step_size,\n        step_size2=(1. / step_size) / 2, tol=0, line_search=False)\n    trace_pdhg_nols = np.array([loss(x) for x in cb_pdhg_nols.trace_x])\n    all_trace_pdhg_nols.append(trace_pdhg_nols)\n    all_trace_pdhg_nols_time.append(cb_pdhg_nols.trace_time)\n\n\n# .. plot the results ..\nfig, ax = plt.subplots(2, 4, sharey=False)\nxlim = [2000, 2000, 1000, 2000]\nmarkevery = [x//5 for x in xlim]\nfor i, beta in enumerate(all_betas):\n    ax[0, i].set_title(r'$\\lambda=%s$' % beta)\n    ax[0, i].set_title(r'$\\lambda=%s$' % beta)\n    ax[0, i].plot(out_img[i] / np.max(out_img[i]))\n    ax[0, i].plot(ground_truth / np.max(ground_truth))\n    ax[0, i].set_xticks(())\n    ax[0, i].set_yticks(())\n    ax[0, i].set_ylim((-0.5, 1.5))\n\n    fmin = min(np.min(all_trace_ls[i]), np.min(all_trace_nols[i]))\n    scale = 1. # all_trace_ls[i][0] - fmin\n    plot_tos, = ax[1, i].plot(\n        (all_trace_ls[i] - fmin) / scale, '--',\n        lw=2, marker='o', markevery=markevery[i],\n        markersize=5)\n\n    plot_nols, = ax[1, i].plot(\n        (all_trace_nols[i] - fmin) / scale,\n        lw=2, marker='h', markevery=markevery[i],\n        markersize=5)\n\n    plot_pdhg, = ax[1, i].plot(\n        (all_trace_pdhg[i] - fmin) / scale,\n        lw=2, marker='^', markevery=markevery[i],\n        markersize=5)\n\n    plot_pdhg_nols, = ax[1, i].plot(\n        (all_trace_pdhg_nols[i] - fmin) / scale,\n        lw=2, marker='d', markevery=markevery[i],\n        markersize=5)\n\n    ax[1, i].set_xlabel('Iterations')\n    ax[1, i].set_yscale('log')\n    ax[1, i].set_ylim((1e-10, None))\n    ax[1, i].set_xlim((0, xlim[i]))\n    ax[1, i].grid(True)\n\n\nplt.gcf().subplots_adjust(bottom=0.25)\nplt.figlegend(\n    (plot_tos, plot_nols, plot_pdhg, plot_pdhg_nols),\n    ('TOS with line search', 'TOS without line search', 'PDHG with line search', 'PDHG without line search'), 'lower center', ncol=2,\n    scatterpoints=1, frameon=False,)\n\nax[1, 0].set_ylabel('Objective minus optimum')\nplt.show()"
      ]
    }
  ],
  "metadata": {
    "kernelspec": {
      "display_name": "Python 3",
      "language": "python",
      "name": "python3"
    },
    "language_info": {
      "codemirror_mode": {
        "name": "ipython",
        "version": 3
      },
      "file_extension": ".py",
      "mimetype": "text/x-python",
      "name": "python",
      "nbconvert_exporter": "python",
      "pygments_lexer": "ipython3",
      "version": "3.7.4"
    }
  },
  "nbformat": 4,
  "nbformat_minor": 0
}