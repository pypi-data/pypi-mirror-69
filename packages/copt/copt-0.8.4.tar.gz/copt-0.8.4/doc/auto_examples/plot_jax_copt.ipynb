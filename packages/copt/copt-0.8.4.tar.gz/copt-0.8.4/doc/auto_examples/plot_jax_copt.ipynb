{
  "cells": [
    {
      "cell_type": "code",
      "execution_count": null,
      "metadata": {
        "collapsed": false
      },
      "outputs": [],
      "source": [
        "%matplotlib inline"
      ]
    },
    {
      "cell_type": "markdown",
      "metadata": {},
      "source": [
        "\nCombining COPT with JAX\n=======================\n\nThis example shows how `JAX <https://github.com/google/jax>`_\ncan be used within COPT to compute the gradients of the\nobjective function. \n"
      ]
    },
    {
      "cell_type": "code",
      "execution_count": null,
      "metadata": {
        "collapsed": false
      },
      "outputs": [],
      "source": [
        "import jax\nfrom jax import numpy as np\nimport numpy as onp\nimport matplotlib.pyplot as plt\nfrom sklearn import datasets\nimport copt as cp\n\n# .. construct (random) dataset ..\nX, y = datasets.make_regression()\nn_samples, n_features = X.shape\n\n\ndef loss(w):\n    \"\"\"Squared error loss.\"\"\"\n    z = np.dot(X, w) - y\n    return np.sum(z * z) / n_samples\n\n\n# .. use JAX to compute the gradient of loss value_and_grad ..\n# .. returns both the gradient and the objective, which is ..\n# .. the format that COPT accepts ..\nf_grad = jax.value_and_grad(loss)\n\nw0 = onp.zeros(n_features)\n\nl1_ball = cp.utils.L1Norm(0.1)\ncb = cp.utils.Trace(lambda x: loss(x) + l1_ball(x))\nsol = cp.minimize_proximal_gradient(\n    f_grad, w0, prox=l1_ball.prox, callback=cb, jac=True\n)\nplt.plot(cb.trace_fx, lw=3)\nplt.yscale(\"log\")\nplt.xlabel(\"# Iterations\")\nplt.ylabel(\"Objective value\")\nplt.grid()\nplt.show()"
      ]
    }
  ],
  "metadata": {
    "kernelspec": {
      "display_name": "Python 3",
      "language": "python",
      "name": "python3"
    },
    "language_info": {
      "codemirror_mode": {
        "name": "ipython",
        "version": 3
      },
      "file_extension": ".py",
      "mimetype": "text/x-python",
      "name": "python",
      "nbconvert_exporter": "python",
      "pygments_lexer": "ipython3",
      "version": "3.7.4"
    }
  },
  "nbformat": 4,
  "nbformat_minor": 0
}