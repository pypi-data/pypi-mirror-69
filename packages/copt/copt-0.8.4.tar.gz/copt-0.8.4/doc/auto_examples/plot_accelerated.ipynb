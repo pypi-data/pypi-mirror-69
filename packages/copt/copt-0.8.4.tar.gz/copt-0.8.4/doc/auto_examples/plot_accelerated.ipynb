{
  "cells": [
    {
      "cell_type": "code",
      "execution_count": null,
      "metadata": {
        "collapsed": false
      },
      "outputs": [],
      "source": [
        "%matplotlib inline"
      ]
    },
    {
      "cell_type": "markdown",
      "metadata": {},
      "source": [
        "\nAccelerated gradient descent\n============================\n\nSpeed of convergence comparison between gradient descent\nand Nesterov acceleration on a logistic regression problem.\n"
      ]
    },
    {
      "cell_type": "code",
      "execution_count": null,
      "metadata": {
        "collapsed": false
      },
      "outputs": [],
      "source": [
        "import matplotlib.pyplot as plt\nimport numpy as np\nimport copt as cp\n\n# .. construct (random) dataset ..\nn_samples, n_features = 1000, 200\nnp.random.seed(0)\nX = np.random.randn(n_samples, n_features)\ny = np.random.rand(n_samples)\n\nf = cp.utils.LogLoss(X, y)\nstep_size = 1.0 / f.lipschitz\n\ncb_pgd = cp.utils.Trace(f)\nresult_pgd = cp.minimize_proximal_gradient(\n    f.f_grad,\n    np.zeros(n_features),\n    step=lambda x: step_size,\n    callback=cb_pgd,\n    tol=0,\n    jac=True,\n    accelerated=False,\n)\n\ncb_apgd = cp.utils.Trace(f)\nresult_apgd = cp.minimize_proximal_gradient(\n    f.f_grad,\n    np.zeros(n_features),\n    step=lambda x: step_size,\n    callback=cb_apgd,\n    tol=0,\n    jac=True,\n    accelerated=True,\n)\n\n\n# .. plot the result ..\nfmin = min(np.min(cb_pgd.trace_fx), np.min(cb_apgd.trace_fx))\nplt.title(\"Comparison of full gradient optimizers\")\nplt.plot(cb_apgd.trace_fx - fmin, lw=4, label=\"accelerated gradient descent\")\nplt.plot(cb_pgd.trace_fx - fmin, lw=4, label=\"gradient descent\")\nplt.ylabel(\"Function suboptimality\", fontweight=\"bold\")\nplt.xlabel(\"gradient evaluations\", fontweight=\"bold\")\nplt.yscale(\"log\")\nplt.ylim(ymin=1e-16)\nplt.xlim((0, 150))\nplt.legend()\nplt.grid()\nplt.show()"
      ]
    }
  ],
  "metadata": {
    "kernelspec": {
      "display_name": "Python 3",
      "language": "python",
      "name": "python3"
    },
    "language_info": {
      "codemirror_mode": {
        "name": "ipython",
        "version": 3
      },
      "file_extension": ".py",
      "mimetype": "text/x-python",
      "name": "python",
      "nbconvert_exporter": "python",
      "pygments_lexer": "ipython3",
      "version": "3.7.4"
    }
  },
  "nbformat": 4,
  "nbformat_minor": 0
}