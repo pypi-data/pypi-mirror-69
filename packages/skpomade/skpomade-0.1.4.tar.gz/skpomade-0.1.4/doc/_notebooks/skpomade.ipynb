{
 "cells": [
  {
   "cell_type": "markdown",
   "metadata": {},
   "source": [
    "# Tutorial for `skpomade`:  PrObabilistic MAtrix DEcompositions"
   ]
  },
  {
   "cell_type": "code",
   "execution_count": null,
   "metadata": {
    "collapsed": true
   },
   "outputs": [],
   "source": [
    "%load_ext autoreload\n",
    "%autoreload 2"
   ]
  },
  {
   "cell_type": "code",
   "execution_count": null,
   "metadata": {
    "collapsed": true
   },
   "outputs": [],
   "source": [
    "%matplotlib inline"
   ]
  },
  {
   "cell_type": "code",
   "execution_count": null,
   "metadata": {
    "collapsed": true
   },
   "outputs": [],
   "source": [
    "import numpy as np\n",
    "import matplotlib.pyplot as plt\n",
    "import scipy as sp\n",
    "from scipy.sparse.linalg import aslinearoperator"
   ]
  },
  {
   "cell_type": "code",
   "execution_count": null,
   "metadata": {
    "collapsed": true
   },
   "outputs": [],
   "source": [
    "from skpomade.utils import build_test_matrix\n",
    "from skpomade.range_approximation import randomized_range_finder, adaptive_randomized_range_finder"
   ]
  },
  {
   "cell_type": "code",
   "execution_count": null,
   "metadata": {
    "collapsed": true
   },
   "outputs": [],
   "source": [
    "# Test behavior of build_test_matrix\n",
    "m = 29\n",
    "n = 17\n",
    "seed = 0\n",
    "p_max = 5\n",
    "rand_state = np.random.RandomState(seed)\n",
    "A = rand_state.randn(m, n)\n",
    "A = A / np.linalg.norm(A, ord=2)\n",
    "M = A.copy()\n",
    "for p in range(p_max):\n",
    "    U, s, Vh = np.linalg.svd(M)\n",
    "    plt.semilogy(s, label=r'$(A A^T)^{} \\times A$'.format(p))\n",
    "    M = A @ A.T @ M\n",
    "plt.title(r'Singular values of $(A A^T)^p \\times A$')\n",
    "plt.legend()\n",
    "plt.grid()\n",
    "\n",
    "plt.figure()\n",
    "for p in range(p_max):\n",
    "    M = build_test_matrix(m, n, p=p, rand_state=seed)\n",
    "    U, s, Vh = np.linalg.svd(M)\n",
    "    plt.semilogy(s, label='p={}'.format(p))\n",
    "plt.title('Similar result using build_test_matrix(m, n, p)')\n",
    "plt.legend()\n",
    "plt.grid()\n"
   ]
  },
  {
   "cell_type": "code",
   "execution_count": null,
   "metadata": {
    "collapsed": true
   },
   "outputs": [],
   "source": [
    "# Approximation quality of randomized_range_finder(A, n_l=l)\n",
    "m = 29\n",
    "n = 23\n",
    "p = 3\n",
    "A = build_test_matrix(m, n, p=10, rand_state=0)\n",
    "_, s, _ = np.linalg.svd(A)\n",
    "for k in range(1, 18):\n",
    "    Q = randomized_range_finder(A, n_l=k+p)\n",
    "    print(\"k =\", k, \"p =\", p, \n",
    "          \"||A - Q @ Q.T @ A|| < s[k]?\", np.linalg.norm(A - Q @ Q.T @ A, ord=2) < s[k], \n",
    "          \"({} < {})\".format(np.linalg.norm(A - Q @ Q.T @ A, ord=2), s[k]))"
   ]
  },
  {
   "cell_type": "code",
   "execution_count": null,
   "metadata": {
    "collapsed": true
   },
   "outputs": [],
   "source": [
    "m = 290\n",
    "n = 170\n",
    "A = build_test_matrix(m, n, p=10, rand_state=0)\n",
    "_, s, _ = np.linalg.svd(A)\n",
    "plt.figure(figsize=(15,5))\n",
    "plt.semilogy(s)\n",
    "plt.grid()\n",
    "for l in range(10):\n",
    "    tolerance = 10**-l\n",
    "    Q = adaptive_randomized_range_finder(A, tolerance=tolerance, r=5)\n",
    "    print(tolerance, np.linalg.norm(A-Q@Q.T@A, ord=2), Q.shape[1])"
   ]
  },
  {
   "cell_type": "code",
   "execution_count": null,
   "metadata": {
    "collapsed": true
   },
   "outputs": [],
   "source": [
    "m = n = 345\n",
    "A = build_test_matrix(m, n, p=10, rand_state=0)\n",
    "Aop = aslinearoperator(A)\n",
    "tolerance = 10**-5\n",
    "%timeit -r2 -p2 Q = adaptive_randomized_range_finder(Aop, tolerance=tolerance, r=5)\n",
    "A_rank = Q.shape[1]\n",
    "print(A_rank)\n",
    "%timeit -r2 -p2 QQ = randomized_range_finder(Aop, n_l=A_rank)\n",
    "QQ = randomized_range_finder(Aop, n_l=A_rank)\n",
    "%timeit -r2 -p2 np.linalg.svd(np.conjugate(QQ).T @ A)\n",
    "%timeit -r2 -p2 ss=sp.sparse.linalg.svds(Aop, k=A_rank)\n",
    "%timeit -r2 -p2 sss=np.linalg.svd(A)"
   ]
  },
  {
   "cell_type": "code",
   "execution_count": null,
   "metadata": {
    "collapsed": true
   },
   "outputs": [],
   "source": []
  }
 ],
 "metadata": {
  "kernelspec": {
   "display_name": "Python 3",
   "language": "python",
   "name": "python3"
  },
  "language_info": {
   "codemirror_mode": {
    "name": "ipython",
    "version": 3
   },
   "file_extension": ".py",
   "mimetype": "text/x-python",
   "name": "python",
   "nbconvert_exporter": "python",
   "pygments_lexer": "ipython3",
   "version": "3.6.2"
  },
  "pycharm": {
   "stem_cell": {
    "cell_type": "raw",
    "source": [],
    "metadata": {
     "collapsed": false
    }
   }
  }
 },
 "nbformat": 4,
 "nbformat_minor": 2
}