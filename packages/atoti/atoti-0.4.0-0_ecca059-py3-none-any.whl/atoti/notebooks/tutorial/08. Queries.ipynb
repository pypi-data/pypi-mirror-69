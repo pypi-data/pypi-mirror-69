{
 "cells": [
  {
   "cell_type": "markdown",
   "metadata": {},
   "source": [
    "# Queries\n",
    "\n",
    "You can execute queries and get back the result as a pandas DataFrame.\n",
    "\n",
    "The queries can be made by passing an MDX string or by giving a list of measure and level objects.\n",
    "\n",
    "You can even query already running sessions such as the ones started from a Java project."
   ]
  },
  {
   "cell_type": "markdown",
   "metadata": {},
   "source": [
    "## New session"
   ]
  },
  {
   "cell_type": "code",
   "execution_count": null,
   "metadata": {},
   "outputs": [],
   "source": [
    "import atoti as tt\n",
    "\n",
    "session = tt.create_session()\n",
    "store = session.read_csv(\"data/example.csv\", keys=[\"ID\"])\n",
    "cube = session.create_cube(store, \"Cube\")"
   ]
  },
  {
   "cell_type": "markdown",
   "metadata": {},
   "source": [
    "Cubes in your session can be queried like that:"
   ]
  },
  {
   "cell_type": "code",
   "execution_count": null,
   "metadata": {},
   "outputs": [],
   "source": [
    "mdx = \"\"\"SELECT\n",
    "  {\n",
    "    [Measures].[Price.MEAN],\n",
    "    [Measures].[Quantity.SUM]\n",
    "  } ON COLUMNS,\n",
    "  NON EMPTY Crossjoin(\n",
    "    [Hierarchies].[Color].[Color].Members,\n",
    "    [Hierarchies].[Continent].[Continent].Members\n",
    "  ) ON ROWS\n",
    "  FROM [Cube]\"\"\"\n",
    "session.query_mdx(mdx)"
   ]
  },
  {
   "cell_type": "markdown",
   "metadata": {},
   "source": [
    "## Existing session\n",
    "\n",
    "Queries can also be executed on existing sessions:"
   ]
  },
  {
   "cell_type": "code",
   "execution_count": null,
   "metadata": {},
   "outputs": [],
   "source": [
    "from atoti.query import BasicAuthentication\n",
    "\n",
    "existing_session = tt.open_query_session(\n",
    "    session.url,  # Here you would put the base URL of the existing session.\n",
    "    auth=BasicAuthentication(\"admin\", \"admin\"),\n",
    ")\n",
    "existing_session"
   ]
  },
  {
   "cell_type": "markdown",
   "metadata": {},
   "source": [
    "### MDX query"
   ]
  },
  {
   "cell_type": "code",
   "execution_count": null,
   "metadata": {},
   "outputs": [],
   "source": [
    "existing_session.query_mdx(mdx)"
   ]
  },
  {
   "cell_type": "markdown",
   "metadata": {},
   "source": [
    "### Object-based query"
   ]
  },
  {
   "cell_type": "code",
   "execution_count": null,
   "metadata": {},
   "outputs": [],
   "source": [
    "existing_cube = existing_session.cubes[\"Cube\"]\n",
    "lvl = existing_cube.levels\n",
    "m = existing_cube.measures\n",
    "existing_cube.query(\n",
    "    m[\"Price.MEAN\"], m[\"Quantity.SUM\"], levels=[lvl[\"Color\"], lvl[\"Continent\"]],\n",
    ")"
   ]
  }
 ],
 "metadata": {
  "file_extension": ".py",
  "kernelspec": {
   "display_name": "Python 3",
   "language": "python",
   "name": "python3"
  },
  "language_info": {
   "codemirror_mode": {
    "name": "ipython",
    "version": 3
   },
   "file_extension": ".py",
   "mimetype": "text/x-python",
   "name": "python",
   "nbconvert_exporter": "python",
   "pygments_lexer": "ipython3",
   "version": "3.7.3"
  },
  "mimetype": "text/x-python",
  "name": "python",
  "npconvert_exporter": "python",
  "pygments_lexer": "ipython3",
  "version": 3
 },
 "nbformat": 4,
 "nbformat_minor": 4
}
