{
 "cells": [
  {
   "cell_type": "markdown",
   "metadata": {},
   "source": [
    "# Data sources\n",
    "\n",
    "Stores can be fed from several sources :\n",
    "\n",
    "- [CSV files](#CSV)\n",
    "- [Parquet files](#Parquet)\n",
    "- [Pandas dataframes](#Pandas)\n",
    "- [Spark dataframes](#Spark)\n",
    "\n",
    "## CSV"
   ]
  },
  {
   "cell_type": "code",
   "execution_count": null,
   "metadata": {},
   "outputs": [],
   "source": [
    "import atoti as tt\n",
    "\n",
    "session = tt.create_session()"
   ]
  },
  {
   "cell_type": "code",
   "execution_count": null,
   "metadata": {},
   "outputs": [],
   "source": [
    "csv_store = session.read_csv(\"data/example.csv\", keys=[\"ID\"], store_name=\"First\")\n",
    "csv_store.head()"
   ]
  },
  {
   "cell_type": "markdown",
   "metadata": {},
   "source": [
    "## Parquet\n",
    "\n",
    "[Apache Parquet](https://parquet.apache.org/) is a columnar storage format. Those files can be used as a source :"
   ]
  },
  {
   "cell_type": "code",
   "execution_count": null,
   "metadata": {},
   "outputs": [],
   "source": [
    "parquet_store = session.read_parquet(\"data/example.parquet\", keys=[\"ProductId\"])\n",
    "parquet_store.head()"
   ]
  },
  {
   "cell_type": "markdown",
   "metadata": {},
   "source": [
    "## Pandas\n",
    "\n",
    "_pandas_ is an open source library providing easy-to-use data structures and data analysis tools.\n",
    "For more details about how to use _pandas_ you can refer to its [cookbook](https://pandas.pydata.org/pandas-docs/stable/user_guide/cookbook.html).\n",
    "\n",
    "Its DataFrame can be used as a source to feed a store:"
   ]
  },
  {
   "cell_type": "code",
   "execution_count": null,
   "metadata": {},
   "outputs": [],
   "source": [
    "import pandas as pd\n",
    "\n",
    "dataframe = pd.read_csv(\"data/example.csv\")\n",
    "pandas_store = session.read_pandas(dataframe, \"Second\", keys=[\"ID\"])\n",
    "pandas_store.head()"
   ]
  },
  {
   "cell_type": "markdown",
   "metadata": {},
   "source": [
    "## Spark\n",
    "\n",
    "[Apache Spark](https://spark.apache.org/) is a unified analytics engine for large-scale data processing.\n",
    "\n",
    "Its DataFrame can be used as a source to feed a store:"
   ]
  },
  {
   "cell_type": "code",
   "execution_count": null,
   "metadata": {},
   "outputs": [],
   "source": [
    "from pyspark.sql import SparkSession\n",
    "\n",
    "spark = SparkSession.builder.appName(\"Demo\").getOrCreate()"
   ]
  },
  {
   "cell_type": "code",
   "execution_count": null,
   "metadata": {},
   "outputs": [],
   "source": [
    "spark_df = spark.read.csv(\"data/example.csv\", header=True, inferSchema=True)\n",
    "spark_df.show()"
   ]
  },
  {
   "cell_type": "code",
   "execution_count": null,
   "metadata": {},
   "outputs": [],
   "source": [
    "spark_store = session.read_spark(spark_df, \"Spark\", keys=[\"ID\"])\n",
    "spark_store.head()"
   ]
  }
 ],
 "metadata": {
  "kernelspec": {
   "display_name": "Python 3",
   "language": "python",
   "name": "python3"
  },
  "language_info": {
   "codemirror_mode": {
    "name": "ipython",
    "version": 3
   },
   "file_extension": ".py",
   "mimetype": "text/x-python",
   "name": "python",
   "nbconvert_exporter": "python",
   "pygments_lexer": "ipython3",
   "version": "3.7.3"
  }
 },
 "nbformat": 4,
 "nbformat_minor": 4
}
