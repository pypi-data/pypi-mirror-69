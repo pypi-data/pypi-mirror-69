{
 "cells": [
  {
   "cell_type": "markdown",
   "metadata": {},
   "source": [
    "# Hierarchies\n",
    "\n",
    "Cubes are structured in dimensions, hierarchies and levels."
   ]
  },
  {
   "cell_type": "code",
   "execution_count": null,
   "metadata": {},
   "outputs": [],
   "source": [
    "import atoti as tt\n",
    "\n",
    "session = tt.create_session()\n",
    "store = session.read_csv(\"data/example.csv\", keys=[\"ID\"], store_name=\"First\")\n",
    "cube = session.create_cube(store, \"FirstCube\")"
   ]
  },
  {
   "cell_type": "markdown",
   "metadata": {},
   "source": [
    "Evaluating `cube.hierarchies` will display the structure of the cube:"
   ]
  },
  {
   "cell_type": "code",
   "execution_count": null,
   "metadata": {},
   "outputs": [],
   "source": [
    "lvl = cube.levels\n",
    "h = cube.hierarchies\n",
    "h"
   ]
  },
  {
   "cell_type": "markdown",
   "metadata": {},
   "source": [
    "## Change dimension name of the hierarchy\n",
    "\n",
    "A dimension can be seen as a folder of hierarchies.\n",
    "By default, all the hiearchies are put in the same dimension called `Hierarchies`."
   ]
  },
  {
   "cell_type": "code",
   "execution_count": null,
   "metadata": {},
   "outputs": [],
   "source": [
    "h[\"Color\"].dimension = \"Physical attribute\"\n",
    "h"
   ]
  },
  {
   "cell_type": "markdown",
   "metadata": {},
   "source": [
    "## Delete a hierarchy\n",
    "\n",
    "Any hierarchy can be deleted using `del`"
   ]
  },
  {
   "cell_type": "code",
   "execution_count": null,
   "metadata": {},
   "outputs": [],
   "source": [
    "del h[\"Date\"]\n",
    "h"
   ]
  },
  {
   "cell_type": "markdown",
   "metadata": {},
   "source": [
    "## Slicing or not\n",
    "\n",
    "A slicing hierarchy will not aggregate the data on all its members.\n",
    "By default the hierarchies are not slicing."
   ]
  },
  {
   "cell_type": "code",
   "execution_count": null,
   "metadata": {},
   "outputs": [],
   "source": [
    "h[\"Color\"].slicing = True"
   ]
  },
  {
   "cell_type": "code",
   "execution_count": null,
   "metadata": {},
   "outputs": [],
   "source": [
    "h[\"Color\"].slicing = False"
   ]
  },
  {
   "cell_type": "markdown",
   "metadata": {},
   "source": [
    "## Multi-level hierarchies\n",
    "\n",
    "Levels can be grouped into a single hierarchy:"
   ]
  },
  {
   "cell_type": "code",
   "execution_count": null,
   "metadata": {},
   "outputs": [],
   "source": [
    "h[\"Geography\"] = [lvl[\"Continent\"], lvl[\"Country\"], lvl[\"City\"]]\n",
    "h"
   ]
  },
  {
   "cell_type": "markdown",
   "metadata": {},
   "source": [
    "If several levels have the same name, you will need to specify the hierarchy to access it."
   ]
  },
  {
   "cell_type": "code",
   "execution_count": null,
   "metadata": {},
   "outputs": [],
   "source": [
    "geoContinent = lvl[(\"Geography\", \"Continent\")]\n",
    "geoContinent"
   ]
  },
  {
   "cell_type": "code",
   "execution_count": null,
   "metadata": {},
   "outputs": [],
   "source": [
    "m = cube.measures\n",
    "cube.query(m[\"Quantity.SUM\"], levels=[lvl[(\"Geography\", \"Continent\")]])"
   ]
  },
  {
   "cell_type": "markdown",
   "metadata": {},
   "source": [
    "If you are in this configuration you can do a per using the level object"
   ]
  },
  {
   "cell_type": "code",
   "execution_count": null,
   "metadata": {},
   "outputs": [],
   "source": [
    "m[\"Average per country\"] = tt.agg.mean(\n",
    "    m[\"Quantity.SUM\"], scope=tt.scope.origin(lvl[(\"Country\", \"Country\")]),\n",
    ")\n",
    "cube.query(m[\"Average per country\"], levels=[lvl[(\"Country\", \"Country\")]])"
   ]
  },
  {
   "cell_type": "code",
   "execution_count": null,
   "metadata": {},
   "outputs": [],
   "source": [
    "lvl[\"Color\"]"
   ]
  },
  {
   "cell_type": "markdown",
   "metadata": {},
   "source": [
    "## Level comparators\n",
    "\n",
    "Levels member are ordered when they are displayed using a comparator.\n",
    "\n",
    "`ASC` is the default comparator if None is specify, it is the natural ascendant order.\n",
    "\n",
    "`DESC` is the opposite of `ASC` : the descendant natural order."
   ]
  },
  {
   "cell_type": "code",
   "execution_count": null,
   "metadata": {},
   "outputs": [],
   "source": [
    "lvl[\"ID\"].comparator = tt.comparator.DESC"
   ]
  },
  {
   "cell_type": "markdown",
   "metadata": {},
   "source": [
    "It is also possible to specify the first members of a level :"
   ]
  },
  {
   "cell_type": "code",
   "execution_count": null,
   "metadata": {},
   "outputs": [],
   "source": [
    "lvl[\"Color\"].comparator = tt.comparator.first_members([\"green\", \"blue\"])"
   ]
  },
  {
   "cell_type": "markdown",
   "metadata": {},
   "source": [
    "## Create level from numeric store column\n",
    "\n",
    "Float columns are not converted to a level by default but it is possible to create a level from any store column"
   ]
  },
  {
   "cell_type": "code",
   "execution_count": null,
   "metadata": {},
   "outputs": [],
   "source": [
    "store[\"Quantity\"].name"
   ]
  },
  {
   "cell_type": "code",
   "execution_count": null,
   "metadata": {},
   "outputs": [],
   "source": [
    "h[\"Quant\"] = {\"My Quantity\": store[\"Quantity\"]}\n",
    "h"
   ]
  },
  {
   "cell_type": "code",
   "execution_count": null,
   "metadata": {},
   "outputs": [],
   "source": [
    "cube.query(cube.measures[\"Price.SUM\"], levels=[cube.levels[\"My Quantity\"]])"
   ]
  }
 ],
 "metadata": {
  "kernelspec": {
   "display_name": "Python 3",
   "language": "python",
   "name": "python3"
  },
  "language_info": {
   "codemirror_mode": {
    "name": "ipython",
    "version": 3
   },
   "file_extension": ".py",
   "mimetype": "text/x-python",
   "name": "python",
   "nbconvert_exporter": "python",
   "pygments_lexer": "ipython3",
   "version": "3.7.3"
  }
 },
 "nbformat": 4,
 "nbformat_minor": 4
}
