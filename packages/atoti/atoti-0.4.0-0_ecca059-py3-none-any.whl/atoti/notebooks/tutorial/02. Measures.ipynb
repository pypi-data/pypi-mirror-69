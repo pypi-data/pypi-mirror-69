{
 "cells": [
  {
   "cell_type": "markdown",
   "metadata": {},
   "source": [
    "# Measures\n",
    "\n",
    "## Default measures\n",
    "\n",
    "Let's quickly create a cube from a CSV file.\n",
    "You can see the value of your measures at the top level of the cube by calling `cube.query()`:"
   ]
  },
  {
   "cell_type": "code",
   "execution_count": null,
   "metadata": {},
   "outputs": [],
   "source": [
    "import atoti as tt\n",
    "\n",
    "session = tt.create_session()\n",
    "store = session.read_csv(\"data/example.csv\", keys=[\"ID\"], store_name=\"First\")\n",
    "cube = session.create_cube(store, \"FirstCube\")\n",
    "lvl = cube.levels\n",
    "m = cube.measures\n",
    "hier = cube.hierarchies\n",
    "cube.query()"
   ]
  },
  {
   "cell_type": "markdown",
   "metadata": {},
   "source": [
    "`SUM` and `MEAN` aggregations are automatically created for numeric columns.\n",
    "\n",
    "Calling `cube.query()` will display the value of the measure at the top level.\n",
    "It's also possible to specify levels to split the cube:"
   ]
  },
  {
   "cell_type": "code",
   "execution_count": null,
   "metadata": {},
   "outputs": [],
   "source": [
    "cube.query(m[\"Quantity.SUM\"], levels=[lvl[\"Continent\"], lvl[\"Country\"]])"
   ]
  },
  {
   "cell_type": "markdown",
   "metadata": {},
   "source": [
    "You can also filter on levels:"
   ]
  },
  {
   "cell_type": "code",
   "execution_count": null,
   "metadata": {},
   "outputs": [],
   "source": [
    "cube.query(\n",
    "    m[\"Quantity.SUM\"],\n",
    "    levels=[lvl[\"Continent\"], lvl[\"Country\"]],\n",
    "    condition=(lvl[\"Country\"] == \"France\"),\n",
    ")"
   ]
  },
  {
   "cell_type": "markdown",
   "metadata": {},
   "source": [
    "## Aggregation functions\n",
    "\n",
    "The available aggregation functions are:"
   ]
  },
  {
   "cell_type": "code",
   "execution_count": null,
   "metadata": {},
   "outputs": [],
   "source": [
    "from inspect import getmembers, isfunction\n",
    "\n",
    "[member[0] for member in getmembers(tt.agg) if isfunction(member[1])]"
   ]
  },
  {
   "cell_type": "code",
   "execution_count": null,
   "metadata": {},
   "outputs": [],
   "source": [
    "m[\"Quantity.MIN\"] = tt.agg.min(store[\"Quantity\"])\n",
    "m[\"Quantity.MAX\"] = tt.agg.max(store[\"Quantity\"])\n",
    "m[\"Quantity.LONG\"] = tt.agg.long(store[\"Quantity\"])\n",
    "m[\"Quantity.SHORT\"] = tt.agg.short(store[\"Quantity\"])\n",
    "cube.query(levels=[lvl[\"Country\"]])"
   ]
  },
  {
   "cell_type": "code",
   "execution_count": null,
   "metadata": {},
   "outputs": [],
   "source": [
    "m[\"Quantity running sum\"] = tt.agg.sum(\n",
    "    m[\"Quantity.SUM\"], scope=tt.scope.cumulative(lvl[\"ID\"])\n",
    ")\n",
    "cube.query(m[\"Quantity running sum\"], levels=[lvl[\"ID\"]])"
   ]
  },
  {
   "cell_type": "code",
   "execution_count": null,
   "metadata": {},
   "outputs": [],
   "source": [
    "m[\"Distinct City\"] = tt.agg.count_distinct(store[\"City\"])"
   ]
  },
  {
   "cell_type": "code",
   "execution_count": null,
   "metadata": {},
   "outputs": [],
   "source": [
    "m[\"Quantile 95\"] = tt.agg.quantile(store[\"Quantity\"], 0.95)\n",
    "m[\"Quantile 20\"] = tt.agg.quantile(store[\"Quantity\"], 0.20)\n",
    "cube.query(m[\"Quantile 95\"], m[\"Quantile 20\"], levels=[lvl[\"Continent\"]])"
   ]
  },
  {
   "cell_type": "markdown",
   "metadata": {},
   "source": [
    "Statistics aggregations"
   ]
  },
  {
   "cell_type": "code",
   "execution_count": null,
   "metadata": {},
   "outputs": [],
   "source": [
    "m[\"Quantity variance\"] = tt.agg.var(store[\"Quantity\"], mode=\"sample\")\n",
    "m[\"Quantity standard deviation\"] = tt.agg.std(store[\"Quantity\"], mode=\"sample\")\n",
    "cube.query(m[\"Quantity variance\"], m[\"Quantity standard deviation\"])"
   ]
  },
  {
   "cell_type": "markdown",
   "metadata": {},
   "source": [
    "### MaxMember / MinMember\n",
    "\n",
    "`max_member` and `min_member` search for the specified extremum of the given measure and return the member of the specified level for which the extremum is reached."
   ]
  },
  {
   "cell_type": "code",
   "execution_count": null,
   "metadata": {},
   "outputs": [],
   "source": [
    "m[\"MinMember of Price.SUM\"] = tt.agg.min_member(m[\"Price.SUM\"], lvl[\"City\"])\n",
    "m[\"MaxMember of Price.SUM\"] = tt.agg.max_member(m[\"Price.SUM\"], lvl[\"City\"])\n",
    "\n",
    "cube.query(m[\"MinMember of Price.SUM\"], m[\"MaxMember of Price.SUM\"])"
   ]
  },
  {
   "cell_type": "markdown",
   "metadata": {},
   "source": [
    "No matter which level you execute the query on, the argmin is always performed at the level specified when defining the measure"
   ]
  },
  {
   "cell_type": "code",
   "execution_count": null,
   "metadata": {},
   "outputs": [],
   "source": [
    "cube.query(\n",
    "    m[\"MinMember of Price.SUM\"],\n",
    "    m[\"MaxMember of Price.SUM\"],\n",
    "    levels=[lvl[\"Continent\"], lvl[\"Country\"]],\n",
    ")"
   ]
  },
  {
   "cell_type": "markdown",
   "metadata": {},
   "source": [
    "## Delete a measure\n",
    "\n",
    "Any measure can be removed from the cube using `del`"
   ]
  },
  {
   "cell_type": "code",
   "execution_count": null,
   "metadata": {},
   "outputs": [],
   "source": [
    "\"Quantity running sum\" in m"
   ]
  },
  {
   "cell_type": "code",
   "execution_count": null,
   "metadata": {},
   "outputs": [],
   "source": [
    "del m[\"Quantity running sum\"]\n",
    "\"Quantity running sum\" in m"
   ]
  },
  {
   "cell_type": "markdown",
   "metadata": {},
   "source": [
    "## Different aggregations per level\n",
    "\n",
    "It's possible to aggregate a column differently depending on whether we are above or below a certain level.\n",
    "\n",
    "For example, you can sum a quantity for each country and then take the average over all the countries:"
   ]
  },
  {
   "cell_type": "code",
   "execution_count": null,
   "metadata": {},
   "outputs": [],
   "source": [
    "m[\"Average per country\"] = tt.agg.mean(\n",
    "    m[\"Quantity.SUM\"], scope=tt.scope.origin(lvl[\"Country\"])\n",
    ")\n",
    "cube.query(m[\"Average per country\"], levels=[lvl[\"Country\"]])"
   ]
  },
  {
   "cell_type": "code",
   "execution_count": null,
   "metadata": {},
   "outputs": [],
   "source": [
    "cube.query(m[\"Average per country\"])"
   ]
  },
  {
   "cell_type": "markdown",
   "metadata": {},
   "source": [
    "## Calculated measures\n",
    "\n",
    "Measures can be combined together to build more complex measures:"
   ]
  },
  {
   "cell_type": "code",
   "execution_count": null,
   "metadata": {},
   "outputs": [],
   "source": [
    "m[\"Turnover\"] = tt.agg.sum(m[\"Quantity.SUM\"] * store[\"Price\"])\n",
    "cube.query(levels=[lvl[\"Country\"]])"
   ]
  },
  {
   "cell_type": "markdown",
   "metadata": {},
   "source": [
    "## Multidimensional Functions\n",
    "\n",
    "### Parent Value"
   ]
  },
  {
   "cell_type": "code",
   "execution_count": null,
   "metadata": {},
   "outputs": [],
   "source": [
    "# Create multi-level hierarchy :\n",
    "lvl = cube.levels\n",
    "cube.hierarchies[\"Geography\"] = {\n",
    "    \"continent\": lvl[\"Continent\"],\n",
    "    \"country\": lvl[\"Country\"],\n",
    "    \"city\": lvl[\"City\"],\n",
    "}"
   ]
  },
  {
   "cell_type": "code",
   "execution_count": null,
   "metadata": {},
   "outputs": [],
   "source": [
    "help(tt.parent_value)"
   ]
  },
  {
   "cell_type": "code",
   "execution_count": null,
   "metadata": {},
   "outputs": [],
   "source": [
    "m[\"Parent quantity\"] = tt.parent_value(m[\"Quantity.SUM\"], on=hier[\"Geography\"])"
   ]
  },
  {
   "cell_type": "markdown",
   "metadata": {},
   "source": [
    "We can check that the value on countries is equal to the `Quantity.SUM` on their continent :"
   ]
  },
  {
   "cell_type": "code",
   "execution_count": null,
   "metadata": {},
   "outputs": [],
   "source": [
    "cube.query(m[\"Parent quantity\"], levels=[lvl[\"continent\"], lvl[\"country\"]])"
   ]
  },
  {
   "cell_type": "code",
   "execution_count": null,
   "metadata": {},
   "outputs": [],
   "source": [
    "cube.query(m[\"Quantity.SUM\"], levels=[lvl[\"continent\"]])"
   ]
  },
  {
   "cell_type": "markdown",
   "metadata": {},
   "source": [
    "### Aggregate siblings\n",
    "\n",
    "Siblings are all the children of the same member. For instance France and UK are children of Europe so France and UK are siblings."
   ]
  },
  {
   "cell_type": "code",
   "execution_count": null,
   "metadata": {},
   "outputs": [],
   "source": [
    "m[\"Sum siblings\"] = tt.agg.sum(\n",
    "    m[\"Quantity.SUM\"], scope=tt.scope.siblings(hier[\"Geography\"])\n",
    ")\n",
    "cube.query(m[\"Sum siblings\"], levels=[lvl[\"country\"], lvl[\"city\"]])"
   ]
  },
  {
   "cell_type": "code",
   "execution_count": null,
   "metadata": {},
   "outputs": [],
   "source": [
    "m[\"Average siblings\"] = tt.agg.mean(\n",
    "    m[\"Quantity.SUM\"], scope=tt.scope.siblings(hier[\"Geography\"])\n",
    ")\n",
    "cube.query(m[\"Average siblings\"], levels=[lvl[\"country\"], lvl[\"city\"]])"
   ]
  },
  {
   "cell_type": "markdown",
   "metadata": {},
   "source": [
    "### Shift\n",
    "\n",
    "`shift` allows to get the value of previous or next members on a level"
   ]
  },
  {
   "cell_type": "code",
   "execution_count": null,
   "metadata": {},
   "outputs": [],
   "source": [
    "m[\"next quantity\"] = tt.shift(m[\"Quantity.SUM\"], on=lvl[\"Date\"], offset=1)\n",
    "cube.query(m[\"next quantity\"], levels=[lvl[\"Date\"]])"
   ]
  },
  {
   "cell_type": "code",
   "execution_count": null,
   "metadata": {},
   "outputs": [],
   "source": [
    "cube.query(m[\"Quantity.SUM\"], levels=[lvl[\"Date\"]])"
   ]
  },
  {
   "cell_type": "markdown",
   "metadata": {},
   "source": [
    "### Filter\n",
    "\n",
    "`filter` allows you to only express the measure where certain conditions are met.  \n",
    "You can only use conditions on **levels** with `filter`. If you want to use conditions involving measures you should use `where`.\n",
    "\n",
    "You can combine conditions with the `&` bitwise operator."
   ]
  },
  {
   "cell_type": "code",
   "execution_count": null,
   "metadata": {},
   "outputs": [],
   "source": [
    "m[\"Filtered Quantity.SUM\"] = tt.filter(\n",
    "    m[\"Quantity.SUM\"], (lvl[\"City\"] == \"Paris\") & (lvl[\"Color\"] == \"red\")\n",
    ")\n",
    "cube.query(\n",
    "    m[\"Quantity.SUM\"], m[\"Filtered Quantity.SUM\"], levels=[lvl[\"Country\"], lvl[\"Color\"]]\n",
    ")"
   ]
  },
  {
   "cell_type": "markdown",
   "metadata": {},
   "source": [
    "### Where\n",
    "\n",
    "`where` defines an if-then-else measure whose value depends on certain conditions. It is similar to numpy's [where](https://docs.scipy.org/doc/numpy/reference/generated/numpy.where.html) function."
   ]
  },
  {
   "cell_type": "code",
   "execution_count": null,
   "metadata": {},
   "outputs": [],
   "source": [
    "# Label large amounts\n",
    "m[\"Large quantities\"] = tt.where(m[\"Quantity.SUM\"] >= 3000, \"large\", \"small\")\n",
    "\n",
    "# Double up UK's quantities\n",
    "m[\"Double UK\"] = tt.where(\n",
    "    lvl[\"Country\"] == \"UK\", 2 * m[\"Quantity.SUM\"], m[\"Quantity.SUM\"]\n",
    ")\n",
    "\n",
    "cube.query(\n",
    "    m[\"Quantity.SUM\"],\n",
    "    m[\"Large quantities\"],\n",
    "    m[\"Double UK\"],\n",
    "    levels=[lvl[\"Country\"], lvl[\"Color\"]],\n",
    ")"
   ]
  },
  {
   "cell_type": "markdown",
   "metadata": {},
   "source": [
    "### At\n",
    "\n",
    "`at` takes the value of the given measure shifted on one of the level to the given value.\n",
    "\n",
    "The value can be a literal value or the value of another level"
   ]
  },
  {
   "cell_type": "code",
   "execution_count": null,
   "metadata": {},
   "outputs": [],
   "source": [
    "m[\"Blue Quantity\"] = tt.at(m[\"Quantity.SUM\"], {lvl[\"Color\"]: \"blue\"})\n",
    "cube.query(m[\"Quantity.SUM\"], m[\"Blue Quantity\"], levels=[lvl[\"Color\"]])"
   ]
  },
  {
   "cell_type": "markdown",
   "metadata": {},
   "source": [
    "The measure is null if the level is not expressed"
   ]
  },
  {
   "cell_type": "code",
   "execution_count": null,
   "metadata": {},
   "outputs": [],
   "source": [
    "cube.query(m[\"Quantity.SUM\"], m[\"Blue Quantity\"])"
   ]
  },
  {
   "cell_type": "markdown",
   "metadata": {},
   "source": [
    "In a multilevel hierarchy, only the shifted level is changed.\n",
    "For instance if we shift the country to \"France\", [Europe, UK] is shifted to [Europe,France] and [Asia,China] is shifted to [Asia,France] which does not exist."
   ]
  },
  {
   "cell_type": "code",
   "execution_count": null,
   "metadata": {},
   "outputs": [],
   "source": [
    "m[\"France Quantity Fail\"] = tt.at(m[\"Quantity.SUM\"], {lvl[\"country\"]: \"France\"})\n",
    "cube.query(\n",
    "    m[\"Quantity.SUM\"],\n",
    "    m[\"France Quantity Fail\"],\n",
    "    levels=[lvl[\"continent\"], lvl[\"country\"]],\n",
    ")"
   ]
  },
  {
   "cell_type": "markdown",
   "metadata": {},
   "source": [
    "The expected value can be obtained by shifting both levels to the requested values as follow."
   ]
  },
  {
   "cell_type": "code",
   "execution_count": null,
   "metadata": {},
   "outputs": [],
   "source": [
    "m[\"France Quantity\"] = tt.at(\n",
    "    m[\"Quantity.SUM\"], {lvl[\"country\"]: \"France\", lvl[\"continent\"]: \"Europe\"}\n",
    ")\n",
    "cube.query(\n",
    "    m[\"Quantity.SUM\"], m[\"France Quantity\"], levels=[lvl[\"continent\"], lvl[\"country\"]]\n",
    ")"
   ]
  },
  {
   "cell_type": "markdown",
   "metadata": {},
   "source": [
    "## Other Functions"
   ]
  },
  {
   "cell_type": "markdown",
   "metadata": {},
   "source": [
    "### Mathematical functions"
   ]
  },
  {
   "cell_type": "markdown",
   "metadata": {},
   "source": [
    "`round`, `floor`, and `ceil`: closest, lower, and upper rounding of double values"
   ]
  },
  {
   "cell_type": "code",
   "execution_count": null,
   "metadata": {},
   "outputs": [],
   "source": [
    "m[\"round\"] = tt.round(m[\"Quantity.SUM\"] / 1000) * 1000\n",
    "m[\"floor\"] = tt.floor(m[\"Quantity.SUM\"] / 1000) * 1000\n",
    "m[\"ceil\"] = tt.ceil(m[\"Quantity.SUM\"] / 1000) * 1000\n",
    "cube.query(\n",
    "    m[\"Quantity.SUM\"], m[\"floor\"], m[\"ceil\"], m[\"round\"], levels=[lvl[\"Country\"]]\n",
    ")"
   ]
  },
  {
   "cell_type": "markdown",
   "metadata": {},
   "source": [
    "`exp`: Exponential is Euler's number `e` raised to the power of a double value."
   ]
  },
  {
   "cell_type": "code",
   "execution_count": null,
   "metadata": {},
   "outputs": [],
   "source": [
    "m[\"Zero\"] = 0.0\n",
    "m[\"One\"] = tt.exp(m[\"Zero\"])"
   ]
  },
  {
   "cell_type": "markdown",
   "metadata": {},
   "source": [
    "`log`: the natural (base `e`) logarithm"
   ]
  },
  {
   "cell_type": "code",
   "execution_count": null,
   "metadata": {},
   "outputs": [],
   "source": [
    "m[\"Log Quantity\"] = tt.log(m[\"Quantity.SUM\"])\n",
    "cube.query(m[\"Log Quantity\"], levels=[lvl[\"Country\"]])"
   ]
  },
  {
   "cell_type": "markdown",
   "metadata": {},
   "source": [
    "`log10`: the base 10 logarithm"
   ]
  },
  {
   "cell_type": "code",
   "execution_count": null,
   "metadata": {},
   "outputs": [],
   "source": [
    "m[\"Log10 Quantity\"] = tt.log10(m[\"Quantity.SUM\"])\n",
    "cube.query(m[\"Log10 Quantity\"], levels=[lvl[\"Country\"]])"
   ]
  },
  {
   "cell_type": "markdown",
   "metadata": {},
   "source": [
    "`abs`: the absolute value of a given measure"
   ]
  },
  {
   "cell_type": "code",
   "execution_count": null,
   "metadata": {},
   "outputs": [],
   "source": [
    "m[\"Negative\"] = -1 * m[\"Quantity.SUM\"]\n",
    "m[\"abs\"] = tt.abs(m[\"Negative\"])\n",
    "cube.query(m[\"abs\"])"
   ]
  },
  {
   "cell_type": "markdown",
   "metadata": {},
   "source": [
    "`sin`: the sinus value of a given measure"
   ]
  },
  {
   "cell_type": "code",
   "execution_count": null,
   "metadata": {},
   "outputs": [],
   "source": [
    "m[\"Sinus Quantity\"] = tt.sin(m[\"Quantity.SUM\"])\n",
    "cube.query(m[\"Sinus Quantity\"], levels=[lvl[\"Country\"]])"
   ]
  },
  {
   "cell_type": "markdown",
   "metadata": {},
   "source": [
    "`cos`: the cosinus value of a given measure"
   ]
  },
  {
   "cell_type": "code",
   "execution_count": null,
   "metadata": {},
   "outputs": [],
   "source": [
    "m[\"Cosinus Quantity\"] = tt.cos(m[\"Quantity.SUM\"])\n",
    "cube.query(m[\"Cosinus Quantity\"], levels=[lvl[\"Country\"]])"
   ]
  },
  {
   "cell_type": "markdown",
   "metadata": {},
   "source": [
    "`tan`: the tangent value of a given measure"
   ]
  },
  {
   "cell_type": "code",
   "execution_count": null,
   "metadata": {},
   "outputs": [],
   "source": [
    "m[\"Tangent Quantity\"] = tt.tan(m[\"Quantity.SUM\"])\n",
    "cube.query(m[\"Tangent Quantity\"], levels=[lvl[\"Country\"]])"
   ]
  },
  {
   "cell_type": "markdown",
   "metadata": {},
   "source": [
    "`pow`: the calculated power value of a given measure"
   ]
  },
  {
   "cell_type": "code",
   "execution_count": null,
   "metadata": {},
   "outputs": [],
   "source": [
    "m[\"Power int Quantity\"] = m[\"Quantity.SUM\"] ** 2\n",
    "cube.query(m[\"Power int Quantity\"], levels=[lvl[\"Country\"]])"
   ]
  },
  {
   "cell_type": "code",
   "execution_count": null,
   "metadata": {},
   "outputs": [],
   "source": [
    "m[\"Power float Quantity\"] = m[\"Quantity.SUM\"] ** 0.5\n",
    "cube.query(m[\"Power float Quantity\"], levels=[lvl[\"Country\"]])"
   ]
  },
  {
   "cell_type": "code",
   "execution_count": null,
   "metadata": {},
   "outputs": [],
   "source": [
    "m[\"Power measure Quantity\"] = m[\"Quantity.SUM\"] ** m[\"Quantity.SUM\"]\n",
    "cube.query(m[\"Power measure Quantity\"], levels=[lvl[\"Country\"]])"
   ]
  },
  {
   "cell_type": "code",
   "execution_count": null,
   "metadata": {},
   "outputs": [],
   "source": [
    "m[\"Power neg Quantity\"] = m[\"Quantity.SUM\"] ** -3\n",
    "cube.query(m[\"Power neg Quantity\"], levels=[lvl[\"Country\"]])"
   ]
  },
  {
   "cell_type": "markdown",
   "metadata": {},
   "source": [
    "`sqrt`: the square root value of a given measure"
   ]
  },
  {
   "cell_type": "code",
   "execution_count": null,
   "metadata": {},
   "outputs": [],
   "source": [
    "m[\"Sqrt Quantity\"] = tt.sqrt(m[\"Quantity.SUM\"])\n",
    "cube.query(m[\"Sqrt Quantity\"], levels=[lvl[\"Country\"]])"
   ]
  },
  {
   "cell_type": "markdown",
   "metadata": {},
   "source": [
    "### Time functions"
   ]
  },
  {
   "cell_type": "markdown",
   "metadata": {},
   "source": [
    "`date_diff` is the number of days between 2 dates:"
   ]
  },
  {
   "cell_type": "code",
   "execution_count": null,
   "metadata": {},
   "outputs": [],
   "source": [
    "from datetime import datetime\n",
    "\n",
    "lvl = cube.levels\n",
    "m[\"Days from today\"] = tt.date_diff(datetime.now().date(), lvl[\"Date\"])\n",
    "cube.query(m[\"Days from today\"], levels=[lvl[\"Date\"]])"
   ]
  },
  {
   "cell_type": "markdown",
   "metadata": {},
   "source": [
    "### Measure Folder\n",
    "\n",
    "Measures can be put into folders to group them in the UI."
   ]
  },
  {
   "cell_type": "code",
   "execution_count": null,
   "metadata": {},
   "outputs": [],
   "source": [
    "for name in [\n",
    "    \"Quantity.SUM\",\n",
    "    \"Quantity.MEAN\",\n",
    "    \"Quantity.LONG\",\n",
    "    \"Quantity.MAX\",\n",
    "    \"Quantity.MIN\",\n",
    "    \"Quantity.SHORT\",\n",
    "]:\n",
    "    m[name].folder = \"Quantity\""
   ]
  },
  {
   "cell_type": "code",
   "execution_count": null,
   "metadata": {},
   "outputs": [],
   "source": [
    "m[\"Quantity.SUM\"].folder"
   ]
  },
  {
   "cell_type": "markdown",
   "metadata": {},
   "source": [
    "### Measure formatter\n",
    "\n",
    "Measures have formatters describing how to represent them as strings. These formatters can be modified in Python or directly in the UI. Here are a few examples of what is possible, more documentation on how to write an MDX formatter can be found on [docs.microsoft.com](https://docs.microsoft.com/en-us/analysis-services/multidimensional-models/mdx/mdx-cell-properties-format-string-contents?view=sql-server-2017)."
   ]
  },
  {
   "cell_type": "code",
   "execution_count": null,
   "metadata": {},
   "outputs": [],
   "source": [
    "# Convert to thousands\n",
    "m[\"Quantity.SUM\"].formatter = \"DOUBLE[#,###,K]\"\n",
    "\n",
    "# Add a unit\n",
    "m[\"Price.SUM\"].formatter = \"DOUBLE[#,###.00€]\"\n",
    "\n",
    "# Add more decimal figures\n",
    "m[\"Quantity.MEAN\"].formatter = \"DOUBLE[#,###.0000]\"\n",
    "\n",
    "# Display as percent\n",
    "m[\"Percent of parent\"] = m[\"Quantity.SUM\"] / m[\"Parent quantity\"]\n",
    "m[\"Percent of parent\"].formatter = \"DOUBLE[#,###.00%]\""
   ]
  },
  {
   "cell_type": "markdown",
   "metadata": {},
   "source": [
    "![Launcher](images/ui-formatters.png)"
   ]
  }
 ],
 "metadata": {
  "kernelspec": {
   "display_name": "Python 3",
   "language": "python",
   "name": "python3"
  },
  "language_info": {
   "codemirror_mode": {
    "name": "ipython",
    "version": 3
   },
   "file_extension": ".py",
   "mimetype": "text/x-python",
   "name": "python",
   "nbconvert_exporter": "python",
   "pygments_lexer": "ipython3",
   "version": "3.7.3"
  }
 },
 "nbformat": 4,
 "nbformat_minor": 4
}
