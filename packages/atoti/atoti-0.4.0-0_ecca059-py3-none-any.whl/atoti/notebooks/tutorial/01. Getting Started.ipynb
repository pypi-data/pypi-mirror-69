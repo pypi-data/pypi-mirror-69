{
 "cells": [
  {
   "cell_type": "markdown",
   "metadata": {},
   "source": [
    "# Getting Started\n",
    "\n",
    "This is a short tutorial to get started with atoti and learn the very basics.\n",
    "We encourage you to copy this notebook in your workspace, replay it and even modify it.\n",
    "\n",
    "## Session and imports\n",
    "\n",
    "A session holds a connection to a Java subprocess where all the data is stored and the computation takes place.\n",
    "\n",
    "Start by importing atoti and creating your session:"
   ]
  },
  {
   "cell_type": "code",
   "execution_count": null,
   "metadata": {},
   "outputs": [],
   "source": [
    "import atoti as tt\n",
    "\n",
    "session = tt.create_session()"
   ]
  },
  {
   "cell_type": "markdown",
   "metadata": {},
   "source": [
    "## Data sources and stores\n",
    "\n",
    "Several data sources (CSV, Parquet, pandas...) are available to load data into atoti stores. They are all described in the \"Data sources\" part of the tutorial, this _Getting started_ will only use CSV files.\n",
    "\n",
    "When loading a source into a store you must specifiy one or more key columns.\n",
    "\n",
    "It's advised to do data cleaning before loading the data into a store (for example in pandas or directly in your CSV file)."
   ]
  },
  {
   "cell_type": "code",
   "execution_count": null,
   "metadata": {},
   "outputs": [],
   "source": [
    "first_store = session.read_csv(\"data/example.csv\", keys=[\"ID\"], store_name=\"First\")"
   ]
  },
  {
   "cell_type": "markdown",
   "metadata": {},
   "source": [
    "You can retrieve the first rows of the store with `head`:"
   ]
  },
  {
   "cell_type": "code",
   "execution_count": null,
   "metadata": {},
   "outputs": [],
   "source": [
    "first_store.head()"
   ]
  },
  {
   "cell_type": "markdown",
   "metadata": {},
   "source": [
    "You can view a store's columns with `columns`"
   ]
  },
  {
   "cell_type": "code",
   "execution_count": null,
   "metadata": {},
   "outputs": [],
   "source": [
    "first_store.columns"
   ]
  },
  {
   "cell_type": "markdown",
   "metadata": {},
   "source": [
    "### References\n",
    "\n",
    "A reference is a link between 2 stores.\n",
    "\n",
    "You can specify the column mapping of the reference or use the default one which are the columns with the same name in your stores:"
   ]
  },
  {
   "cell_type": "code",
   "execution_count": null,
   "metadata": {},
   "outputs": [],
   "source": [
    "capitals_store = session.read_csv(\n",
    "    \"data/capitals.csv\", keys=[\"Country name\"], store_name=\"Capitals\"\n",
    ")"
   ]
  },
  {
   "cell_type": "code",
   "execution_count": null,
   "metadata": {},
   "outputs": [],
   "source": [
    "capitals_store.head()"
   ]
  },
  {
   "cell_type": "code",
   "execution_count": null,
   "metadata": {},
   "outputs": [],
   "source": [
    "first_store.join(capitals_store, mapping={\"Country\": \"Country name\"})"
   ]
  },
  {
   "cell_type": "markdown",
   "metadata": {},
   "source": [
    "## Cubes\n",
    "\n",
    "A cube can be defined on a store.\n",
    "\n",
    "All the non-numerical columns of the store and the referenced stores will be converted to single level dimensions.\n",
    "Default measures will be created from numerical columns."
   ]
  },
  {
   "cell_type": "code",
   "execution_count": null,
   "metadata": {},
   "outputs": [],
   "source": [
    "cube = session.create_cube(first_store, \"FirstCube\")"
   ]
  },
  {
   "cell_type": "code",
   "execution_count": null,
   "metadata": {},
   "outputs": [],
   "source": [
    "m = cube.measures\n",
    "cube.query()"
   ]
  },
  {
   "cell_type": "code",
   "execution_count": null,
   "metadata": {},
   "outputs": [],
   "source": [
    "lvl = cube.levels\n",
    "h = cube.hierarchies\n",
    "h"
   ]
  },
  {
   "cell_type": "markdown",
   "metadata": {},
   "source": [
    "## Measures\n",
    "\n",
    "New custom measures can be added to your cube.\n",
    "\n",
    "You will learn more about what is possible in the measure tutorial."
   ]
  },
  {
   "cell_type": "code",
   "execution_count": null,
   "metadata": {},
   "outputs": [],
   "source": [
    "m[\"Half quantity\"] = tt.agg.sum(first_store[\"Quantity\"]) / 2\n",
    "cube.query(m[\"Half quantity\"])"
   ]
  },
  {
   "cell_type": "markdown",
   "metadata": {},
   "source": [
    "## Interactive visualization\n",
    "\n",
    "There are 2 ways to do interactive dataviz: with the JupyterLab extension and with the atoti application.\n",
    "\n",
    "### JupyterLab extension\n",
    "\n",
    "When our JupyterLab extension is installed, you can build interactive widgets right there in your notebook:\n",
    "\n",
    "![cube.visualize()](images/cube-visualize.png)\n",
    "\n",
    "### atoti Application\n",
    "\n",
    "This is our dashboarding suite. Its URL can be retrieved from the session:"
   ]
  },
  {
   "cell_type": "code",
   "execution_count": null,
   "metadata": {},
   "outputs": [],
   "source": [
    "session.url"
   ]
  }
 ],
 "metadata": {
  "kernelspec": {
   "display_name": "Python 3",
   "language": "python",
   "name": "python3"
  },
  "language_info": {
   "codemirror_mode": {
    "name": "ipython",
    "version": 3
   },
   "file_extension": ".py",
   "mimetype": "text/x-python",
   "name": "python",
   "nbconvert_exporter": "python",
   "pygments_lexer": "ipython3",
   "version": "3.7.5"
  }
 },
 "nbformat": 4,
 "nbformat_minor": 4
}
