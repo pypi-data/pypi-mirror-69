{
 "cells": [
  {
   "cell_type": "markdown",
   "metadata": {},
   "source": [
    "# Array measures\n",
    "\n",
    "atoti is optimized to handle array data\n",
    "\n",
    "## Loading arrays from CSV\n",
    "\n",
    "atoti can load array from CSV files. The separator for array elements must be provided to the `read_csv` method, and the CSV columns must use another separator. All the arrays should have the same length."
   ]
  },
  {
   "cell_type": "code",
   "execution_count": null,
   "metadata": {},
   "outputs": [],
   "source": [
    "import atoti as tt\n",
    "\n",
    "session = tt.create_session()"
   ]
  },
  {
   "cell_type": "code",
   "execution_count": null,
   "metadata": {},
   "outputs": [],
   "source": [
    "store = session.read_csv(\n",
    "    \"data/arrays.csv\", keys=[\"TradeId\"], store_name=\"Store With Arrays\", array_sep=\";\"\n",
    ")\n",
    "store.head()"
   ]
  },
  {
   "cell_type": "code",
   "execution_count": null,
   "metadata": {},
   "outputs": [],
   "source": [
    "cube = session.create_cube(store, \"Cube\")"
   ]
  },
  {
   "cell_type": "markdown",
   "metadata": {},
   "source": [
    "## Arrays default aggregations\n",
    "\n",
    "atoti provides default aggregation functions on arrays: `SUM` and `MEAN`. They are applied element by element on the array."
   ]
  },
  {
   "cell_type": "code",
   "execution_count": null,
   "metadata": {},
   "outputs": [],
   "source": [
    "lvl = cube.levels\n",
    "m = cube.measures\n",
    "cube.query(m[\"PnlArray.SUM\"], levels=lvl[\"Continent\"])"
   ]
  },
  {
   "cell_type": "code",
   "execution_count": null,
   "metadata": {},
   "outputs": [],
   "source": [
    "cube.query(m[\"PnlArray.MEAN\"], levels=lvl[\"Continent\"])"
   ]
  },
  {
   "cell_type": "markdown",
   "metadata": {},
   "source": [
    "## Additional array functions\n",
    "\n",
    "### Sum, Average, Min or Max of all the array elements"
   ]
  },
  {
   "cell_type": "code",
   "execution_count": null,
   "metadata": {},
   "outputs": [],
   "source": [
    "m[\"sum vect\"] = tt.array.sum(m[\"PnlArray.SUM\"])\n",
    "cube.query(m[\"sum vect\"], levels=lvl[\"Continent\"])"
   ]
  },
  {
   "cell_type": "code",
   "execution_count": null,
   "metadata": {},
   "outputs": [],
   "source": [
    "m[\"mean vect\"] = tt.array.mean(m[\"PnlArray.SUM\"])\n",
    "cube.query(m[\"mean vect\"], levels=lvl[\"Continent\"])"
   ]
  },
  {
   "cell_type": "code",
   "execution_count": null,
   "metadata": {},
   "outputs": [],
   "source": [
    "m[\"min vect\"] = tt.array.min(m[\"PnlArray.SUM\"])\n",
    "cube.query(m[\"min vect\"], levels=lvl[\"Continent\"])"
   ]
  },
  {
   "cell_type": "code",
   "execution_count": null,
   "metadata": {},
   "outputs": [],
   "source": [
    "m[\"max vect\"] = tt.array.max(m[\"PnlArray.SUM\"])\n",
    "cube.query(m[\"max vect\"], levels=lvl[\"Continent\"])"
   ]
  },
  {
   "cell_type": "markdown",
   "metadata": {},
   "source": [
    "### Length"
   ]
  },
  {
   "cell_type": "code",
   "execution_count": null,
   "metadata": {},
   "outputs": [],
   "source": [
    "m[\"length\"] = tt.array.len(m[\"PnlArray.SUM\"])\n",
    "cube.query(m[\"length\"])"
   ]
  },
  {
   "cell_type": "markdown",
   "metadata": {},
   "source": [
    "### Variance and Standard Deviation"
   ]
  },
  {
   "cell_type": "code",
   "execution_count": null,
   "metadata": {},
   "outputs": [],
   "source": [
    "m[\"variance\"] = tt.array.var(m[\"PnlArray.SUM\"])\n",
    "m[\"standard deviation\"] = tt.array.std(m[\"PnlArray.SUM\"])\n",
    "cube.query(m[\"variance\"], m[\"standard deviation\"], levels=lvl[\"Continent\"])"
   ]
  },
  {
   "cell_type": "markdown",
   "metadata": {},
   "source": [
    "### Sort"
   ]
  },
  {
   "cell_type": "code",
   "execution_count": null,
   "metadata": {},
   "outputs": [],
   "source": [
    "m[\"sort\"] = tt.array.sort(m[\"PnlArray.SUM\"])\n",
    "cube.query(m[\"sort\"], levels=lvl[\"Continent\"])"
   ]
  },
  {
   "cell_type": "markdown",
   "metadata": {},
   "source": [
    "### Quantile"
   ]
  },
  {
   "cell_type": "code",
   "execution_count": null,
   "metadata": {},
   "outputs": [],
   "source": [
    "m[\"95 quantile\"] = tt.array.quantile(m[\"PnlArray.SUM\"], 0.95, mode=\"simple\")\n",
    "m[\"95 exc quantile\"] = tt.array.quantile(m[\"PnlArray.SUM\"], 0.95, mode=\"exc\")\n",
    "m[\"95 inc quantile\"] = tt.array.quantile(m[\"PnlArray.SUM\"], 0.95, mode=\"inc\")\n",
    "m[\"95 centered quantile\"] = tt.array.quantile(m[\"PnlArray.SUM\"], 0.95, mode=\"centered\")\n",
    "cube.query(\n",
    "    m[\"95 quantile\"],\n",
    "    m[\"95 exc quantile\"],\n",
    "    m[\"95 inc quantile\"],\n",
    "    m[\"95 centered quantile\"],\n",
    "    levels=[lvl[\"Continent\"], lvl[\"Country\"]],\n",
    ")"
   ]
  },
  {
   "cell_type": "code",
   "execution_count": null,
   "metadata": {},
   "outputs": [],
   "source": [
    "m[\"95 linear\"] = tt.array.quantile(\n",
    "    m[\"PnlArray.SUM\"], 0.95, mode=\"inc\", interpolation=\"linear\"\n",
    ")\n",
    "m[\"95 lower\"] = tt.array.quantile(\n",
    "    m[\"PnlArray.SUM\"], 0.95, mode=\"inc\", interpolation=\"lower\"\n",
    ")\n",
    "m[\"95 higher\"] = tt.array.quantile(\n",
    "    m[\"PnlArray.SUM\"], 0.95, mode=\"inc\", interpolation=\"higher\"\n",
    ")\n",
    "m[\"95 nearest\"] = tt.array.quantile(\n",
    "    m[\"PnlArray.SUM\"], 0.95, mode=\"inc\", interpolation=\"nearest\"\n",
    ")\n",
    "m[\"95 midpoint\"] = tt.array.quantile(\n",
    "    m[\"PnlArray.SUM\"], 0.95, mode=\"inc\", interpolation=\"midpoint\"\n",
    ")\n",
    "cube.query(\n",
    "    m[\"95 linear\"], m[\"95 lower\"], m[\"95 higher\"], m[\"95 nearest\"], m[\"95 midpoint\"]\n",
    ")"
   ]
  },
  {
   "cell_type": "markdown",
   "metadata": {},
   "source": [
    "### n greatest / n lowest\n",
    "\n",
    "Returns an array with the n greatest/lowest values of a another array."
   ]
  },
  {
   "cell_type": "code",
   "execution_count": null,
   "metadata": {},
   "outputs": [],
   "source": [
    "m[\"Top 3\"] = tt.array.n_greatest(m[\"PnlArray.SUM\"], 3)\n",
    "cube.query(m[\"Top 3\"])"
   ]
  },
  {
   "cell_type": "code",
   "execution_count": null,
   "metadata": {},
   "outputs": [],
   "source": [
    "m[\"Bottom 2\"] = tt.array.n_lowest(m[\"PnlArray.SUM\"], 2)\n",
    "cube.query(m[\"Bottom 2\"])"
   ]
  },
  {
   "cell_type": "markdown",
   "metadata": {},
   "source": [
    "### nth greatest value / nth lowest value\n",
    "\n",
    "Returns nth greatest or lowest value of a vector"
   ]
  },
  {
   "cell_type": "code",
   "execution_count": null,
   "metadata": {},
   "outputs": [],
   "source": [
    "m[\"Third largest value\"] = tt.array.nth_greatest(m[\"PnlArray.SUM\"], 3)\n",
    "cube.query(m[\"Third largest value\"])"
   ]
  },
  {
   "cell_type": "code",
   "execution_count": null,
   "metadata": {},
   "outputs": [],
   "source": [
    "m[\"Second smallest value\"] = tt.array.nth_lowest(m[\"PnlArray.SUM\"], 2)\n",
    "cube.query(m[\"Second smallest value\"])"
   ]
  },
  {
   "cell_type": "markdown",
   "metadata": {},
   "source": [
    "### Scale"
   ]
  },
  {
   "cell_type": "code",
   "execution_count": null,
   "metadata": {},
   "outputs": [],
   "source": [
    "m[\"scale x10\"] = m[\"PnlArray.SUM\"] * 10.0\n",
    "cube.query(m[\"scale x10\"])"
   ]
  },
  {
   "cell_type": "markdown",
   "metadata": {},
   "source": [
    "### Element at index\n",
    "\n",
    "Extract the element at a given index"
   ]
  },
  {
   "cell_type": "code",
   "execution_count": null,
   "metadata": {},
   "outputs": [],
   "source": [
    "m[\"first element\"] = m[\"PnlArray.SUM\"][0]\n",
    "cube.query(m[\"first element\"], m[\"PnlArray.SUM\"])"
   ]
  },
  {
   "cell_type": "markdown",
   "metadata": {},
   "source": [
    "With the `create_parameter_hierarchy` function it is possible to create a hierarchy corresponding to the indices of the array. This hierarchy can then be used to \"slice\" this array and create a measure which depends on the selected index."
   ]
  },
  {
   "cell_type": "code",
   "execution_count": null,
   "metadata": {},
   "outputs": [],
   "source": [
    "cube.create_parameter_hierarchy(\"index\", list(range(0, 10)))\n",
    "m[\"PnL at index\"] = m[\"PnlArray.SUM\"][lvl[\"index\"]]\n",
    "cube.query(m[\"PnL at index\"], levels=lvl[\"index\"])"
   ]
  },
  {
   "cell_type": "markdown",
   "metadata": {},
   "source": [
    "You can also build non-integer hierarchies and map each member to its index in the hierarchy using the `index_measure` argument:"
   ]
  },
  {
   "cell_type": "code",
   "execution_count": null,
   "metadata": {},
   "outputs": [],
   "source": [
    "from datetime import date, timedelta\n",
    "\n",
    "cube.create_parameter_hierarchy(\n",
    "    \"Vector Dates\",\n",
    "    [date(2020, 1, 1) + timedelta(days=x) for x in range(0, 10)],\n",
    "    index_measure=\"Date Index\",\n",
    ")\n",
    "m[\"PnL at date\"] = m[\"PnlArray.SUM\"][m[\"Date Index\"]]\n",
    "cube.query(m[\"Date Index\"], m[\"PnL at date\"], levels=lvl[\"Vector Dates\"])"
   ]
  },
  {
   "cell_type": "markdown",
   "metadata": {},
   "source": [
    "In cases the indices also need to be of arbitrary order or range, it is also possible to manually provide them as a list."
   ]
  },
  {
   "cell_type": "code",
   "execution_count": null,
   "metadata": {},
   "outputs": [],
   "source": [
    "cube.create_parameter_hierarchy(\n",
    "    \"Custom Vector Dates\",\n",
    "    [date(2020, 1, 1) + timedelta(days=x) for x in range(0, 10)],\n",
    "    indices=[9, 8, 7, 6, 5, 0, 1, 2, 3, 4],\n",
    "    index_measure=\"Custom Date Index\",\n",
    ")\n",
    "m[\"PnL at custom date\"] = m[\"PnlArray.SUM\"][m[\"Custom Date Index\"]]\n",
    "cube.query(\n",
    "    m[\"Custom Date Index\"], m[\"PnL at custom date\"], levels=lvl[\"Custom Vector Dates\"]\n",
    ")"
   ]
  },
  {
   "cell_type": "markdown",
   "metadata": {},
   "source": [
    "### Sub-arrays\n",
    "\n",
    "Extract a slice of the array"
   ]
  },
  {
   "cell_type": "code",
   "execution_count": null,
   "metadata": {},
   "outputs": [],
   "source": [
    "m[\"first 2 elements\"] = m[\"PnlArray.SUM\"][0:2]\n",
    "cube.query(m[\"first 2 elements\"], m[\"PnlArray.SUM\"])"
   ]
  },
  {
   "cell_type": "markdown",
   "metadata": {},
   "source": [
    "## Load DataFrame with lists\n",
    "\n",
    "atoti can load DataFrame containing numpy arrays and python list"
   ]
  },
  {
   "cell_type": "code",
   "execution_count": null,
   "metadata": {},
   "outputs": [],
   "source": [
    "import pandas as pd\n",
    "import numpy as np\n",
    "\n",
    "df = pd.DataFrame(\n",
    "    {\n",
    "        \"index\": [0, 1, 2],\n",
    "        \"python list\": [\n",
    "            [3.2, 1.0, 8, 9, 4.5, 7, 6, 18],\n",
    "            [4.2, 4.0, 4, 9, 4.5, 8, 7, 8],\n",
    "            [12, 1.0, 8, 9, 4.5, 7, 6, 18],\n",
    "        ],\n",
    "        \"numpy array\": [\n",
    "            np.array([3.2, 1.0, 8, 9, 4.5, 7, 6, 18]),\n",
    "            np.array([4.2, 4.0, 4, 9, 4.5, 8, 7, 8]),\n",
    "            np.array([12, 1.0, 8, 9, 4.5, 7, 6, 18]),\n",
    "        ],\n",
    "    }\n",
    ")"
   ]
  },
  {
   "cell_type": "code",
   "execution_count": null,
   "metadata": {},
   "outputs": [],
   "source": [
    "pd_store = session.read_pandas(df, \"Pandas\")\n",
    "pd_store"
   ]
  },
  {
   "cell_type": "code",
   "execution_count": null,
   "metadata": {},
   "outputs": [],
   "source": [
    "pd_store.head()"
   ]
  }
 ],
 "metadata": {
  "kernelspec": {
   "display_name": "Python 3",
   "language": "python",
   "name": "python3"
  },
  "language_info": {
   "codemirror_mode": {
    "name": "ipython",
    "version": 3
   },
   "file_extension": ".py",
   "mimetype": "text/x-python",
   "name": "python",
   "nbconvert_exporter": "python",
   "pygments_lexer": "ipython3",
   "version": "3.7.3"
  }
 },
 "nbformat": 4,
 "nbformat_minor": 4
}
