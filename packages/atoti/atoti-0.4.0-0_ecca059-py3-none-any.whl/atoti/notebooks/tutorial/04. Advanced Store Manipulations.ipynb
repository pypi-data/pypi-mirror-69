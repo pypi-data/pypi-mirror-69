{
 "cells": [
  {
   "cell_type": "markdown",
   "metadata": {},
   "source": [
    "# Advanced Store Manipulations"
   ]
  },
  {
   "cell_type": "code",
   "execution_count": null,
   "metadata": {},
   "outputs": [],
   "source": [
    "import atoti as tt\n",
    "\n",
    "session = tt.create_session()\n",
    "store = session.read_csv(\"data/example.csv\", keys=[\"ID\"], store_name=\"MyStore\")\n",
    "cube = session.create_cube(store, \"FirstCube\")\n",
    "cube.query()"
   ]
  },
  {
   "cell_type": "markdown",
   "metadata": {},
   "source": [
    "## Store description\n",
    "\n",
    "The lengh of a store is the number of rows in the store"
   ]
  },
  {
   "cell_type": "code",
   "execution_count": null,
   "metadata": {},
   "outputs": [],
   "source": [
    "len(store)"
   ]
  },
  {
   "cell_type": "markdown",
   "metadata": {},
   "source": [
    "You can get the shape of the store, which is the number of columns and rows of the store"
   ]
  },
  {
   "cell_type": "code",
   "execution_count": null,
   "metadata": {},
   "outputs": [],
   "source": [
    "store.shape"
   ]
  },
  {
   "cell_type": "markdown",
   "metadata": {},
   "source": [
    "The description of the columns and types of the store"
   ]
  },
  {
   "cell_type": "code",
   "execution_count": null,
   "metadata": {},
   "outputs": [],
   "source": [
    "store"
   ]
  },
  {
   "cell_type": "markdown",
   "metadata": {},
   "source": [
    "## Sampling mode\n",
    "\n",
    "When loading large datasets into a store it is possible to sample the data. There are currently 3 mode supported for sampling:\n",
    "\n",
    "- `first_lines` : keeps only the given amount of lines.\n",
    "- `first_files` : keeps only the given amount of files.\n",
    "- `FULL` : Loads everything\n",
    "\n",
    "Sampling the data helps having a very responsive project during the design phase, when this design is over it is possible to load everything by calling `session.load_all_data`\n",
    "\n",
    "Sampling mode can be defined in the session for all the stores or store by store."
   ]
  },
  {
   "cell_type": "code",
   "execution_count": null,
   "metadata": {},
   "outputs": [],
   "source": [
    "from atoti.sampling import first_lines\n",
    "\n",
    "sample_store = session.read_csv(\n",
    "    \"data/example.csv\", keys=[\"ID\"], store_name=\"sampled\", sampling_mode=first_lines(5)\n",
    ")\n",
    "len(sample_store)"
   ]
  },
  {
   "cell_type": "code",
   "execution_count": null,
   "metadata": {},
   "outputs": [],
   "source": [
    "# Do some design such as adding a cube, some measures...\n",
    "cube = session.create_cube(sample_store, \"Sampling\")\n",
    "cube.query()"
   ]
  },
  {
   "cell_type": "code",
   "execution_count": null,
   "metadata": {},
   "outputs": [],
   "source": [
    "session.load_all_data()\n",
    "len(sample_store)"
   ]
  },
  {
   "cell_type": "code",
   "execution_count": null,
   "metadata": {},
   "outputs": [],
   "source": [
    "len(sample_store)\n",
    "cube.query()"
   ]
  },
  {
   "cell_type": "markdown",
   "metadata": {},
   "source": [
    "## Specify other types for the columns\n",
    "\n",
    "atoti automatically detects the type of the columns. It is possible to bypass this behaviour and specify the types of some columns manually."
   ]
  },
  {
   "cell_type": "code",
   "execution_count": null,
   "metadata": {},
   "outputs": [],
   "source": [
    "types = {\n",
    "    \"ID\": tt.types.DOUBLE,\n",
    "    \"City\": tt.types.STRING,\n",
    "    \"Quantity\": tt.types.STRING,\n",
    "    \"Price\": tt.types.FLOAT,\n",
    "}"
   ]
  },
  {
   "cell_type": "code",
   "execution_count": null,
   "metadata": {},
   "outputs": [],
   "source": [
    "custom_store = session.read_csv(\n",
    "    \"data/example.csv\", keys=[\"ID\"], store_name=\"Custom\", types=types\n",
    ")\n",
    "custom_store"
   ]
  },
  {
   "cell_type": "markdown",
   "metadata": {},
   "source": [
    "## Insert new rows\n",
    "\n",
    "New records can be inserted into the store.\n",
    "If a record has the same key columns as an existing record, the previous record will be overriden."
   ]
  },
  {
   "cell_type": "code",
   "execution_count": null,
   "metadata": {},
   "outputs": [],
   "source": [
    "# New key\n",
    "store.append((11, \"2019-03-01\", \"Europe\", \"Germany\", \"Berlin\", \"yellow\", 1000, 400))\n",
    "\n",
    "# Existing key\n",
    "store += (1, \"2019-03-01\", \"Europe\", \"France\", \"Paris\", \"red\", 2000, 600)\n",
    "\n",
    "store.head()"
   ]
  },
  {
   "cell_type": "markdown",
   "metadata": {},
   "source": [
    "## Append data to a store\n",
    "\n",
    "A CSV file with the same structure as the initial source can be appended into an existing store:"
   ]
  },
  {
   "cell_type": "code",
   "execution_count": null,
   "metadata": {},
   "outputs": [],
   "source": [
    "store.load_csv(\"data/additional_example.csv\")\n",
    "store.head()"
   ]
  },
  {
   "cell_type": "code",
   "execution_count": null,
   "metadata": {},
   "outputs": [],
   "source": [
    "len(store)"
   ]
  },
  {
   "cell_type": "markdown",
   "metadata": {},
   "source": [
    "## Join stores\n",
    "\n",
    "Stores can be joined together using a mapping between columns. The mapping columns of the target store must be included in its key columns. If no mapping is specified, the columns with the same names are used."
   ]
  },
  {
   "cell_type": "code",
   "execution_count": null,
   "metadata": {},
   "outputs": [],
   "source": [
    "capital_store = session.read_csv(\n",
    "    \"data/capitals.csv\", keys=[\"Country name\"], store_name=\"Capital\"\n",
    ")\n",
    "capital_store.head()"
   ]
  },
  {
   "cell_type": "code",
   "execution_count": null,
   "metadata": {},
   "outputs": [],
   "source": [
    "store.join(capital_store, mapping={\"Country\": \"Country name\"})"
   ]
  },
  {
   "cell_type": "code",
   "execution_count": null,
   "metadata": {},
   "outputs": [],
   "source": [
    "cube = session.create_cube(store, \"Cube\")"
   ]
  },
  {
   "cell_type": "markdown",
   "metadata": {},
   "source": [
    "## See the store schema\n",
    "\n",
    "It is possible to display the schema of the stores used by a cube, starting from its base store:"
   ]
  },
  {
   "cell_type": "code",
   "execution_count": null,
   "metadata": {},
   "outputs": [],
   "source": [
    "cube.schema"
   ]
  },
  {
   "cell_type": "markdown",
   "metadata": {},
   "source": [
    "and the schema of the all the stores of the session:"
   ]
  },
  {
   "cell_type": "code",
   "execution_count": null,
   "metadata": {},
   "outputs": [],
   "source": [
    "session.stores.schema"
   ]
  },
  {
   "cell_type": "markdown",
   "metadata": {},
   "source": [
    "## Automatic scenario creation\n",
    "\n",
    "If the data you use to feed a store respects a specific directory structure, we are able to automatically split it into different source scenarios.\n",
    "You can control this behavior by using the `load_csv` method on the store's `scenarios` attribute."
   ]
  },
  {
   "cell_type": "code",
   "execution_count": null,
   "metadata": {},
   "outputs": [],
   "source": [
    "# Start by creating an empty store\n",
    "scenario_store = session.create_store(\n",
    "    {\n",
    "        \"ID\": tt.types.INT,\n",
    "        \"Date\": tt.types.LOCAL_DATE,\n",
    "        \"Continent\": tt.types.STRING,\n",
    "        \"Country\": tt.types.STRING,\n",
    "        \"Color\": tt.types.STRING,\n",
    "        \"Quantity\": tt.types.DOUBLE,\n",
    "        \"Price\": tt.types.DOUBLE,\n",
    "    },\n",
    "    store_name=\"ScenarioStore\",\n",
    ")\n",
    "\n",
    "scenario_store.scenarios.load_csv(\n",
    "    \"data/scenario_directory/\", base_scenario_directory=\"base\",\n",
    ")"
   ]
  },
  {
   "cell_type": "markdown",
   "metadata": {},
   "source": [
    "As you can see, because the provided directory had two subdiretories, `Base` and `Scenario1`, the `Base` scenario was fed with the data in the base sub directory and a new scenario was created with the data from the `Scenario1` sub directory."
   ]
  },
  {
   "cell_type": "code",
   "execution_count": null,
   "metadata": {},
   "outputs": [],
   "source": [
    "session.scenarios"
   ]
  }
 ],
 "metadata": {
  "kernelspec": {
   "display_name": "Python 3",
   "language": "python",
   "name": "python3"
  },
  "language_info": {
   "codemirror_mode": {
    "name": "ipython",
    "version": 3
   },
   "file_extension": ".py",
   "mimetype": "text/x-python",
   "name": "python",
   "nbconvert_exporter": "python",
   "pygments_lexer": "ipython3",
   "version": "3.7.3"
  }
 },
 "nbformat": 4,
 "nbformat_minor": 4
}
