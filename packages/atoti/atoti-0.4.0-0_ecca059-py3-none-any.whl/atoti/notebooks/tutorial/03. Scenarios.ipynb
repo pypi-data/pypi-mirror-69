{
 "cells": [
  {
   "cell_type": "markdown",
   "metadata": {},
   "source": [
    "# Scenarios"
   ]
  },
  {
   "cell_type": "code",
   "execution_count": null,
   "metadata": {},
   "outputs": [],
   "source": [
    "import pandas as pd\n",
    "\n",
    "dataframe = pd.read_csv(\"data/example.csv\")\n",
    "dataframe"
   ]
  },
  {
   "cell_type": "code",
   "execution_count": null,
   "metadata": {},
   "outputs": [],
   "source": [
    "import atoti as tt\n",
    "\n",
    "session = tt.create_session()\n",
    "store = session.read_pandas(dataframe, \"First\", keys=[\"ID\"])\n",
    "cube = session.create_cube(store, \"FirstCube\")\n",
    "cube.query()"
   ]
  },
  {
   "cell_type": "markdown",
   "metadata": {},
   "source": [
    "## Scenarios from modified sources\n",
    "\n",
    "Load a modified version of your data into the store to compare it to the original version.\n",
    "\n",
    "First, let's modify the source dataset with _pandas_:"
   ]
  },
  {
   "cell_type": "code",
   "execution_count": null,
   "metadata": {},
   "outputs": [],
   "source": [
    "dataframe.loc[(dataframe[\"City\"] == \"Paris\"), \"Color\"] = \"purple\"\n",
    "dataframe"
   ]
  },
  {
   "cell_type": "markdown",
   "metadata": {},
   "source": [
    "We can now load this dataset into a new scenario:"
   ]
  },
  {
   "cell_type": "code",
   "execution_count": null,
   "metadata": {},
   "outputs": [],
   "source": [
    "store.scenarios[\"Purple Paris\"].load_pandas(dataframe)\n",
    "store.scenarios[\"Purple Paris\"]"
   ]
  },
  {
   "cell_type": "markdown",
   "metadata": {},
   "source": [
    "If you want the store to appear in application's Source Simulation widget, you will need to enable this parameter on the store"
   ]
  },
  {
   "cell_type": "code",
   "execution_count": null,
   "metadata": {},
   "outputs": [],
   "source": [
    "store.source_simulation_enabled = True"
   ]
  },
  {
   "cell_type": "markdown",
   "metadata": {},
   "source": [
    "## Scenarios measure scaling"
   ]
  },
  {
   "cell_type": "markdown",
   "metadata": {},
   "source": [
    "You can also perform simulations by modifying the value of certain measures. There are three available simulation methods:\n",
    "\n",
    "- multiply: multiplies the measure's value with the provided weight\n",
    "- replace: replaces the measure's value with the given value\n",
    "- add: increments the measure's value with the provided value"
   ]
  },
  {
   "cell_type": "code",
   "execution_count": null,
   "metadata": {},
   "outputs": [],
   "source": [
    "help(cube.setup_simulation)"
   ]
  },
  {
   "cell_type": "code",
   "execution_count": null,
   "metadata": {},
   "outputs": [],
   "source": [
    "lvl = cube.levels\n",
    "m = cube.measures"
   ]
  },
  {
   "cell_type": "markdown",
   "metadata": {},
   "source": [
    "Calling the `cube.setup_simulation` method will create a special type of store which controls the simulation. This store's key fields are the levels you provide, as well as the column with the name of the simulation, which contains the scenario names."
   ]
  },
  {
   "cell_type": "code",
   "execution_count": null,
   "metadata": {},
   "outputs": [],
   "source": [
    "simulation = cube.setup_simulation(\n",
    "    \"First simulation\",\n",
    "    levels=[lvl[\"Continent\"]],\n",
    "    multiply=[m[\"Quantity.SUM\"], m[\"Quantity.MEAN\"]],\n",
    "    replace=[m[\"Price.MEAN\"]],\n",
    ")\n",
    "simulation"
   ]
  },
  {
   "cell_type": "code",
   "execution_count": null,
   "metadata": {},
   "outputs": [],
   "source": [
    "simulation.head()"
   ]
  },
  {
   "cell_type": "markdown",
   "metadata": {},
   "source": [
    "In order to populate this simulation with scenarios, you can either populate the simulation the same way you would a regular store, with a CSV file or a DataFrame. Or you can create a scenario for this simulation and then insert rows into it either manually or from a source file."
   ]
  },
  {
   "cell_type": "markdown",
   "metadata": {},
   "source": [
    "When filling a scenario, (not the simulation), there are several things which are done automatically. For instance, you don't need to specify the priority."
   ]
  },
  {
   "cell_type": "code",
   "execution_count": null,
   "metadata": {},
   "outputs": [],
   "source": [
    "asian_growth = simulation.scenarios[\"Asian growth\"]\n",
    "asian_growth += (\"Asia\", 1.05, 1.05, 20)\n",
    "asian_growth += (\"Europe\", 0.9, 0.9, 0.85)\n",
    "asian_growth.head()"
   ]
  },
  {
   "cell_type": "markdown",
   "metadata": {},
   "source": [
    "Calling `head` on the scenario will display the rows of the Simulation handled by this scenario."
   ]
  },
  {
   "cell_type": "code",
   "execution_count": null,
   "metadata": {},
   "outputs": [],
   "source": [
    "cube.query(\n",
    "    m[\"Quantity.SUM\"],\n",
    "    m[\"Quantity.MEAN\"],\n",
    "    m[\"Price.MEAN\"],\n",
    "    levels=[lvl[\"Continent\"], lvl[\"First simulation\"]],\n",
    ")"
   ]
  },
  {
   "cell_type": "markdown",
   "metadata": {},
   "source": [
    "You can create as many scenarios as you want. However, every scenario of a simulation uses the same methods. If you want to use a different method you must create a new simulation."
   ]
  },
  {
   "cell_type": "markdown",
   "metadata": {},
   "source": [
    "When loading a DataFrame into the simulation, you can get the required headers from the simulation. The same is true for a scenario. For the priority, you can use any numeric value you want. When loading a DataFrame into a scenario, the priority column is optional."
   ]
  },
  {
   "cell_type": "code",
   "execution_count": null,
   "metadata": {},
   "outputs": [],
   "source": [
    "growth = simulation.scenarios[\"Growth\"]\n",
    "normal_priority = 0\n",
    "rows = [\n",
    "    [\"Asia\", 1.1, 1.1, 22, normal_priority],\n",
    "    [\"Europe\", 1.2, 1.3, 15, normal_priority],\n",
    "]\n",
    "df = pd.DataFrame(rows, columns=growth.columns)\n",
    "df"
   ]
  },
  {
   "cell_type": "code",
   "execution_count": null,
   "metadata": {},
   "outputs": [],
   "source": [
    "growth = simulation.scenarios[\"Growth\"].load_pandas(df)\n",
    "growth.head()"
   ]
  },
  {
   "cell_type": "markdown",
   "metadata": {},
   "source": [
    "You can delete a simulation from the cube's simulation dict"
   ]
  },
  {
   "cell_type": "code",
   "execution_count": null,
   "metadata": {},
   "outputs": [],
   "source": [
    "del cube.simulations[\"First simulation\"]"
   ]
  },
  {
   "cell_type": "markdown",
   "metadata": {},
   "source": [
    "You can create simulations wihout any levels. These simulations can only have one value per scenario. For simulations whithout any fields and acting on only one measure, you can assign values to scenarios instead of inserting tuples."
   ]
  },
  {
   "cell_type": "code",
   "execution_count": null,
   "metadata": {},
   "outputs": [],
   "source": [
    "no_field_sim = cube.setup_simulation(\"No Field Sim\", multiply=[m[\"Price.SUM\"]])\n",
    "no_field_sim.scenarios[\"- 10 %\"] = 0.9\n",
    "no_field_sim.scenarios[\"+ 20%\"] = 1.2\n",
    "no_field_sim.head()"
   ]
  },
  {
   "cell_type": "markdown",
   "metadata": {},
   "source": [
    "The priority rules are used to supersed the default behaviour between conflicting rules in the simulation. The basic rule is the more wildcard fields there are and the further to the left these wildcards are, the lower the priority. So in the following example, the rule on Europe overrides the one on France.\n",
    "To use wildcards, simply pass `None` as the value for the column(s) you want the wildcard to be on."
   ]
  },
  {
   "cell_type": "code",
   "execution_count": null,
   "metadata": {},
   "outputs": [],
   "source": [
    "priority_sim = cube.setup_simulation(\n",
    "    \"Priority Simulation\",\n",
    "    levels=[lvl[\"Continent\"], lvl[\"Country\"]],\n",
    "    multiply=[m[\"Quantity.MEAN\"]],\n",
    ")\n",
    "priority_scenario = priority_sim.scenarios[\"growth\"]\n",
    "priority_scenario += (\"Europe\", None, 1.1)\n",
    "priority_scenario += (None, \"France\", 1.2)\n",
    "priority_scenario.head()"
   ]
  },
  {
   "cell_type": "code",
   "execution_count": null,
   "metadata": {},
   "outputs": [],
   "source": [
    "cube.query(\n",
    "    m[\"Quantity.MEAN\"],\n",
    "    levels=[lvl[\"Continent\"], lvl[\"Country\"], lvl[\"Priority Simulation\"]],\n",
    ")"
   ]
  },
  {
   "cell_type": "markdown",
   "metadata": {},
   "source": [
    "To override the Europe rule with one specific to France, we can give a higher priority:"
   ]
  },
  {
   "cell_type": "code",
   "execution_count": null,
   "metadata": {},
   "outputs": [],
   "source": [
    "priority_scenario += (\n",
    "    None,\n",
    "    \"France\",\n",
    "    120,\n",
    "    normal_priority + 1,\n",
    ")\n",
    "priority_scenario.head()"
   ]
  },
  {
   "cell_type": "code",
   "execution_count": null,
   "metadata": {},
   "outputs": [],
   "source": [
    "cube.query(\n",
    "    m[\"Quantity.MEAN\"],\n",
    "    levels=[lvl[\"Continent\"], lvl[\"Country\"], lvl[\"Priority Simulation\"]],\n",
    ")"
   ]
  },
  {
   "cell_type": "code",
   "execution_count": null,
   "metadata": {},
   "outputs": [],
   "source": [
    ""
   ]
  }
 ],
 "metadata": {
  "kernelspec": {
   "display_name": "Python 3",
   "language": "python",
   "name": "python3"
  },
  "language_info": {
   "codemirror_mode": {
    "name": "ipython",
    "version": 3
   },
   "file_extension": ".py",
   "mimetype": "text/x-python",
   "name": "python",
   "nbconvert_exporter": "python",
   "pygments_lexer": "ipython3",
   "version": "3.7.3"
  }
 },
 "nbformat": 4,
 "nbformat_minor": 4
}
