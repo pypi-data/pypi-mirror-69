{
 "cells": [
  {
   "cell_type": "code",
   "execution_count": null,
   "metadata": {},
   "outputs": [],
   "source": [
    "# In this cell we install a development branch of lightkurve and contaminante. \n",
    "%matplotlib inline\n",
    "! git clone -b refactor-sparse https://github.com/christinahedges/lightkurve --quiet\n",
    "%cd lightkurve\n",
    "! pip install -e . -q\n",
    "! pip install contaminante -q"
   ]
  },
  {
   "cell_type": "code",
   "execution_count": null,
   "metadata": {},
   "outputs": [],
   "source": [
    "# The target name, either KIC, EPIC or TIC ID\n",
    "targetid = 'KIC 6804648'\n",
    "\n",
    "# Mission name, either kepler, K2 or tess\n",
    "mission='kepler'\n",
    "\n",
    "# Orbital period in days\n",
    "period = 0.700606\n",
    "\n",
    "# Transit midpoint in days\n",
    "t0 = 131.59767\n",
    "\n",
    "# Duration in days\n",
    "duration = 0.993/24"
   ]
  },
  {
   "cell_type": "code",
   "execution_count": null,
   "metadata": {},
   "outputs": [],
   "source": [
    "import contaminante\n",
    "fig, result = contaminante.calculate_contamination(targetid=targetid,\n",
    "                               period=period,\n",
    "                               t0=t0,\n",
    "                               duration=duration,\n",
    "                               mission=mission)"
   ]
  }
 ],
 "metadata": {
  "kernelspec": {
   "display_name": "Python 3",
   "language": "python",
   "name": "python3"
  },
  "language_info": {
   "codemirror_mode": {
    "name": "ipython",
    "version": 3
   },
   "file_extension": ".py",
   "mimetype": "text/x-python",
   "name": "python",
   "nbconvert_exporter": "python",
   "pygments_lexer": "ipython3",
   "version": "3.6.7"
  }
 },
 "nbformat": 4,
 "nbformat_minor": 2
}
