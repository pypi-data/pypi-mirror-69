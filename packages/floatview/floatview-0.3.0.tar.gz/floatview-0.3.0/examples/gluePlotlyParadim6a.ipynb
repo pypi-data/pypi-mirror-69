{
 "cells": [
  {
   "cell_type": "code",
   "execution_count": null,
   "metadata": {},
   "outputs": [],
   "source": [
    "import floatview\n",
    "import pandas as pd\n",
    "import requests\n",
    "import io\n",
    "import numpy as np\n",
    "import re"
   ]
  },
  {
   "cell_type": "code",
   "execution_count": null,
   "metadata": {},
   "outputs": [],
   "source": [
    "url=\"https://github.com/paradimdata/nsf_2d_workshop_2018/raw/master/SmB6_data/PRX_Publication/Figure_6a.xlsx\"\n",
    "tab = pd.read_excel(url)\n",
    "tab = tab.drop([0,1,2])\n",
    "for i in range(0, len(tab.columns)):\n",
    "    ccn = tab.columns[i]\n",
    "    cc = tab[ccn].values.astype('str')\n",
    "    for j in range(len(cc)):\n",
    "        cc[j] = re.sub(r'[^0-9\\.]+','',cc[j],re.I)\n",
    "        if cc[j] == \"\":\n",
    "            cc[j] = \"-1\"\n",
    "    tab[ccn] = cc.astype('float')"
   ]
  },
  {
   "cell_type": "code",
   "execution_count": null,
   "metadata": {},
   "outputs": [],
   "source": [
    "gmw = floatview.GlueManagerWidget(tab, modal=True, label=\"\")"
   ]
  },
  {
   "cell_type": "code",
   "execution_count": null,
   "metadata": {},
   "outputs": [],
   "source": [
    "state = np.nonzero(gmw.gluemanager.data['T']<=10)\n",
    "gmw.gluemanager.updateSelection(state)\n",
    "gmw.gluemanager.createSubsetFromSelection(label='<10')"
   ]
  },
  {
   "cell_type": "code",
   "execution_count": null,
   "metadata": {},
   "outputs": [],
   "source": [
    "gmw.gluemanager.newView(\"composed_scatter\", [\"T\", \"Cp/T.1\"], \"Scatter\");\n",
    "gmw.gluemanager.newView(\"composed_polyfit_3d\", [\"T\", \"Cp/T.1\" ,\"Cp/T.3\"], \"Fit 3Degree\", only_subsets=True);\n",
    "gmw.gluemanager.newView(\"parallels\", [\"T\", \"Cp/T.1\" ,\"Cp/T.2\" ,\"Cp/T.3\" ,\"Cp/T.4\",\"Cp/T.5\" ,\"Cp/T.6\" ,\"Cp/T.7\"], \"Parallels\", only_subsets=False);"
   ]
  }
 ],
 "metadata": {
  "kernelspec": {
   "display_name": "Python 3",
   "language": "python",
   "name": "python3"
  },
  "language_info": {
   "codemirror_mode": {
    "name": "ipython",
    "version": 3
   },
   "file_extension": ".py",
   "mimetype": "text/x-python",
   "name": "python",
   "nbconvert_exporter": "python",
   "pygments_lexer": "ipython3",
   "version": "3.6.6"
  }
 },
 "nbformat": 4,
 "nbformat_minor": 2
}
