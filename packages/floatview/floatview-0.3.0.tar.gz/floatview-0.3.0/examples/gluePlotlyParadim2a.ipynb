{
 "cells": [
  {
   "cell_type": "code",
   "execution_count": null,
   "metadata": {},
   "outputs": [],
   "source": [
    "import floatview\n",
    "import pandas as pd\n",
    "import requests\n",
    "import io\n",
    "import numpy as np\n",
    "import re"
   ]
  },
  {
   "cell_type": "code",
   "execution_count": null,
   "metadata": {},
   "outputs": [],
   "source": [
    "url=\"https://github.com/paradimdata/nsf_2d_workshop_2018/raw/master/SmB6_data/PRX_Publication/Figure_2a_b.xlsx\"\n",
    "tab = pd.read_excel(url)\n",
    "tab = tab.drop([0,1,2, len(tab[tab.columns[0]].values)-1])\n",
    "for i in range(0, len(tab.columns)):\n",
    "    ccn = tab.columns[i]\n",
    "    cc = tab[ccn].values.astype('str')\n",
    "    for j in range(len(cc)):\n",
    "        cc[j] = re.sub(r'[^0-9\\.]+','',cc[j],re.I)\n",
    "        if cc[j] == \"\":\n",
    "            cc[j] = \"-1\"\n",
    "    tab[ccn] = cc.astype('float')"
   ]
  },
  {
   "cell_type": "code",
   "execution_count": null,
   "metadata": {},
   "outputs": [],
   "source": [
    "gmw = floatview.GlueManagerWidget(tab, modal=True, label=\"\")"
   ]
  },
  {
   "cell_type": "code",
   "execution_count": null,
   "metadata": {},
   "outputs": [],
   "source": [
    "state = np.nonzero(gmw.gluemanager.data['R']>=1)\n",
    "gmw.gluemanager.updateSelection(state)\n",
    "gmw.gluemanager.createSubsetFromSelection(label='>=1')"
   ]
  },
  {
   "cell_type": "code",
   "execution_count": null,
   "metadata": {},
   "outputs": [],
   "source": [
    "lview = gmw.gluemanager.newView(\"composed_lines\", [\"T\", \"R\"], \"TxR\");\n",
    "lview.options['yscale'].value=\"log\"\n",
    "lview2 = gmw.gluemanager.newView(\"composed_lines\", [\"T\", \"R\"], \"TxR\", only_subsets=True);\n",
    "lview2.options['yscale'].value=\"log\"\n",
    "lview2.options['marker_type'].value=\"lines+markers\""
   ]
  }
 ],
 "metadata": {
  "kernelspec": {
   "display_name": "Python 3",
   "language": "python",
   "name": "python3"
  },
  "language_info": {
   "codemirror_mode": {
    "name": "ipython",
    "version": 3
   },
   "file_extension": ".py",
   "mimetype": "text/x-python",
   "name": "python",
   "nbconvert_exporter": "python",
   "pygments_lexer": "ipython3",
   "version": "3.6.6"
  }
 },
 "nbformat": 4,
 "nbformat_minor": 2
}
