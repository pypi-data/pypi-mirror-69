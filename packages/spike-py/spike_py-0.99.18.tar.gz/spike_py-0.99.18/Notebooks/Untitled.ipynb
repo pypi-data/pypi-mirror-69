{
 "cells": [
  {
   "cell_type": "markdown",
   "metadata": {
    "toc": true
   },
   "source": [
    "<h1>Table of Contents<span class=\"tocSkip\"></span></h1>\n",
    "<div class=\"toc\"><ul class=\"toc-item\"></ul></div>"
   ]
  },
  {
   "cell_type": "code",
   "execution_count": 2,
   "metadata": {
    "ExecuteTime": {
     "end_time": "2019-10-28T15:58:59.795592Z",
     "start_time": "2019-10-28T15:58:59.676585Z"
    }
   },
   "outputs": [
    {
     "name": "stdout",
     "output_type": "stream",
     "text": [
      "DisplayFTICR2D.py  EasyDisplayFTICR2D.py  Proc1DNMR-Copy1.py  Proc1DNMR.py\r\n"
     ]
    }
   ],
   "source": [
    "ls *.py"
   ]
  },
  {
   "cell_type": "code",
   "execution_count": 8,
   "metadata": {
    "ExecuteTime": {
     "end_time": "2019-10-28T16:03:21.882488Z",
     "start_time": "2019-10-28T16:03:21.849241Z"
    }
   },
   "outputs": [],
   "source": [
    "import pylint\n",
    "pylint.reporters??"
   ]
  },
  {
   "cell_type": "code",
   "execution_count": 10,
   "metadata": {
    "ExecuteTime": {
     "end_time": "2019-10-28T16:05:08.202736Z",
     "start_time": "2019-10-28T16:05:08.183853Z"
    }
   },
   "outputs": [],
   "source": [
    "class WritableObject(object):\n",
    "    \"dummy input/output stream for pylint\"\n",
    "    def __init__(self):\n",
    "        self.content = []\n",
    "    def write(self, string):\n",
    "        \"dummy write\"\n",
    "        self.content.append(string)\n",
    "    def readlines(self):\n",
    "        \"dummy read\"\n",
    "        return self.content\n",
    "    def readline(self):\n",
    "        \"dummy read\"\n",
    "        return self.content.pop(0)\n",
    "    def __iter__(self):\n",
    "        return self\n",
    "    def next(self):\n",
    "        if self.content:\n",
    "            return self.content.pop(0)\n",
    "        else:\n",
    "            raise(StopIteration)\n",
    "    def __next__(self):\n",
    "        return self.next()"
   ]
  },
  {
   "cell_type": "code",
   "execution_count": 11,
   "metadata": {
    "ExecuteTime": {
     "end_time": "2019-10-28T16:05:17.572276Z",
     "start_time": "2019-10-28T16:05:17.300569Z"
    }
   },
   "outputs": [
    {
     "data": {
      "text/plain": [
       "<pylint.lint.Run at 0x7feabcdad588>"
      ]
     },
     "execution_count": 11,
     "metadata": {},
     "output_type": "execute_result"
    }
   ],
   "source": [
    "from pylint import lint\n",
    "import pylint.reporters.text as rep\n",
    "lint.Run([\"Proc1DNMR.py\"], reporter=rep.ParseableTextReporter(output=WritableObject()), do_exit=False)"
   ]
  },
  {
   "cell_type": "code",
   "execution_count": 1,
   "metadata": {},
   "outputs": [],
   "source": [
    "%matplotlib widget\n",
    "import numpy as np\n",
    "import matplotlib.pyplot as plt\n",
    "from matplotlib.widgets import MultiCursor\n",
    "import ipywidgets as widgets\n",
    "from IPython.display import display, Markdown, HTML, Image\n",
    "\n"
   ]
  },
  {
   "cell_type": "code",
   "execution_count": 2,
   "metadata": {},
   "outputs": [
    {
     "data": {
      "application/vnd.jupyter.widget-view+json": {
       "model_id": "aad448980f7c40809f402180733a8ac2",
       "version_major": 2,
       "version_minor": 0
      },
      "text/plain": [
       "FigureCanvasNbAgg()"
      ]
     },
     "metadata": {},
     "output_type": "display_data"
    }
   ],
   "source": [
    "\n",
    "t = np.arange(0.0, 2.0, 0.01)\n",
    "s1 = np.sin(2*np.pi*t)\n",
    "s2 = np.sin(4*np.pi*t)\n",
    "\n",
    "fig, (ax1, ax2) = plt.subplots(2, sharex=True)\n",
    "ax1.plot(t, s1)\n",
    "ax2.plot(t, s2)\n",
    "\n",
    "multi = MultiCursor(fig.canvas, (ax1, ax2), color='r', lw=1)"
   ]
  },
  {
   "cell_type": "code",
   "execution_count": 10,
   "metadata": {
    "ExecuteTime": {
     "end_time": "2019-10-23T11:43:06.745726Z",
     "start_time": "2019-10-23T11:43:06.727306Z"
    }
   },
   "outputs": [
    {
     "ename": "NameError",
     "evalue": "name 'plt' is not defined",
     "output_type": "error",
     "traceback": [
      "\u001b[0;31m---------------------------------------------------------------\u001b[0m",
      "\u001b[0;31mNameError\u001b[0m                     Traceback (most recent call last)",
      "\u001b[0;32m<ipython-input-10-41a77250bab3>\u001b[0m in \u001b[0;36m<module>\u001b[0;34m\u001b[0m\n\u001b[1;32m      8\u001b[0m \u001b[0;34m\u001b[0m\u001b[0m\n\u001b[1;32m      9\u001b[0m \u001b[0;31m#plt.ioff()\u001b[0m\u001b[0;34m\u001b[0m\u001b[0;34m\u001b[0m\u001b[0;34m\u001b[0m\u001b[0m\n\u001b[0;32m---> 10\u001b[0;31m \u001b[0mplt\u001b[0m\u001b[0;34m.\u001b[0m\u001b[0mclf\u001b[0m\u001b[0;34m(\u001b[0m\u001b[0;34m)\u001b[0m\u001b[0;34m\u001b[0m\u001b[0;34m\u001b[0m\u001b[0m\n\u001b[0m\u001b[1;32m     11\u001b[0m \u001b[0;34m\u001b[0m\u001b[0m\n\u001b[1;32m     12\u001b[0m slider = FloatSlider(\n",
      "\u001b[0;31mNameError\u001b[0m: name 'plt' is not defined"
     ]
    }
   ],
   "source": [
    "# When using the `widget` backend from ipympl,\n",
    "# fig.canvas is a proper Jupyter interactive widget, which can be embedded in\n",
    "# Layout classes like HBox and Vbox.\n",
    "\n",
    "# One can bound figure attributes to other widget values.\n",
    "\n",
    "from ipywidgets import HBox, FloatSlider\n",
    "\n",
    "#plt.ioff()\n",
    "plt.clf()\n",
    "\n",
    "slider = FloatSlider(\n",
    "    orientation='vertical',\n",
    "    value=1.0,\n",
    "    min=0.02,\n",
    "    max=2.0\n",
    ")\n",
    "\n",
    "fig = plt.figure(3)\n",
    "\n",
    "x = np.linspace(0, 20, 500)\n",
    "\n",
    "lines = plt.plot(x, np.sin(slider.value  * x))\n",
    "\n",
    "def update_lines(change):\n",
    "    lines[0].set_data(x, np.sin(change.new * x))\n",
    "    fig.canvas.draw()\n",
    "    fig.canvas.flush_events()\n",
    "\n",
    "slider.observe(update_lines, names='value')\n",
    "\n",
    "HBox([slider, fig.canvas])\n"
   ]
  },
  {
   "cell_type": "code",
   "execution_count": null,
   "metadata": {},
   "outputs": [],
   "source": [
    "out1 = widgets.Output()\n",
    "out2 = widgets.Output()\n",
    "display(out1)\n",
    "display(out2)\n",
    "with out1:\n",
    "    plt.plot(t, s1)\n",
    "with out2:\n",
    "    plt.plot(t, s2)\n"
   ]
  },
  {
   "cell_type": "code",
   "execution_count": null,
   "metadata": {},
   "outputs": [],
   "source": [
    "a = widgets.Output()\n",
    "display(a)\n",
    "fig, ax1 = plt.subplots()\n",
    "with a:\n",
    "    display(HTML('coucou'))\n",
    "    ax1.plot(t, s1)\n",
    "    display(HTML('cuicui'))\n"
   ]
  },
  {
   "cell_type": "code",
   "execution_count": null,
   "metadata": {},
   "outputs": [],
   "source": [
    "display(a)"
   ]
  },
  {
   "cell_type": "code",
   "execution_count": null,
   "metadata": {},
   "outputs": [],
   "source": [
    "b = widgets.Output()\n",
    "display(b)\n",
    "fig, ax1 = plt.subplots()\n",
    "with b:\n",
    "    display(HTML('cuicui'))\n",
    "    ax1.plot(t, s2)\n"
   ]
  },
  {
   "cell_type": "code",
   "execution_count": null,
   "metadata": {},
   "outputs": [],
   "source": [
    "with a:\n",
    "    display(ax1.plot(t, s1))"
   ]
  },
  {
   "cell_type": "code",
   "execution_count": null,
   "metadata": {},
   "outputs": [],
   "source": [
    "from matplotlib.widgets import Cursor\n",
    "import numpy as np\n",
    "import matplotlib.pyplot as plt\n",
    "\n",
    "\n",
    "# Fixing random state for reproducibility\n",
    "np.random.seed(19680801)\n",
    "\n",
    "fig = plt.figure(figsize=(8, 6))\n",
    "ax = fig.add_subplot(111, facecolor='#FFFFCC')\n",
    "\n",
    "x, y = 4*(np.random.rand(2, 100) - .5)\n",
    "ax.plot(x, y, 'o')\n",
    "ax.set_xlim(-2, 2)\n",
    "ax.set_ylim(-2, 2)\n",
    "\n",
    "# Set useblit=True on most backends for enhanced performance.\n",
    "cursor = Cursor(ax, useblit=True, color='red', linewidth=2)\n"
   ]
  },
  {
   "cell_type": "code",
   "execution_count": null,
   "metadata": {},
   "outputs": [],
   "source": [
    "import numpy as np\n",
    "\n",
    "from matplotlib.widgets import PolygonSelector\n",
    "from matplotlib.path import Path\n",
    "\n",
    "\n",
    "class SelectFromCollection(object):\n",
    "    \"\"\"Select indices from a matplotlib collection using `PolygonSelector`.\n",
    "\n",
    "    Selected indices are saved in the `ind` attribute. This tool fades out the\n",
    "    points that are not part of the selection (i.e., reduces their alpha\n",
    "    values). If your collection has alpha < 1, this tool will permanently\n",
    "    alter the alpha values.\n",
    "\n",
    "    Note that this tool selects collection objects based on their *origins*\n",
    "    (i.e., `offsets`).\n",
    "\n",
    "    Parameters\n",
    "    ----------\n",
    "    ax : :class:`~matplotlib.axes.Axes`\n",
    "        Axes to interact with.\n",
    "\n",
    "    collection : :class:`matplotlib.collections.Collection` subclass\n",
    "        Collection you want to select from.\n",
    "\n",
    "    alpha_other : 0 <= float <= 1\n",
    "        To highlight a selection, this tool sets all selected points to an\n",
    "        alpha value of 1 and non-selected points to `alpha_other`.\n",
    "    \"\"\"\n",
    "\n",
    "    def __init__(self, ax, collection, alpha_other=0.3):\n",
    "        self.canvas = ax.figure.canvas\n",
    "        self.collection = collection\n",
    "        self.alpha_other = alpha_other\n",
    "\n",
    "        self.xys = collection.get_offsets()\n",
    "        self.Npts = len(self.xys)\n",
    "\n",
    "        # Ensure that we have separate colors for each object\n",
    "        self.fc = collection.get_facecolors()\n",
    "        if len(self.fc) == 0:\n",
    "            raise ValueError('Collection must have a facecolor')\n",
    "        elif len(self.fc) == 1:\n",
    "            self.fc = np.tile(self.fc, (self.Npts, 1))\n",
    "\n",
    "        self.poly = PolygonSelector(ax, self.onselect)\n",
    "        self.ind = []\n",
    "\n",
    "    def onselect(self, verts):\n",
    "        path = Path(verts)\n",
    "        self.ind = np.nonzero(path.contains_points(self.xys))[0]\n",
    "        self.fc[:, -1] = self.alpha_other\n",
    "        self.fc[self.ind, -1] = 1\n",
    "        self.collection.set_facecolors(self.fc)\n",
    "        self.canvas.draw_idle()\n",
    "\n",
    "    def disconnect(self):\n",
    "        self.poly.disconnect_events()\n",
    "        self.fc[:, -1] = 1\n",
    "        self.collection.set_facecolors(self.fc)\n",
    "        self.canvas.draw_idle()\n",
    "\n",
    "\n",
    "if __name__ == '__main__':\n",
    "    import matplotlib.pyplot as plt\n",
    "\n",
    "    fig, ax = plt.subplots()\n",
    "    grid_size = 5\n",
    "    grid_x = np.tile(np.arange(grid_size), grid_size)\n",
    "    grid_y = np.repeat(np.arange(grid_size), grid_size)\n",
    "    pts = ax.scatter(grid_x, grid_y)\n",
    "\n",
    "    selector = SelectFromCollection(ax, pts)\n",
    "\n",
    "    print(\"Select points in the figure by enclosing them within a polygon.\")\n",
    "    print(\"Press the 'esc' key to start a new polygon.\")\n",
    "    print(\"Try holding the 'shift' key to move all of the vertices.\")\n",
    "    print(\"Try holding the 'ctrl' key to move a single vertex.\")\n",
    "\n",
    "\n",
    "    selector.disconnect()\n",
    "\n",
    "    # After figure is closed print the coordinates of the selected points\n",
    "    print('\\nSelected points:')\n",
    "    print(selector.xys[selector.ind])\n"
   ]
  },
  {
   "cell_type": "code",
   "execution_count": null,
   "metadata": {},
   "outputs": [],
   "source": [
    "import matplotlib.pyplot as plt\n",
    "\n",
    "def on_pick(event):\n",
    "    artist = event.artist\n",
    "    xmouse, ymouse = event.mouseevent.xdata, event.mouseevent.ydata\n",
    "    x, y = artist.get_xdata(), artist.get_ydata()\n",
    "    ind = event.ind\n",
    "    print ('Artist picked:', event.artist)\n",
    "    print ('{} vertices picked'.format(len(ind)))\n",
    "    print ('Pick between vertices {} and {}'.format(min(ind), max(ind)+1))\n",
    "    print ('x, y of mouse: {:.2f},{:.2f}'.format(xmouse, ymouse))\n",
    "    print ('Data point:', x[ind[0]], y[ind[0]])\n",
    "    print()\n",
    "\n",
    "fig, ax = plt.subplots()\n",
    "\n",
    "tolerance = 10 # points\n",
    "ax.plot(range(10), 'ro-', picker=tolerance)\n",
    "\n",
    "fig.canvas.callbacks.connect('pick_event', on_pick)\n"
   ]
  },
  {
   "cell_type": "code",
   "execution_count": null,
   "metadata": {},
   "outputs": [],
   "source": [
    "fig, ax = plt.subplots()\n",
    "ax.plot(np.random.rand(10))\n",
    "\n",
    "def onclick(event):\n",
    "    \n",
    "    print('%s click: button=%d, x=%d, y=%d, xdata=%f, ydata=%f' %\n",
    "          ('double' if event.dblclick else 'single', event.button,\n",
    "           event.x, event.y, event.xdata, event.ydata))\n",
    "    ax.scatter(event.x, event.y, 'c')\n",
    "\n",
    "cid = fig.canvas.mpl_connect('button_press_event', onclick)\n"
   ]
  },
  {
   "cell_type": "code",
   "execution_count": null,
   "metadata": {},
   "outputs": [],
   "source": []
  }
 ],
 "metadata": {
  "kernelspec": {
   "display_name": "Python 3",
   "language": "python",
   "name": "python3"
  },
  "language_info": {
   "codemirror_mode": {
    "name": "ipython",
    "version": 3
   },
   "file_extension": ".py",
   "mimetype": "text/x-python",
   "name": "python",
   "nbconvert_exporter": "python",
   "pygments_lexer": "ipython3",
   "version": "3.7.3"
  },
  "toc": {
   "base_numbering": 1,
   "nav_menu": {},
   "number_sections": true,
   "sideBar": true,
   "skip_h1_title": true,
   "title_cell": "Table of Contents",
   "title_sidebar": "Contents",
   "toc_cell": true,
   "toc_position": {},
   "toc_section_display": true,
   "toc_window_display": false
  },
  "varInspector": {
   "cols": {
    "lenName": 16,
    "lenType": 16,
    "lenVar": 40
   },
   "kernels_config": {
    "python": {
     "delete_cmd_postfix": "",
     "delete_cmd_prefix": "del ",
     "library": "var_list.py",
     "varRefreshCmd": "print(var_dic_list())"
    },
    "r": {
     "delete_cmd_postfix": ") ",
     "delete_cmd_prefix": "rm(",
     "library": "var_list.r",
     "varRefreshCmd": "cat(var_dic_list()) "
    }
   },
   "types_to_exclude": [
    "module",
    "function",
    "builtin_function_or_method",
    "instance",
    "_Feature"
   ],
   "window_display": false
  }
 },
 "nbformat": 4,
 "nbformat_minor": 2
}
