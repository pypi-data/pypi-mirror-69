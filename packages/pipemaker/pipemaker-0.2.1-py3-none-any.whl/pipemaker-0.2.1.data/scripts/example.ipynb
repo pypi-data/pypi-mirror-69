{
 "cells": [
  {
   "cell_type": "markdown",
   "metadata": {},
   "source": [
    "# Simple example"
   ]
  },
  {
   "cell_type": "markdown",
   "metadata": {},
   "source": [
    "## Create the pipeline\n",
    "\n",
    "The example application is based on a pipeline to analyse online news media. It runs using pipemaker but uses minimal, dummy functions for illustration of pipemaker. The real application on which it was based is \"compass\" which can be installed separately if required."
   ]
  },
  {
   "cell_type": "code",
   "execution_count": 1,
   "metadata": {},
   "outputs": [
    {
     "data": {
      "text/html": [
       "<style>audio{display:none}</style>"
      ],
      "text/plain": [
       "<IPython.core.display.HTML object>"
      ]
     },
     "metadata": {},
     "output_type": "display_data"
    },
    {
     "name": "stderr",
     "output_type": "stream",
     "text": [
      "[root:INFO]:importing pipemaker (__init__.py:13, time=Jan-07 14:58)\n"
     ]
    }
   ],
   "source": [
    "# notebook settings\n",
    "from pipemaker.utils.ipstartup import *\n",
    "import shutil\n",
    "\n",
    "# pipemaker package\n",
    "from pipemaker.master import env, pipeline as p\n",
    "\n",
    "# example application\n",
    "from pipemaker import example\n",
    "from pipemaker.example import *"
   ]
  },
  {
   "cell_type": "code",
   "execution_count": 12,
   "metadata": {},
   "outputs": [
    {
     "name": "stderr",
     "output_type": "stream",
     "text": [
      "[cellevents:INFO]:starting (cellevents.py:43, time=Jan-07 15:00)\n",
      "[root:INFO]:shutting down flask (view.py:111, time=Jan-07 15:00)\n",
      "[root:INFO]:loading database connection (db.py:14, time=Jan-07 15:00)\n",
      "[root:INFO]:starting everything (pipeline.py:78, time=Jan-07 15:00)\n",
      "[root:INFO]:shutting down flask (view.py:111, time=Jan-07 15:00)\n",
      "[root:INFO]:loading database connection (db.py:14, time=Jan-07 15:00)\n",
      "[root:INFO]:starting workers Abby n=8 (workers.py:23, time=Jan-07 15:00)\n"
     ]
    },
    {
     "name": "stdout",
     "output_type": "stream",
     "text": [
      "time: 14.3 s\n"
     ]
    }
   ],
   "source": [
    "p.close()\n",
    "p.start()"
   ]
  },
  {
   "cell_type": "code",
   "execution_count": 13,
   "metadata": {},
   "outputs": [
    {
     "name": "stderr",
     "output_type": "stream",
     "text": [
      "[cellevents:INFO]:starting (cellevents.py:43, time=Jan-07 15:00)\n"
     ]
    },
    {
     "name": "stdout",
     "output_type": "stream",
     "text": [
      "time: 4.53 ms\n"
     ]
    }
   ],
   "source": [
    "# reset the data so it runs from scratch\n",
    "shutil.rmtree(\"pipedata\", ignore_errors=True)"
   ]
  },
  {
   "cell_type": "markdown",
   "metadata": {},
   "source": [
    "One line of code to create a pipeline from all the functions in the \"example\" module."
   ]
  },
  {
   "cell_type": "code",
   "execution_count": 14,
   "metadata": {},
   "outputs": [
    {
     "name": "stderr",
     "output_type": "stream",
     "text": [
      "[cellevents:INFO]:starting (cellevents.py:43, time=Jan-07 15:00)\n"
     ]
    },
    {
     "name": "stdout",
     "output_type": "stream",
     "text": [
      "time: 16 ms\n"
     ]
    }
   ],
   "source": [
    "p.add(example)"
   ]
  },
  {
   "cell_type": "markdown",
   "metadata": {},
   "source": [
    "Configure the job:\n",
    "\n",
    "* All files from this run will be under pipedata/sun\n",
    "* The web search will be carried out using the domain parameter"
   ]
  },
  {
   "cell_type": "code",
   "execution_count": 15,
   "metadata": {},
   "outputs": [
    {
     "name": "stderr",
     "output_type": "stream",
     "text": [
      "[cellevents:INFO]:starting (cellevents.py:43, time=Jan-07 15:00)\n"
     ]
    },
    {
     "name": "stdout",
     "output_type": "stream",
     "text": [
      "time: 1 ms\n"
     ]
    }
   ],
   "source": [
    "env.pathvars.job = \"sun\"\n",
    "env.params.domain = \"sun.co.uk\""
   ]
  },
  {
   "cell_type": "markdown",
   "metadata": {},
   "source": [
    "One line of code shows the upstream pipeline for any task using the current \"pipe\" variables\n",
    "\n",
    "* The pipeline has been created automatically linking inputs and outputs.\n",
    "* Known parameters and existing files are shown in green.\n",
    "* Missing parameters and files are shown in white.\n",
    "* When we run a function it will automatically run the upstream pipeline to generate input files"
   ]
  },
  {
   "cell_type": "code",
   "execution_count": 16,
   "metadata": {},
   "outputs": [
    {
     "name": "stderr",
     "output_type": "stream",
     "text": [
      "[cellevents:INFO]:starting (cellevents.py:43, time=Jan-07 15:00)\n"
     ]
    },
    {
     "data": {
      "image/svg+xml": [
       "<?xml version=\"1.0\" encoding=\"UTF-8\" standalone=\"no\"?>\r\n",
       "<!DOCTYPE svg PUBLIC \"-//W3C//DTD SVG 1.1//EN\"\r\n",
       " \"http://www.w3.org/Graphics/SVG/1.1/DTD/svg11.dtd\">\r\n",
       "<!-- Generated by graphviz version 2.38.0 (20140413.2041)\r\n",
       " -->\r\n",
       "<!-- Title: %3 Pages: 1 -->\r\n",
       "<svg width=\"323pt\" height=\"568pt\"\r\n",
       " viewBox=\"0.00 0.00 323.39 568.00\" xmlns=\"http://www.w3.org/2000/svg\" xmlns:xlink=\"http://www.w3.org/1999/xlink\">\r\n",
       "<g id=\"graph0\" class=\"graph\" transform=\"scale(1 1) rotate(0) translate(4 564)\">\r\n",
       "<title>%3</title>\r\n",
       "<polygon fill=\"white\" stroke=\"none\" points=\"-4,4 -4,-564 319.394,-564 319.394,4 -4,4\"/>\r\n",
       "<!-- make_docs -->\r\n",
       "<g id=\"node1\" class=\"node\"><title>make_docs</title>\r\n",
       "<ellipse fill=\"lightgrey\" stroke=\"black\" cx=\"196\" cy=\"-77\" rx=\"52.7911\" ry=\"18\"/>\r\n",
       "<text text-anchor=\"middle\" x=\"196\" y=\"-73.3\" font-family=\"Times New Roman,serif\" font-size=\"14.00\">make_docs</text>\r\n",
       "</g>\r\n",
       "<!-- docs -->\r\n",
       "<g id=\"node15\" class=\"node\"><title>docs</title>\r\n",
       "<polygon fill=\"none\" stroke=\"black\" points=\"218,-23 216.083,-25.5556 202.667,-25.5556 200.75,-23 174,-23 174,-0 218,-0 218,-23\"/>\r\n",
       "<text text-anchor=\"middle\" x=\"196\" y=\"-7.8\" font-family=\"Times New Roman,serif\" font-size=\"14.00\">docs</text>\r\n",
       "</g>\r\n",
       "<!-- make_docs&#45;&gt;docs -->\r\n",
       "<g id=\"edge15\" class=\"edge\"><title>make_docs&#45;&gt;docs</title>\r\n",
       "<path fill=\"none\" stroke=\"black\" d=\"M196,-58.9832C196,-51.1157 196,-41.6973 196,-33.4019\"/>\r\n",
       "<polygon fill=\"black\" stroke=\"black\" points=\"199.5,-33.3686 196,-23.3687 192.5,-33.3687 199.5,-33.3686\"/>\r\n",
       "</g>\r\n",
       "<!-- make_nlp -->\r\n",
       "<g id=\"node2\" class=\"node\"><title>make_nlp</title>\r\n",
       "<ellipse fill=\"lightgrey\" stroke=\"black\" cx=\"247\" cy=\"-208\" rx=\"46.2923\" ry=\"18\"/>\r\n",
       "<text text-anchor=\"middle\" x=\"247\" y=\"-204.3\" font-family=\"Times New Roman,serif\" font-size=\"14.00\">make_nlp</text>\r\n",
       "</g>\r\n",
       "<!-- nlp -->\r\n",
       "<g id=\"node5\" class=\"node\"><title>nlp</title>\r\n",
       "<polygon fill=\"none\" stroke=\"black\" points=\"249,-154 247.083,-156.556 233.667,-156.556 231.75,-154 215,-154 215,-131 249,-131 249,-154\"/>\r\n",
       "<text text-anchor=\"middle\" x=\"232\" y=\"-138.8\" font-family=\"Times New Roman,serif\" font-size=\"14.00\">nlp</text>\r\n",
       "</g>\r\n",
       "<!-- make_nlp&#45;&gt;nlp -->\r\n",
       "<g id=\"edge3\" class=\"edge\"><title>make_nlp&#45;&gt;nlp</title>\r\n",
       "<path fill=\"none\" stroke=\"black\" d=\"M242.98,-189.983C241.101,-182.027 238.847,-172.485 236.872,-164.123\"/>\r\n",
       "<polygon fill=\"black\" stroke=\"black\" points=\"240.273,-163.296 234.567,-154.369 233.46,-164.905 240.273,-163.296\"/>\r\n",
       "</g>\r\n",
       "<!-- make_textents -->\r\n",
       "<g id=\"node3\" class=\"node\"><title>make_textents</title>\r\n",
       "<ellipse fill=\"lightgrey\" stroke=\"black\" cx=\"253\" cy=\"-339\" rx=\"62.2891\" ry=\"18\"/>\r\n",
       "<text text-anchor=\"middle\" x=\"253\" y=\"-335.3\" font-family=\"Times New Roman,serif\" font-size=\"14.00\">make_textents</text>\r\n",
       "</g>\r\n",
       "<!-- textents -->\r\n",
       "<g id=\"node4\" class=\"node\"><title>textents</title>\r\n",
       "<polygon fill=\"none\" stroke=\"black\" points=\"276.5,-285 274.583,-287.556 261.167,-287.556 259.25,-285 217.5,-285 217.5,-262 276.5,-262 276.5,-285\"/>\r\n",
       "<text text-anchor=\"middle\" x=\"247\" y=\"-269.8\" font-family=\"Times New Roman,serif\" font-size=\"14.00\">textents</text>\r\n",
       "</g>\r\n",
       "<!-- make_textents&#45;&gt;textents -->\r\n",
       "<g id=\"edge1\" class=\"edge\"><title>make_textents&#45;&gt;textents</title>\r\n",
       "<path fill=\"none\" stroke=\"black\" d=\"M251.392,-320.983C250.649,-313.116 249.759,-303.697 248.975,-295.402\"/>\r\n",
       "<polygon fill=\"black\" stroke=\"black\" points=\"252.452,-294.995 248.027,-285.369 245.483,-295.654 252.452,-294.995\"/>\r\n",
       "</g>\r\n",
       "<!-- textents&#45;&gt;make_nlp -->\r\n",
       "<g id=\"edge2\" class=\"edge\"><title>textents&#45;&gt;make_nlp</title>\r\n",
       "<path fill=\"none\" stroke=\"black\" d=\"M247,-261.728C247,-254.709 247,-245.213 247,-236.214\"/>\r\n",
       "<polygon fill=\"black\" stroke=\"black\" points=\"250.5,-236.056 247,-226.056 243.5,-236.056 250.5,-236.056\"/>\r\n",
       "</g>\r\n",
       "<!-- make_texts -->\r\n",
       "<g id=\"node6\" class=\"node\"><title>make_texts</title>\r\n",
       "<ellipse fill=\"lightgrey\" stroke=\"black\" cx=\"131\" cy=\"-208\" rx=\"51.9908\" ry=\"18\"/>\r\n",
       "<text text-anchor=\"middle\" x=\"131\" y=\"-204.3\" font-family=\"Times New Roman,serif\" font-size=\"14.00\">make_texts</text>\r\n",
       "</g>\r\n",
       "<!-- textents&#45;&gt;make_texts -->\r\n",
       "<g id=\"edge12\" class=\"edge\"><title>textents&#45;&gt;make_texts</title>\r\n",
       "<path fill=\"none\" stroke=\"black\" d=\"M227.584,-261.872C211.029,-252.809 186.797,-239.544 166.748,-228.569\"/>\r\n",
       "<polygon fill=\"black\" stroke=\"black\" points=\"168.325,-225.442 157.872,-223.71 164.963,-231.582 168.325,-225.442\"/>\r\n",
       "</g>\r\n",
       "<!-- nlp&#45;&gt;make_docs -->\r\n",
       "<g id=\"edge4\" class=\"edge\"><title>nlp&#45;&gt;make_docs</title>\r\n",
       "<path fill=\"none\" stroke=\"black\" d=\"M225.893,-130.728C221.741,-123.404 216.06,-113.383 210.765,-104.043\"/>\r\n",
       "<polygon fill=\"black\" stroke=\"black\" points=\"213.646,-102.029 205.67,-95.056 207.557,-105.481 213.646,-102.029\"/>\r\n",
       "</g>\r\n",
       "<!-- texts -->\r\n",
       "<g id=\"node14\" class=\"node\"><title>texts</title>\r\n",
       "<polygon fill=\"none\" stroke=\"black\" points=\"181.5,-154 179.583,-156.556 166.167,-156.556 164.25,-154 138.5,-154 138.5,-131 181.5,-131 181.5,-154\"/>\r\n",
       "<text text-anchor=\"middle\" x=\"160\" y=\"-138.8\" font-family=\"Times New Roman,serif\" font-size=\"14.00\">texts</text>\r\n",
       "</g>\r\n",
       "<!-- make_texts&#45;&gt;texts -->\r\n",
       "<g id=\"edge13\" class=\"edge\"><title>make_texts&#45;&gt;texts</title>\r\n",
       "<path fill=\"none\" stroke=\"black\" d=\"M138.771,-189.983C142.486,-181.85 146.957,-172.061 150.836,-163.567\"/>\r\n",
       "<polygon fill=\"black\" stroke=\"black\" points=\"154.066,-164.919 155.036,-154.369 147.698,-162.011 154.066,-164.919\"/>\r\n",
       "</g>\r\n",
       "<!-- make_articles -->\r\n",
       "<g id=\"node7\" class=\"node\"><title>make_articles</title>\r\n",
       "<ellipse fill=\"lightgrey\" stroke=\"black\" cx=\"113\" cy=\"-339\" rx=\"59.5901\" ry=\"18\"/>\r\n",
       "<text text-anchor=\"middle\" x=\"113\" y=\"-335.3\" font-family=\"Times New Roman,serif\" font-size=\"14.00\">make_articles</text>\r\n",
       "</g>\r\n",
       "<!-- articles -->\r\n",
       "<g id=\"node13\" class=\"node\"><title>articles</title>\r\n",
       "<polygon fill=\"none\" stroke=\"black\" points=\"147,-285 145.083,-287.556 131.667,-287.556 129.75,-285 91,-285 91,-262 147,-262 147,-285\"/>\r\n",
       "<text text-anchor=\"middle\" x=\"119\" y=\"-269.8\" font-family=\"Times New Roman,serif\" font-size=\"14.00\">articles</text>\r\n",
       "</g>\r\n",
       "<!-- make_articles&#45;&gt;articles -->\r\n",
       "<g id=\"edge10\" class=\"edge\"><title>make_articles&#45;&gt;articles</title>\r\n",
       "<path fill=\"none\" stroke=\"black\" d=\"M114.608,-320.983C115.351,-313.116 116.241,-303.697 117.025,-295.402\"/>\r\n",
       "<polygon fill=\"black\" stroke=\"black\" points=\"120.517,-295.654 117.973,-285.369 113.548,-294.995 120.517,-295.654\"/>\r\n",
       "</g>\r\n",
       "<!-- make_urls -->\r\n",
       "<g id=\"node8\" class=\"node\"><title>make_urls</title>\r\n",
       "<ellipse fill=\"lightgrey\" stroke=\"black\" cx=\"113\" cy=\"-470\" rx=\"48.1917\" ry=\"18\"/>\r\n",
       "<text text-anchor=\"middle\" x=\"113\" y=\"-466.3\" font-family=\"Times New Roman,serif\" font-size=\"14.00\">make_urls</text>\r\n",
       "</g>\r\n",
       "<!-- urls -->\r\n",
       "<g id=\"node12\" class=\"node\"><title>urls</title>\r\n",
       "<polygon fill=\"none\" stroke=\"black\" points=\"131.5,-416 129.583,-418.556 116.167,-418.556 114.25,-416 94.5,-416 94.5,-393 131.5,-393 131.5,-416\"/>\r\n",
       "<text text-anchor=\"middle\" x=\"113\" y=\"-400.8\" font-family=\"Times New Roman,serif\" font-size=\"14.00\">urls</text>\r\n",
       "</g>\r\n",
       "<!-- make_urls&#45;&gt;urls -->\r\n",
       "<g id=\"edge8\" class=\"edge\"><title>make_urls&#45;&gt;urls</title>\r\n",
       "<path fill=\"none\" stroke=\"black\" d=\"M113,-451.983C113,-444.116 113,-434.697 113,-426.402\"/>\r\n",
       "<polygon fill=\"black\" stroke=\"black\" points=\"116.5,-426.369 113,-416.369 109.5,-426.369 116.5,-426.369\"/>\r\n",
       "</g>\r\n",
       "<!-- domain -->\r\n",
       "<g id=\"node9\" class=\"node\"><title>domain</title>\r\n",
       "<polygon fill=\"lightgreen\" stroke=\"black\" points=\"58,-560 0,-560 0,-524 58,-524 58,-560\"/>\r\n",
       "<text text-anchor=\"middle\" x=\"29\" y=\"-538.3\" font-family=\"Times New Roman,serif\" font-size=\"14.00\">domain</text>\r\n",
       "</g>\r\n",
       "<!-- domain&#45;&gt;make_urls -->\r\n",
       "<g id=\"edge5\" class=\"edge\"><title>domain&#45;&gt;make_urls</title>\r\n",
       "<path fill=\"none\" stroke=\"black\" d=\"M49.7641,-523.697C60.8168,-514.486 74.5323,-503.056 86.3619,-493.198\"/>\r\n",
       "<polygon fill=\"black\" stroke=\"black\" points=\"88.7529,-495.762 94.1945,-486.671 84.2716,-490.384 88.7529,-495.762\"/>\r\n",
       "</g>\r\n",
       "<!-- searchtext -->\r\n",
       "<g id=\"node10\" class=\"node\"><title>searchtext</title>\r\n",
       "<polygon fill=\"lightgreen\" stroke=\"black\" points=\"149.5,-560 76.5,-560 76.5,-524 149.5,-524 149.5,-560\"/>\r\n",
       "<text text-anchor=\"middle\" x=\"113\" y=\"-538.3\" font-family=\"Times New Roman,serif\" font-size=\"14.00\">searchtext</text>\r\n",
       "</g>\r\n",
       "<!-- searchtext&#45;&gt;make_urls -->\r\n",
       "<g id=\"edge6\" class=\"edge\"><title>searchtext&#45;&gt;make_urls</title>\r\n",
       "<path fill=\"none\" stroke=\"black\" d=\"M113,-523.697C113,-515.983 113,-506.712 113,-498.112\"/>\r\n",
       "<polygon fill=\"black\" stroke=\"black\" points=\"116.5,-498.104 113,-488.104 109.5,-498.104 116.5,-498.104\"/>\r\n",
       "</g>\r\n",
       "<!-- startperiod -->\r\n",
       "<g id=\"node11\" class=\"node\"><title>startperiod</title>\r\n",
       "<polygon fill=\"lightgreen\" stroke=\"black\" points=\"244.5,-560 167.5,-560 167.5,-524 244.5,-524 244.5,-560\"/>\r\n",
       "<text text-anchor=\"middle\" x=\"206\" y=\"-538.3\" font-family=\"Times New Roman,serif\" font-size=\"14.00\">startperiod</text>\r\n",
       "</g>\r\n",
       "<!-- startperiod&#45;&gt;make_urls -->\r\n",
       "<g id=\"edge7\" class=\"edge\"><title>startperiod&#45;&gt;make_urls</title>\r\n",
       "<path fill=\"none\" stroke=\"black\" d=\"M183.011,-523.697C170.568,-514.331 155.077,-502.671 141.833,-492.702\"/>\r\n",
       "<polygon fill=\"black\" stroke=\"black\" points=\"143.603,-489.654 133.508,-486.436 139.393,-495.246 143.603,-489.654\"/>\r\n",
       "</g>\r\n",
       "<!-- urls&#45;&gt;make_articles -->\r\n",
       "<g id=\"edge9\" class=\"edge\"><title>urls&#45;&gt;make_articles</title>\r\n",
       "<path fill=\"none\" stroke=\"black\" d=\"M113,-392.728C113,-385.709 113,-376.213 113,-367.214\"/>\r\n",
       "<polygon fill=\"black\" stroke=\"black\" points=\"116.5,-367.056 113,-357.056 109.5,-367.056 116.5,-367.056\"/>\r\n",
       "</g>\r\n",
       "<!-- articles&#45;&gt;make_texts -->\r\n",
       "<g id=\"edge11\" class=\"edge\"><title>articles&#45;&gt;make_texts</title>\r\n",
       "<path fill=\"none\" stroke=\"black\" d=\"M121.036,-261.728C122.377,-254.632 124.196,-245.006 125.913,-235.921\"/>\r\n",
       "<polygon fill=\"black\" stroke=\"black\" points=\"129.359,-236.532 127.777,-226.056 122.481,-235.232 129.359,-236.532\"/>\r\n",
       "</g>\r\n",
       "<!-- texts&#45;&gt;make_docs -->\r\n",
       "<g id=\"edge14\" class=\"edge\"><title>texts&#45;&gt;make_docs</title>\r\n",
       "<path fill=\"none\" stroke=\"black\" d=\"M166.107,-130.728C170.259,-123.404 175.94,-113.383 181.235,-104.043\"/>\r\n",
       "<polygon fill=\"black\" stroke=\"black\" points=\"184.443,-105.481 186.33,-95.056 178.354,-102.029 184.443,-105.481\"/>\r\n",
       "</g>\r\n",
       "</g>\r\n",
       "</svg>\r\n"
      ],
      "text/plain": [
       "<graphviz.dot.Digraph at 0x2a8b945d108>"
      ]
     },
     "execution_count": 16,
     "metadata": {},
     "output_type": "execute_result"
    },
    {
     "name": "stdout",
     "output_type": "stream",
     "text": [
      "time: 145 ms\n"
     ]
    }
   ],
   "source": [
    "make_docs.view()"
   ]
  },
  {
   "cell_type": "code",
   "execution_count": 17,
   "metadata": {},
   "outputs": [
    {
     "name": "stderr",
     "output_type": "stream",
     "text": [
      "[cellevents:INFO]:starting (cellevents.py:43, time=Jan-07 15:00)\n"
     ]
    },
    {
     "name": "stdout",
     "output_type": "stream",
     "text": [
      "\n",
      "    make_articles: \n",
      "        inputs: \n",
      "            urls: /pipedata/sun/urls.pkl\n",
      "        \n",
      "        output: /pipedata/sun/articles.pkl\n",
      "    \n",
      "    make_docents: \n",
      "        inputs: \n",
      "            docs: /pipedata/sun/docs.pkl\n",
      "            media: /pipedata/sun/media.pkl\n",
      "            textents: /pipedata/sun/textents.pkl\n",
      "        \n",
      "        output: /pipedata/sun/docents.pkl\n",
      "    \n",
      "    make_docs: \n",
      "        inputs: \n",
      "            nlp: /pipedata/sun/nlp.pkl\n",
      "            texts: /pipedata/sun/texts.pkl\n",
      "        \n",
      "        output: /pipedata/sun/docs.pkl\n",
      "    \n",
      "    make_nlp: \n",
      "        inputs: \n",
      "            textents: /pipedata/sun/textents.pkl\n",
      "        \n",
      "        output: /pipedata/sun/nlp.pkl\n",
      "    \n",
      "    make_textents: \n",
      "        inputs: \n",
      "        output: /pipedata/sun/textents.pkl\n",
      "    \n",
      "    make_texts: \n",
      "        inputs: \n",
      "            articles: /pipedata/sun/articles.pkl\n",
      "            textents: /pipedata/sun/textents.pkl\n",
      "        \n",
      "        output: /pipedata/sun/texts.pkl\n",
      "    \n",
      "    make_urls: \n",
      "        inputs: \n",
      "            domain: 'sun.co.uk'\n",
      "            searchtext: ''\n",
      "            startperiod: 0\n",
      "        \n",
      "        output: /pipedata/sun/urls.pkl\n",
      "    \n",
      "\n",
      "time: 5 ms\n"
     ]
    }
   ],
   "source": [
    "import json\n",
    "print(json.dumps(p.dumps(), indent=4, sort_keys=True)\n",
    "                                          .replace(\"{\",\"\")\n",
    "                                          .replace(\"}\",\"\")\n",
    "                                          .replace(\"\\\"\", \"\")\n",
    "                                          .replace(\",\", \"\"))"
   ]
  },
  {
   "cell_type": "markdown",
   "metadata": {},
   "source": [
    "## Run the pipeline"
   ]
  },
  {
   "cell_type": "code",
   "execution_count": 18,
   "metadata": {},
   "outputs": [
    {
     "name": "stderr",
     "output_type": "stream",
     "text": [
      "[cellevents:INFO]:starting (cellevents.py:43, time=Jan-07 15:00)\n",
      "[root:INFO]:creating osfs:///pipedata/sun/urls.pkl (taskmaker.py:101, time=Jan-07 15:00)\n",
      "[root:INFO]:creating osfs:///pipedata/sun/articles.pkl (taskmaker.py:101, time=Jan-07 15:00)\n",
      "[root:INFO]:creating osfs:///pipedata/sun/textents.pkl (taskmaker.py:101, time=Jan-07 15:00)\n",
      "[root:INFO]:creating osfs:///pipedata/sun/texts.pkl (taskmaker.py:101, time=Jan-07 15:00)\n"
     ]
    },
    {
     "data": {
      "text/plain": [
       "'sun.co.uk=>urls=>articles=>texts'"
      ]
     },
     "execution_count": 18,
     "metadata": {},
     "output_type": "execute_result"
    },
    {
     "name": "stdout",
     "output_type": "stream",
     "text": [
      "time: 109 ms\n"
     ]
    }
   ],
   "source": [
    "make_texts()"
   ]
  },
  {
   "cell_type": "markdown",
   "metadata": {},
   "source": [
    "If we now look at the pipeline we see only what remains to be run; files already created are in green; and the upstream functions that are already completed are no longer shown"
   ]
  },
  {
   "cell_type": "code",
   "execution_count": 19,
   "metadata": {},
   "outputs": [
    {
     "name": "stderr",
     "output_type": "stream",
     "text": [
      "[cellevents:INFO]:starting (cellevents.py:43, time=Jan-07 15:00)\n"
     ]
    },
    {
     "data": {
      "image/svg+xml": [
       "<?xml version=\"1.0\" encoding=\"UTF-8\" standalone=\"no\"?>\r\n",
       "<!DOCTYPE svg PUBLIC \"-//W3C//DTD SVG 1.1//EN\"\r\n",
       " \"http://www.w3.org/Graphics/SVG/1.1/DTD/svg11.dtd\">\r\n",
       "<!-- Generated by graphviz version 2.38.0 (20140413.2041)\r\n",
       " -->\r\n",
       "<!-- Title: %3 Pages: 1 -->\r\n",
       "<svg width=\"128pt\" height=\"162pt\"\r\n",
       " viewBox=\"0.00 0.00 127.59 162.00\" xmlns=\"http://www.w3.org/2000/svg\" xmlns:xlink=\"http://www.w3.org/1999/xlink\">\r\n",
       "<g id=\"graph0\" class=\"graph\" transform=\"scale(1 1) rotate(0) translate(4 158)\">\r\n",
       "<title>%3</title>\r\n",
       "<polygon fill=\"white\" stroke=\"none\" points=\"-4,4 -4,-158 123.589,-158 123.589,4 -4,4\"/>\r\n",
       "<!-- make_articles -->\r\n",
       "<g id=\"node1\" class=\"node\"><title>make_articles</title>\r\n",
       "<ellipse fill=\"lightgrey\" stroke=\"black\" cx=\"59.7947\" cy=\"-77\" rx=\"59.5901\" ry=\"18\"/>\r\n",
       "<text text-anchor=\"middle\" x=\"59.7947\" y=\"-73.3\" font-family=\"Times New Roman,serif\" font-size=\"14.00\">make_articles</text>\r\n",
       "</g>\r\n",
       "<!-- articles -->\r\n",
       "<g id=\"node3\" class=\"node\"><title>articles</title>\r\n",
       "<polygon fill=\"lightgreen\" stroke=\"black\" points=\"87.7947,-23 85.878,-25.5556 72.4614,-25.5556 70.5447,-23 31.7947,-23 31.7947,-0 87.7947,-0 87.7947,-23\"/>\r\n",
       "<text text-anchor=\"middle\" x=\"59.7947\" y=\"-7.8\" font-family=\"Times New Roman,serif\" font-size=\"14.00\">articles</text>\r\n",
       "</g>\r\n",
       "<!-- make_articles&#45;&gt;articles -->\r\n",
       "<g id=\"edge2\" class=\"edge\"><title>make_articles&#45;&gt;articles</title>\r\n",
       "<path fill=\"none\" stroke=\"black\" d=\"M59.7947,-58.9832C59.7947,-51.1157 59.7947,-41.6973 59.7947,-33.4019\"/>\r\n",
       "<polygon fill=\"black\" stroke=\"black\" points=\"63.2948,-33.3686 59.7947,-23.3687 56.2948,-33.3687 63.2948,-33.3686\"/>\r\n",
       "</g>\r\n",
       "<!-- urls -->\r\n",
       "<g id=\"node2\" class=\"node\"><title>urls</title>\r\n",
       "<polygon fill=\"lightgreen\" stroke=\"black\" points=\"78.2947,-154 76.378,-156.556 62.9614,-156.556 61.0447,-154 41.2947,-154 41.2947,-131 78.2947,-131 78.2947,-154\"/>\r\n",
       "<text text-anchor=\"middle\" x=\"59.7947\" y=\"-138.8\" font-family=\"Times New Roman,serif\" font-size=\"14.00\">urls</text>\r\n",
       "</g>\r\n",
       "<!-- urls&#45;&gt;make_articles -->\r\n",
       "<g id=\"edge1\" class=\"edge\"><title>urls&#45;&gt;make_articles</title>\r\n",
       "<path fill=\"none\" stroke=\"black\" d=\"M59.7947,-130.728C59.7947,-123.709 59.7947,-114.213 59.7947,-105.214\"/>\r\n",
       "<polygon fill=\"black\" stroke=\"black\" points=\"63.2948,-105.056 59.7947,-95.056 56.2948,-105.056 63.2948,-105.056\"/>\r\n",
       "</g>\r\n",
       "</g>\r\n",
       "</svg>\r\n"
      ],
      "text/plain": [
       "<graphviz.dot.Digraph at 0x2a8b945d388>"
      ]
     },
     "execution_count": 19,
     "metadata": {},
     "output_type": "execute_result"
    },
    {
     "name": "stdout",
     "output_type": "stream",
     "text": [
      "time: 88 ms\n"
     ]
    }
   ],
   "source": [
    "make_articles.view()"
   ]
  },
  {
   "cell_type": "markdown",
   "metadata": {},
   "source": [
    "To see the full upstream pipeline set parents=True......which shows everything from \"texts\" upstream is green."
   ]
  },
  {
   "cell_type": "code",
   "execution_count": 20,
   "metadata": {},
   "outputs": [
    {
     "name": "stderr",
     "output_type": "stream",
     "text": [
      "[cellevents:INFO]:starting (cellevents.py:43, time=Jan-07 15:00)\n"
     ]
    },
    {
     "data": {
      "image/svg+xml": [
       "<?xml version=\"1.0\" encoding=\"UTF-8\" standalone=\"no\"?>\r\n",
       "<!DOCTYPE svg PUBLIC \"-//W3C//DTD SVG 1.1//EN\"\r\n",
       " \"http://www.w3.org/Graphics/SVG/1.1/DTD/svg11.dtd\">\r\n",
       "<!-- Generated by graphviz version 2.38.0 (20140413.2041)\r\n",
       " -->\r\n",
       "<!-- Title: %3 Pages: 1 -->\r\n",
       "<svg width=\"323pt\" height=\"568pt\"\r\n",
       " viewBox=\"0.00 0.00 323.39 568.00\" xmlns=\"http://www.w3.org/2000/svg\" xmlns:xlink=\"http://www.w3.org/1999/xlink\">\r\n",
       "<g id=\"graph0\" class=\"graph\" transform=\"scale(1 1) rotate(0) translate(4 564)\">\r\n",
       "<title>%3</title>\r\n",
       "<polygon fill=\"white\" stroke=\"none\" points=\"-4,4 -4,-564 319.394,-564 319.394,4 -4,4\"/>\r\n",
       "<!-- make_docs -->\r\n",
       "<g id=\"node1\" class=\"node\"><title>make_docs</title>\r\n",
       "<ellipse fill=\"lightgrey\" stroke=\"black\" cx=\"196\" cy=\"-77\" rx=\"52.7911\" ry=\"18\"/>\r\n",
       "<text text-anchor=\"middle\" x=\"196\" y=\"-73.3\" font-family=\"Times New Roman,serif\" font-size=\"14.00\">make_docs</text>\r\n",
       "</g>\r\n",
       "<!-- docs -->\r\n",
       "<g id=\"node15\" class=\"node\"><title>docs</title>\r\n",
       "<polygon fill=\"none\" stroke=\"black\" points=\"218,-23 216.083,-25.5556 202.667,-25.5556 200.75,-23 174,-23 174,-0 218,-0 218,-23\"/>\r\n",
       "<text text-anchor=\"middle\" x=\"196\" y=\"-7.8\" font-family=\"Times New Roman,serif\" font-size=\"14.00\">docs</text>\r\n",
       "</g>\r\n",
       "<!-- make_docs&#45;&gt;docs -->\r\n",
       "<g id=\"edge15\" class=\"edge\"><title>make_docs&#45;&gt;docs</title>\r\n",
       "<path fill=\"none\" stroke=\"black\" d=\"M196,-58.9832C196,-51.1157 196,-41.6973 196,-33.4019\"/>\r\n",
       "<polygon fill=\"black\" stroke=\"black\" points=\"199.5,-33.3686 196,-23.3687 192.5,-33.3687 199.5,-33.3686\"/>\r\n",
       "</g>\r\n",
       "<!-- make_nlp -->\r\n",
       "<g id=\"node2\" class=\"node\"><title>make_nlp</title>\r\n",
       "<ellipse fill=\"lightgrey\" stroke=\"black\" cx=\"247\" cy=\"-208\" rx=\"46.2923\" ry=\"18\"/>\r\n",
       "<text text-anchor=\"middle\" x=\"247\" y=\"-204.3\" font-family=\"Times New Roman,serif\" font-size=\"14.00\">make_nlp</text>\r\n",
       "</g>\r\n",
       "<!-- nlp -->\r\n",
       "<g id=\"node5\" class=\"node\"><title>nlp</title>\r\n",
       "<polygon fill=\"none\" stroke=\"black\" points=\"249,-154 247.083,-156.556 233.667,-156.556 231.75,-154 215,-154 215,-131 249,-131 249,-154\"/>\r\n",
       "<text text-anchor=\"middle\" x=\"232\" y=\"-138.8\" font-family=\"Times New Roman,serif\" font-size=\"14.00\">nlp</text>\r\n",
       "</g>\r\n",
       "<!-- make_nlp&#45;&gt;nlp -->\r\n",
       "<g id=\"edge3\" class=\"edge\"><title>make_nlp&#45;&gt;nlp</title>\r\n",
       "<path fill=\"none\" stroke=\"black\" d=\"M242.98,-189.983C241.101,-182.027 238.847,-172.485 236.872,-164.123\"/>\r\n",
       "<polygon fill=\"black\" stroke=\"black\" points=\"240.273,-163.296 234.567,-154.369 233.46,-164.905 240.273,-163.296\"/>\r\n",
       "</g>\r\n",
       "<!-- textents -->\r\n",
       "<g id=\"node3\" class=\"node\"><title>textents</title>\r\n",
       "<polygon fill=\"lightgreen\" stroke=\"black\" points=\"276.5,-285 274.583,-287.556 261.167,-287.556 259.25,-285 217.5,-285 217.5,-262 276.5,-262 276.5,-285\"/>\r\n",
       "<text text-anchor=\"middle\" x=\"247\" y=\"-269.8\" font-family=\"Times New Roman,serif\" font-size=\"14.00\">textents</text>\r\n",
       "</g>\r\n",
       "<!-- textents&#45;&gt;make_nlp -->\r\n",
       "<g id=\"edge1\" class=\"edge\"><title>textents&#45;&gt;make_nlp</title>\r\n",
       "<path fill=\"none\" stroke=\"black\" d=\"M247,-261.728C247,-254.709 247,-245.213 247,-236.214\"/>\r\n",
       "<polygon fill=\"black\" stroke=\"black\" points=\"250.5,-236.056 247,-226.056 243.5,-236.056 250.5,-236.056\"/>\r\n",
       "</g>\r\n",
       "<!-- make_texts -->\r\n",
       "<g id=\"node7\" class=\"node\"><title>make_texts</title>\r\n",
       "<ellipse fill=\"lightgrey\" stroke=\"black\" cx=\"131\" cy=\"-208\" rx=\"51.9908\" ry=\"18\"/>\r\n",
       "<text text-anchor=\"middle\" x=\"131\" y=\"-204.3\" font-family=\"Times New Roman,serif\" font-size=\"14.00\">make_texts</text>\r\n",
       "</g>\r\n",
       "<!-- textents&#45;&gt;make_texts -->\r\n",
       "<g id=\"edge13\" class=\"edge\"><title>textents&#45;&gt;make_texts</title>\r\n",
       "<path fill=\"none\" stroke=\"black\" d=\"M227.584,-261.872C211.029,-252.809 186.797,-239.544 166.748,-228.569\"/>\r\n",
       "<polygon fill=\"black\" stroke=\"black\" points=\"168.325,-225.442 157.872,-223.71 164.963,-231.582 168.325,-225.442\"/>\r\n",
       "</g>\r\n",
       "<!-- make_textents -->\r\n",
       "<g id=\"node4\" class=\"node\"><title>make_textents</title>\r\n",
       "<ellipse fill=\"lightgrey\" stroke=\"black\" cx=\"253\" cy=\"-339\" rx=\"62.2891\" ry=\"18\"/>\r\n",
       "<text text-anchor=\"middle\" x=\"253\" y=\"-335.3\" font-family=\"Times New Roman,serif\" font-size=\"14.00\">make_textents</text>\r\n",
       "</g>\r\n",
       "<!-- make_textents&#45;&gt;textents -->\r\n",
       "<g id=\"edge2\" class=\"edge\"><title>make_textents&#45;&gt;textents</title>\r\n",
       "<path fill=\"none\" stroke=\"black\" d=\"M251.392,-320.983C250.649,-313.116 249.759,-303.697 248.975,-295.402\"/>\r\n",
       "<polygon fill=\"black\" stroke=\"black\" points=\"252.452,-294.995 248.027,-285.369 245.483,-295.654 252.452,-294.995\"/>\r\n",
       "</g>\r\n",
       "<!-- nlp&#45;&gt;make_docs -->\r\n",
       "<g id=\"edge4\" class=\"edge\"><title>nlp&#45;&gt;make_docs</title>\r\n",
       "<path fill=\"none\" stroke=\"black\" d=\"M225.893,-130.728C221.741,-123.404 216.06,-113.383 210.765,-104.043\"/>\r\n",
       "<polygon fill=\"black\" stroke=\"black\" points=\"213.646,-102.029 205.67,-95.056 207.557,-105.481 213.646,-102.029\"/>\r\n",
       "</g>\r\n",
       "<!-- texts -->\r\n",
       "<g id=\"node6\" class=\"node\"><title>texts</title>\r\n",
       "<polygon fill=\"lightgreen\" stroke=\"black\" points=\"181.5,-154 179.583,-156.556 166.167,-156.556 164.25,-154 138.5,-154 138.5,-131 181.5,-131 181.5,-154\"/>\r\n",
       "<text text-anchor=\"middle\" x=\"160\" y=\"-138.8\" font-family=\"Times New Roman,serif\" font-size=\"14.00\">texts</text>\r\n",
       "</g>\r\n",
       "<!-- texts&#45;&gt;make_docs -->\r\n",
       "<g id=\"edge5\" class=\"edge\"><title>texts&#45;&gt;make_docs</title>\r\n",
       "<path fill=\"none\" stroke=\"black\" d=\"M166.107,-130.728C170.259,-123.404 175.94,-113.383 181.235,-104.043\"/>\r\n",
       "<polygon fill=\"black\" stroke=\"black\" points=\"184.443,-105.481 186.33,-95.056 178.354,-102.029 184.443,-105.481\"/>\r\n",
       "</g>\r\n",
       "<!-- make_texts&#45;&gt;texts -->\r\n",
       "<g id=\"edge14\" class=\"edge\"><title>make_texts&#45;&gt;texts</title>\r\n",
       "<path fill=\"none\" stroke=\"black\" d=\"M138.771,-189.983C142.486,-181.85 146.957,-172.061 150.836,-163.567\"/>\r\n",
       "<polygon fill=\"black\" stroke=\"black\" points=\"154.066,-164.919 155.036,-154.369 147.698,-162.011 154.066,-164.919\"/>\r\n",
       "</g>\r\n",
       "<!-- articles -->\r\n",
       "<g id=\"node8\" class=\"node\"><title>articles</title>\r\n",
       "<polygon fill=\"lightgreen\" stroke=\"black\" points=\"147,-285 145.083,-287.556 131.667,-287.556 129.75,-285 91,-285 91,-262 147,-262 147,-285\"/>\r\n",
       "<text text-anchor=\"middle\" x=\"119\" y=\"-269.8\" font-family=\"Times New Roman,serif\" font-size=\"14.00\">articles</text>\r\n",
       "</g>\r\n",
       "<!-- articles&#45;&gt;make_texts -->\r\n",
       "<g id=\"edge6\" class=\"edge\"><title>articles&#45;&gt;make_texts</title>\r\n",
       "<path fill=\"none\" stroke=\"black\" d=\"M121.036,-261.728C122.377,-254.632 124.196,-245.006 125.913,-235.921\"/>\r\n",
       "<polygon fill=\"black\" stroke=\"black\" points=\"129.359,-236.532 127.777,-226.056 122.481,-235.232 129.359,-236.532\"/>\r\n",
       "</g>\r\n",
       "<!-- make_articles -->\r\n",
       "<g id=\"node9\" class=\"node\"><title>make_articles</title>\r\n",
       "<ellipse fill=\"lightgrey\" stroke=\"black\" cx=\"113\" cy=\"-339\" rx=\"59.5901\" ry=\"18\"/>\r\n",
       "<text text-anchor=\"middle\" x=\"113\" y=\"-335.3\" font-family=\"Times New Roman,serif\" font-size=\"14.00\">make_articles</text>\r\n",
       "</g>\r\n",
       "<!-- make_articles&#45;&gt;articles -->\r\n",
       "<g id=\"edge12\" class=\"edge\"><title>make_articles&#45;&gt;articles</title>\r\n",
       "<path fill=\"none\" stroke=\"black\" d=\"M114.608,-320.983C115.351,-313.116 116.241,-303.697 117.025,-295.402\"/>\r\n",
       "<polygon fill=\"black\" stroke=\"black\" points=\"120.517,-295.654 117.973,-285.369 113.548,-294.995 120.517,-295.654\"/>\r\n",
       "</g>\r\n",
       "<!-- urls -->\r\n",
       "<g id=\"node10\" class=\"node\"><title>urls</title>\r\n",
       "<polygon fill=\"lightgreen\" stroke=\"black\" points=\"131.5,-416 129.583,-418.556 116.167,-418.556 114.25,-416 94.5,-416 94.5,-393 131.5,-393 131.5,-416\"/>\r\n",
       "<text text-anchor=\"middle\" x=\"113\" y=\"-400.8\" font-family=\"Times New Roman,serif\" font-size=\"14.00\">urls</text>\r\n",
       "</g>\r\n",
       "<!-- urls&#45;&gt;make_articles -->\r\n",
       "<g id=\"edge7\" class=\"edge\"><title>urls&#45;&gt;make_articles</title>\r\n",
       "<path fill=\"none\" stroke=\"black\" d=\"M113,-392.728C113,-385.709 113,-376.213 113,-367.214\"/>\r\n",
       "<polygon fill=\"black\" stroke=\"black\" points=\"116.5,-367.056 113,-357.056 109.5,-367.056 116.5,-367.056\"/>\r\n",
       "</g>\r\n",
       "<!-- make_urls -->\r\n",
       "<g id=\"node11\" class=\"node\"><title>make_urls</title>\r\n",
       "<ellipse fill=\"lightgrey\" stroke=\"black\" cx=\"113\" cy=\"-470\" rx=\"48.1917\" ry=\"18\"/>\r\n",
       "<text text-anchor=\"middle\" x=\"113\" y=\"-466.3\" font-family=\"Times New Roman,serif\" font-size=\"14.00\">make_urls</text>\r\n",
       "</g>\r\n",
       "<!-- make_urls&#45;&gt;urls -->\r\n",
       "<g id=\"edge11\" class=\"edge\"><title>make_urls&#45;&gt;urls</title>\r\n",
       "<path fill=\"none\" stroke=\"black\" d=\"M113,-451.983C113,-444.116 113,-434.697 113,-426.402\"/>\r\n",
       "<polygon fill=\"black\" stroke=\"black\" points=\"116.5,-426.369 113,-416.369 109.5,-426.369 116.5,-426.369\"/>\r\n",
       "</g>\r\n",
       "<!-- domain -->\r\n",
       "<g id=\"node12\" class=\"node\"><title>domain</title>\r\n",
       "<polygon fill=\"lightgreen\" stroke=\"black\" points=\"58,-560 0,-560 0,-524 58,-524 58,-560\"/>\r\n",
       "<text text-anchor=\"middle\" x=\"29\" y=\"-538.3\" font-family=\"Times New Roman,serif\" font-size=\"14.00\">domain</text>\r\n",
       "</g>\r\n",
       "<!-- domain&#45;&gt;make_urls -->\r\n",
       "<g id=\"edge8\" class=\"edge\"><title>domain&#45;&gt;make_urls</title>\r\n",
       "<path fill=\"none\" stroke=\"black\" d=\"M49.7641,-523.697C60.8168,-514.486 74.5323,-503.056 86.3619,-493.198\"/>\r\n",
       "<polygon fill=\"black\" stroke=\"black\" points=\"88.7529,-495.762 94.1945,-486.671 84.2716,-490.384 88.7529,-495.762\"/>\r\n",
       "</g>\r\n",
       "<!-- searchtext -->\r\n",
       "<g id=\"node13\" class=\"node\"><title>searchtext</title>\r\n",
       "<polygon fill=\"lightgreen\" stroke=\"black\" points=\"149.5,-560 76.5,-560 76.5,-524 149.5,-524 149.5,-560\"/>\r\n",
       "<text text-anchor=\"middle\" x=\"113\" y=\"-538.3\" font-family=\"Times New Roman,serif\" font-size=\"14.00\">searchtext</text>\r\n",
       "</g>\r\n",
       "<!-- searchtext&#45;&gt;make_urls -->\r\n",
       "<g id=\"edge9\" class=\"edge\"><title>searchtext&#45;&gt;make_urls</title>\r\n",
       "<path fill=\"none\" stroke=\"black\" d=\"M113,-523.697C113,-515.983 113,-506.712 113,-498.112\"/>\r\n",
       "<polygon fill=\"black\" stroke=\"black\" points=\"116.5,-498.104 113,-488.104 109.5,-498.104 116.5,-498.104\"/>\r\n",
       "</g>\r\n",
       "<!-- startperiod -->\r\n",
       "<g id=\"node14\" class=\"node\"><title>startperiod</title>\r\n",
       "<polygon fill=\"lightgreen\" stroke=\"black\" points=\"244.5,-560 167.5,-560 167.5,-524 244.5,-524 244.5,-560\"/>\r\n",
       "<text text-anchor=\"middle\" x=\"206\" y=\"-538.3\" font-family=\"Times New Roman,serif\" font-size=\"14.00\">startperiod</text>\r\n",
       "</g>\r\n",
       "<!-- startperiod&#45;&gt;make_urls -->\r\n",
       "<g id=\"edge10\" class=\"edge\"><title>startperiod&#45;&gt;make_urls</title>\r\n",
       "<path fill=\"none\" stroke=\"black\" d=\"M183.011,-523.697C170.568,-514.331 155.077,-502.671 141.833,-492.702\"/>\r\n",
       "<polygon fill=\"black\" stroke=\"black\" points=\"143.603,-489.654 133.508,-486.436 139.393,-495.246 143.603,-489.654\"/>\r\n",
       "</g>\r\n",
       "</g>\r\n",
       "</svg>\r\n"
      ],
      "text/plain": [
       "<graphviz.dot.Digraph at 0x2a8b944bec8>"
      ]
     },
     "execution_count": 20,
     "metadata": {},
     "output_type": "execute_result"
    },
    {
     "name": "stdout",
     "output_type": "stream",
     "text": [
      "time: 110 ms\n"
     ]
    }
   ],
   "source": [
    "make_docs.view(parents=True)"
   ]
  },
  {
   "cell_type": "markdown",
   "metadata": {},
   "source": [
    "We can load the contents of any item in green"
   ]
  },
  {
   "cell_type": "code",
   "execution_count": 21,
   "metadata": {},
   "outputs": [
    {
     "name": "stderr",
     "output_type": "stream",
     "text": [
      "[cellevents:INFO]:starting (cellevents.py:43, time=Jan-07 15:00)\n"
     ]
    },
    {
     "data": {
      "text/plain": [
       "'sun.co.uk=>urls=>articles'"
      ]
     },
     "execution_count": 21,
     "metadata": {},
     "output_type": "execute_result"
    },
    {
     "name": "stdout",
     "output_type": "stream",
     "text": [
      "time: 4 ms\n"
     ]
    }
   ],
   "source": [
    "p.load(\"articles\")"
   ]
  },
  {
   "cell_type": "markdown",
   "metadata": {},
   "source": [
    "Now when we run make_docs it only needs to run the functions that have not already been successful."
   ]
  },
  {
   "cell_type": "code",
   "execution_count": 22,
   "metadata": {},
   "outputs": [
    {
     "name": "stderr",
     "output_type": "stream",
     "text": [
      "[cellevents:INFO]:starting (cellevents.py:43, time=Jan-07 15:00)\n",
      "[root:INFO]:creating osfs:///pipedata/sun/nlp.pkl (taskmaker.py:101, time=Jan-07 15:00)\n",
      "[root:INFO]:creating osfs:///pipedata/sun/docs.pkl (taskmaker.py:101, time=Jan-07 15:00)\n"
     ]
    },
    {
     "data": {
      "text/plain": [
       "'sun.co.uk=>urls=>articles=>texts=>docs'"
      ]
     },
     "execution_count": 22,
     "metadata": {},
     "output_type": "execute_result"
    },
    {
     "name": "stdout",
     "output_type": "stream",
     "text": [
      "time: 52 ms\n"
     ]
    }
   ],
   "source": [
    "make_docs()"
   ]
  },
  {
   "cell_type": "markdown",
   "metadata": {},
   "source": [
    "Now the final output is green and complete"
   ]
  },
  {
   "cell_type": "code",
   "execution_count": 23,
   "metadata": {},
   "outputs": [
    {
     "name": "stderr",
     "output_type": "stream",
     "text": [
      "[cellevents:INFO]:starting (cellevents.py:43, time=Jan-07 15:01)\n"
     ]
    },
    {
     "data": {
      "image/svg+xml": [
       "<?xml version=\"1.0\" encoding=\"UTF-8\" standalone=\"no\"?>\r\n",
       "<!DOCTYPE svg PUBLIC \"-//W3C//DTD SVG 1.1//EN\"\r\n",
       " \"http://www.w3.org/Graphics/SVG/1.1/DTD/svg11.dtd\">\r\n",
       "<!-- Generated by graphviz version 2.38.0 (20140413.2041)\r\n",
       " -->\r\n",
       "<!-- Title: %3 Pages: 1 -->\r\n",
       "<svg width=\"113pt\" height=\"162pt\"\r\n",
       " viewBox=\"0.00 0.00 113.29 162.00\" xmlns=\"http://www.w3.org/2000/svg\" xmlns:xlink=\"http://www.w3.org/1999/xlink\">\r\n",
       "<g id=\"graph0\" class=\"graph\" transform=\"scale(1 1) rotate(0) translate(4 158)\">\r\n",
       "<title>%3</title>\r\n",
       "<polygon fill=\"white\" stroke=\"none\" points=\"-4,4 -4,-158 109.291,-158 109.291,4 -4,4\"/>\r\n",
       "<!-- make_docs -->\r\n",
       "<g id=\"node1\" class=\"node\"><title>make_docs</title>\r\n",
       "<ellipse fill=\"lightgrey\" stroke=\"black\" cx=\"52.6453\" cy=\"-77\" rx=\"52.7911\" ry=\"18\"/>\r\n",
       "<text text-anchor=\"middle\" x=\"52.6453\" y=\"-73.3\" font-family=\"Times New Roman,serif\" font-size=\"14.00\">make_docs</text>\r\n",
       "</g>\r\n",
       "<!-- docs -->\r\n",
       "<g id=\"node4\" class=\"node\"><title>docs</title>\r\n",
       "<polygon fill=\"lightgreen\" stroke=\"black\" points=\"74.6453,-23 72.7287,-25.5556 59.312,-25.5556 57.3953,-23 30.6453,-23 30.6453,-0 74.6453,-0 74.6453,-23\"/>\r\n",
       "<text text-anchor=\"middle\" x=\"52.6453\" y=\"-7.8\" font-family=\"Times New Roman,serif\" font-size=\"14.00\">docs</text>\r\n",
       "</g>\r\n",
       "<!-- make_docs&#45;&gt;docs -->\r\n",
       "<g id=\"edge3\" class=\"edge\"><title>make_docs&#45;&gt;docs</title>\r\n",
       "<path fill=\"none\" stroke=\"black\" d=\"M52.6453,-58.9832C52.6453,-51.1157 52.6453,-41.6973 52.6453,-33.4019\"/>\r\n",
       "<polygon fill=\"black\" stroke=\"black\" points=\"56.1454,-33.3686 52.6453,-23.3687 49.1454,-33.3687 56.1454,-33.3686\"/>\r\n",
       "</g>\r\n",
       "<!-- nlp -->\r\n",
       "<g id=\"node2\" class=\"node\"><title>nlp</title>\r\n",
       "<polygon fill=\"lightgreen\" stroke=\"black\" points=\"41.6453,-154 39.7287,-156.556 26.312,-156.556 24.3953,-154 7.64533,-154 7.64533,-131 41.6453,-131 41.6453,-154\"/>\r\n",
       "<text text-anchor=\"middle\" x=\"24.6453\" y=\"-138.8\" font-family=\"Times New Roman,serif\" font-size=\"14.00\">nlp</text>\r\n",
       "</g>\r\n",
       "<!-- nlp&#45;&gt;make_docs -->\r\n",
       "<g id=\"edge1\" class=\"edge\"><title>nlp&#45;&gt;make_docs</title>\r\n",
       "<path fill=\"none\" stroke=\"black\" d=\"M29.3951,-130.728C32.5912,-123.48 36.9515,-113.591 41.0329,-104.335\"/>\r\n",
       "<polygon fill=\"black\" stroke=\"black\" points=\"44.2924,-105.618 45.1246,-95.056 37.8874,-102.794 44.2924,-105.618\"/>\r\n",
       "</g>\r\n",
       "<!-- texts -->\r\n",
       "<g id=\"node3\" class=\"node\"><title>texts</title>\r\n",
       "<polygon fill=\"lightgreen\" stroke=\"black\" points=\"103.145,-154 101.229,-156.556 87.812,-156.556 85.8953,-154 60.1453,-154 60.1453,-131 103.145,-131 103.145,-154\"/>\r\n",
       "<text text-anchor=\"middle\" x=\"81.6453\" y=\"-138.8\" font-family=\"Times New Roman,serif\" font-size=\"14.00\">texts</text>\r\n",
       "</g>\r\n",
       "<!-- texts&#45;&gt;make_docs -->\r\n",
       "<g id=\"edge2\" class=\"edge\"><title>texts&#45;&gt;make_docs</title>\r\n",
       "<path fill=\"none\" stroke=\"black\" d=\"M76.7259,-130.728C73.4156,-123.48 68.8996,-113.591 64.6725,-104.335\"/>\r\n",
       "<polygon fill=\"black\" stroke=\"black\" points=\"67.7726,-102.698 60.4347,-95.056 61.4052,-105.606 67.7726,-102.698\"/>\r\n",
       "</g>\r\n",
       "</g>\r\n",
       "</svg>\r\n"
      ],
      "text/plain": [
       "<graphviz.dot.Digraph at 0x2a8b9493848>"
      ]
     },
     "execution_count": 23,
     "metadata": {},
     "output_type": "execute_result"
    },
    {
     "name": "stdout",
     "output_type": "stream",
     "text": [
      "time: 77 ms\n"
     ]
    }
   ],
   "source": [
    "make_docs.view()"
   ]
  },
  {
   "cell_type": "code",
   "execution_count": null,
   "metadata": {},
   "outputs": [],
   "source": []
  }
 ],
 "metadata": {
  "jupytext": {
   "text_representation": {
    "extension": ".py",
    "format_name": "percent",
    "format_version": "1.2",
    "jupytext_version": "1.2.1"
   }
  },
  "kernelspec": {
   "display_name": "Python 3",
   "language": "python",
   "name": "python3"
  },
  "language_info": {
   "codemirror_mode": {
    "name": "ipython",
    "version": 3
   },
   "file_extension": ".py",
   "mimetype": "text/x-python",
   "name": "python",
   "nbconvert_exporter": "python",
   "pygments_lexer": "ipython3",
   "version": "3.7.5"
  }
 },
 "nbformat": 4,
 "nbformat_minor": 2
}
