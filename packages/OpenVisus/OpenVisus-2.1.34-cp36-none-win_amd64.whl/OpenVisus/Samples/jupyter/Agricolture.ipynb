{
 "cells": [
  {
   "cell_type": "markdown",
   "metadata": {},
   "source": [
    "**OpenViSUS: read from a remote dataset**\n",
    "\n",
    "To execute this jupyter notebook have to install: OpenViSUS, numpy, matplotlib, ipyvolume\n",
    "\n",
    "pip3 install numpy matplotlib ipyvolume\n",
    "\n",
    "You can do it with pip3 (which uses python3):\n",
    "pip3 install OpenVisus\n",
    "\n",
    "If the installation of OpenVisus via pip does not work you have to build it and install it yourself (see OpenViSUS README), or add your build directory to the PYTHONPATH, or in your program add it to the sys path before the import:\n",
    "sys.path.append('/somepath_to_your/OpenVisus/build')\n"
   ]
  },
  {
   "cell_type": "code",
   "execution_count": null,
   "metadata": {},
   "outputs": [],
   "source": [
    "import os,sys\n",
    "import math\n",
    "import matplotlib.pyplot as plt\n",
    "import numpy\n",
    "import ipywidgets \n",
    "\n",
    "def ShowData(data):\n",
    "    fig = plt.figure(figsize = (70,20))\n",
    "    ax = fig.add_subplot(1,1,1)\n",
    "    ax.imshow(data, origin='lower')\n",
    "    plt.show()"
   ]
  },
  {
   "cell_type": "code",
   "execution_count": null,
   "metadata": {},
   "outputs": [],
   "source": [
    "sys.path.append(r\"D:\\projects\\OpenVisus\\build\\RelWithDebInfo\")\n",
    "from OpenVisus import *\n",
    "DbModule.attach()"
   ]
  },
  {
   "cell_type": "code",
   "execution_count": null,
   "metadata": {},
   "outputs": [],
   "source": [
    "db=PyDataset(\"http://molniya.sci.utah.edu/mod_visus?dataset=agricolture_time\")\n",
    "print(db.getDatasetBody().toString())"
   ]
  },
  {
   "cell_type": "code",
   "execution_count": null,
   "metadata": {},
   "outputs": [],
   "source": [
    "# do not query full resolution but up to 2 ^20 samples in logic space\n",
    "\n",
    "logic_box=db.getLogicBox(x=[0.0,1.0],y=[0.0,1.0])\n",
    "\n",
    "def ReadData(time=db.getDefaultTime(),max_resolution=20):\n",
    "    return next(db.read(logic_box=logic_box,time=time, max_resolution=max_resolution))\n",
    "\n",
    "# if float range means alpha,beta\n",
    "data=ReadData()\n",
    "ShowData(data)"
   ]
  },
  {
   "cell_type": "code",
   "execution_count": null,
   "metadata": {},
   "outputs": [],
   "source": [
    "def onTimeChanged(time):\n",
    "    ShowData(ReadData(time=time))\n",
    "\n",
    "ipywidgets.interact(\n",
    "    onTimeChanged, \n",
    "    time=ipywidgets.widgets.IntSlider(value=0,min=0,max=4,step=1))"
   ]
  },
  {
   "cell_type": "code",
   "execution_count": null,
   "metadata": {},
   "outputs": [],
   "source": [
    "data = ReadData(time=1)-ReadData(time=0)\n",
    "ShowData(data)"
   ]
  },
  {
   "cell_type": "code",
   "execution_count": null,
   "metadata": {},
   "outputs": [],
   "source": [
    "from OpenVisus.PyImage import * \n",
    "    \n",
    "def rgb2gray(rgb):\n",
    "    r, g, b = rgb[:,:,0], rgb[:,:,1], rgb[:,:,2]\n",
    "    gray = 0.2989 * r + 0.5870 * g + 0.1140 * b\n",
    "    return gray    \n",
    "    \n",
    "def onTimesChanged(time0,time1):\n",
    "    ShowData(\n",
    "        rgb2gray(ReadData(time=time1))-\n",
    "        rgb2gray(ReadData(time=time0))\n",
    "    )\n",
    "    \n",
    "ipywidgets.interact(onTimesChanged, \n",
    "    time0=ipywidgets.widgets.IntSlider(value=0,min=0, max=6, step=1), \n",
    "    time1=ipywidgets.widgets.IntSlider(value=1,min=0, max=6, step=1))\n"
   ]
  },
  {
   "cell_type": "code",
   "execution_count": null,
   "metadata": {},
   "outputs": [],
   "source": []
  },
  {
   "cell_type": "code",
   "execution_count": null,
   "metadata": {},
   "outputs": [],
   "source": []
  }
 ],
 "metadata": {
  "kernelspec": {
   "display_name": "Python 3",
   "language": "python",
   "name": "python3"
  },
  "language_info": {
   "codemirror_mode": {
    "name": "ipython",
    "version": 3
   },
   "file_extension": ".py",
   "mimetype": "text/x-python",
   "name": "python",
   "nbconvert_exporter": "python",
   "pygments_lexer": "ipython3",
   "version": "3.7.6"
  }
 },
 "nbformat": 4,
 "nbformat_minor": 2
}
