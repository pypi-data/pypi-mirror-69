{
 "cells": [
  {
   "cell_type": "markdown",
   "metadata": {},
   "source": [
    "**OpenViSUS: read from a remote dataset**\n",
    "\n",
    "To execute this jupyter notebook have to install: OpenViSUS, numpy, matplotlib, ipyvolume\n",
    "\n",
    "pip3 install numpy matplotlib ipyvolume\n",
    "\n",
    "You can do it with pip3 (which uses python3):\n",
    "pip3 install OpenVisus\n",
    "\n",
    "If the installation of OpenVisus via pip does not work you have to build it and install it yourself (see OpenViSUS README), or add your build directory to the PYTHONPATH, or in your program add it to the sys path before the import:\n",
    "sys.path.append('/somepath_to_your/OpenVisus/build')\n"
   ]
  },
  {
   "cell_type": "code",
   "execution_count": null,
   "metadata": {},
   "outputs": [],
   "source": [
    "import os,sys\n",
    "import matplotlib.pyplot as plt\n",
    "import numpy\n",
    "import ipyvolume\n",
    "\n",
    "def ShowData(data):\n",
    "    fig = plt.figure(figsize = (70,20))\n",
    "    ax = fig.add_subplot(1,1,1)\n",
    "    ax.imshow(data, origin='lower')\n",
    "    plt.show()"
   ]
  },
  {
   "cell_type": "code",
   "execution_count": null,
   "metadata": {},
   "outputs": [],
   "source": [
    "sys.path.append(r\"D:\\projects\\OpenVisus\\build\\RelWithDebInfo\")\n",
    "from OpenVisus import *\n",
    "db=PyDataset(\"http://atlantis.sci.utah.edu/mod_visus?dataset=2kbit1\")\n",
    "print(db.getDatasetBody().toString())"
   ]
  },
  {
   "cell_type": "code",
   "execution_count": null,
   "metadata": {},
   "outputs": [],
   "source": [
    "max_resolution=24\n",
    "logic_box=db.getLogicBox(x=[0,2048],y=[0,2048],z=[1024,2048])\n",
    "data=next(db.read(logic_box=logic_box,max_resolution=max_resolution))\n",
    "print(\"shape\",data.shape,\"dtype\",data.dtype)\n",
    "\n",
    "# show first slice\n",
    "ShowData(data[0,:,:]) "
   ]
  },
  {
   "cell_type": "markdown",
   "metadata": {},
   "source": [
    "**Test 2D plot**"
   ]
  },
  {
   "cell_type": "markdown",
   "metadata": {},
   "source": [
    "Making a 3D query for volume rendering"
   ]
  },
  {
   "cell_type": "code",
   "execution_count": null,
   "metadata": {},
   "outputs": [],
   "source": [
    "data=next(db.read(logic_box=logic_box, max_resolution=max_resolution))\n",
    "print(\"shape\",data.shape,\"dtype\",data.dtype)"
   ]
  },
  {
   "cell_type": "markdown",
   "metadata": {},
   "source": [
    "**Test volume rendering with iPyVolume**"
   ]
  },
  {
   "cell_type": "code",
   "execution_count": null,
   "metadata": {},
   "outputs": [],
   "source": [
    "# this has problem on my Windows/Chrome browser\n",
    "ipyvolume.quickvolshow(\n",
    "    data, \n",
    "    level=[0.25, 0.75], \n",
    "    opacity=0.03, \n",
    "    level_width=0.1, \n",
    "    data_min=0, \n",
    "    data_max=255)"
   ]
  },
  {
   "cell_type": "code",
   "execution_count": null,
   "metadata": {},
   "outputs": [],
   "source": []
  },
  {
   "cell_type": "code",
   "execution_count": null,
   "metadata": {},
   "outputs": [],
   "source": []
  },
  {
   "cell_type": "code",
   "execution_count": null,
   "metadata": {},
   "outputs": [],
   "source": []
  }
 ],
 "metadata": {
  "kernelspec": {
   "display_name": "Python 3",
   "language": "python",
   "name": "python3"
  },
  "language_info": {
   "codemirror_mode": {
    "name": "ipython",
    "version": 3
   },
   "file_extension": ".py",
   "mimetype": "text/x-python",
   "name": "python",
   "nbconvert_exporter": "python",
   "pygments_lexer": "ipython3",
   "version": "3.7.6"
  }
 },
 "nbformat": 4,
 "nbformat_minor": 2
}
