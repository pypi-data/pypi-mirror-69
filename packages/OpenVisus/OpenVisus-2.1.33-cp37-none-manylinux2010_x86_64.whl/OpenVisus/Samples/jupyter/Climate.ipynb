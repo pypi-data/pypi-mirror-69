{
 "cells": [
  {
   "cell_type": "markdown",
   "metadata": {},
   "source": [
    "**OpenViSUS: read from a remote dataset**\n",
    "\n",
    "To execute this jupyter notebook have to install: OpenViSUS, numpy, matplotlib, ipyvolume\n",
    "\n",
    "pip3 install numpy matplotlib ipyvolume\n",
    "\n",
    "You can do it with pip3 (which uses python3):\n",
    "pip3 install OpenVisus\n",
    "\n",
    "If the installation of OpenVisus via pip does not work you have to build it and install it yourself (see OpenViSUS README), or add your build directory to the PYTHONPATH, or in your program add it to the sys path before the import:\n",
    "sys.path.append('/somepath_to_your/OpenVisus/build')\n"
   ]
  },
  {
   "cell_type": "code",
   "execution_count": null,
   "metadata": {},
   "outputs": [],
   "source": [
    "import os,sys\n",
    "import math\n",
    "import matplotlib.pyplot as plt\n",
    "import numpy\n",
    "\n",
    "from ipywidgets import *\n",
    "\n",
    "from OpenVisus import *\n",
    "from OpenVisus.PyDataset import *"
   ]
  },
  {
   "cell_type": "code",
   "execution_count": null,
   "metadata": {},
   "outputs": [],
   "source": [
    "DbModule.attach()"
   ]
  },
  {
   "cell_type": "code",
   "execution_count": null,
   "metadata": {},
   "outputs": [],
   "source": [
    "dataset=LoadDatasetPy(\"http://atlantis.sci.utah.edu/mod_visus?dataset=BlueMarble\")\n",
    "    \n",
    "print(\"idx\",dataset.toString())\n",
    "\n",
    "# in 2D this means more or less a 2048x1024 image in power-2 logic box\n",
    "resolution=21 \n",
    "\n",
    "def readData(\n",
    "    time=dataset.getDefaultTime(),\n",
    "    field=dataset.getDefaultField(),\n",
    "    logic_box=dataset.getLogicBox(),\n",
    "    resolution=resolution):\n",
    "    data,__bounds__=dataset.readData(logic_box,time=time,field=field,resolution=resolution)\n",
    "    return data\n",
    "\n",
    "def showData(data):\n",
    "    fig = plt.figure(figsize = (70,20))\n",
    "    ax = fig.add_subplot(1,1,1)\n",
    "    ax.imshow(data, origin='lower')\n",
    "    plt.show()\n"
   ]
  },
  {
   "cell_type": "code",
   "execution_count": null,
   "metadata": {},
   "outputs": [],
   "source": [
    "showData(readData(time=0))"
   ]
  },
  {
   "cell_type": "code",
   "execution_count": null,
   "metadata": {},
   "outputs": [],
   "source": [
    "interact(\n",
    "    lambda time,resolution: showData(readData(time=time,resolution=resolution)),\n",
    "    time=widgets.IntSlider(value=0,min=0,max=4,step=1), \n",
    "    resolution=widgets.IntSlider(value=9,min=1,max=dataset.getMaxResolution(),step=2))"
   ]
  },
  {
   "cell_type": "code",
   "execution_count": null,
   "metadata": {},
   "outputs": [],
   "source": []
  }
 ],
 "metadata": {
  "kernelspec": {
   "display_name": "Python 3",
   "language": "python",
   "name": "python3"
  },
  "language_info": {
   "codemirror_mode": {
    "name": "ipython",
    "version": 3
   },
   "file_extension": ".py",
   "mimetype": "text/x-python",
   "name": "python",
   "nbconvert_exporter": "python",
   "pygments_lexer": "ipython3",
   "version": "3.7.4"
  }
 },
 "nbformat": 4,
 "nbformat_minor": 2
}
