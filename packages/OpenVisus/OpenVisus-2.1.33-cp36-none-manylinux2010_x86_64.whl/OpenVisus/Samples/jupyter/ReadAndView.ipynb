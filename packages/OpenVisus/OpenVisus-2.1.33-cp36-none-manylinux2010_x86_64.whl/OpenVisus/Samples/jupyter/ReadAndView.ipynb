{
 "cells": [
  {
   "cell_type": "markdown",
   "metadata": {},
   "source": [
    "**OpenViSUS: read from a remote dataset**\n",
    "\n",
    "To execute this jupyter notebook have to install: OpenViSUS, numpy, matplotlib, ipyvolume\n",
    "\n",
    "pip3 install numpy matplotlib ipyvolume\n",
    "\n",
    "You can do it with pip3 (which uses python3):\n",
    "pip3 install OpenVisus\n",
    "\n",
    "If the installation of OpenVisus via pip does not work you have to build it and install it yourself (see OpenViSUS README), or add your build directory to the PYTHONPATH, or in your program add it to the sys path before the import:\n",
    "sys.path.append('/somepath_to_your/OpenVisus/build')\n"
   ]
  },
  {
   "cell_type": "code",
   "execution_count": null,
   "metadata": {},
   "outputs": [],
   "source": [
    "import os,sys\n",
    "\n",
    "import matplotlib.pyplot as plt\n",
    "import numpy\n",
    "\n",
    "from OpenVisus import *\n",
    "from OpenVisus.PyDataset import *\n",
    "from OpenVisus import PyUtils\n",
    "\n",
    "# this is needed to show 3d data\n",
    "import ipyvolume\n",
    "\n",
    "DbModule.attach()"
   ]
  },
  {
   "cell_type": "code",
   "execution_count": null,
   "metadata": {},
   "outputs": [],
   "source": [
    "dataset=LoadDatasetPy(\"http://atlantis.sci.utah.edu/mod_visus?dataset=2kbit1\")\n",
    "print(\"idx\",dataset.toString())\n",
    "\n",
    "\n",
    "    \n",
    "def readData(\n",
    "    time=dataset.getDefaultTime(),\n",
    "    field=dataset.getDefaultField(),\n",
    "    logic_box=dataset.getLogicBox(),\n",
    "    resolution=dataset.getMaxResolution()):\n",
    "    data,__bounds__=dataset.readData(logic_box,time=time,field=field,resolution=resolution)\n",
    "    return data\n",
    "\n",
    "def showData(data):\n",
    "    fig = plt.figure(figsize = (70,20))\n",
    "    ax = fig.add_subplot(1,1,1)\n",
    "    ax.imshow(data, origin='lower')\n",
    "    plt.show()"
   ]
  },
  {
   "cell_type": "code",
   "execution_count": null,
   "metadata": {},
   "outputs": [],
   "source": [
    "data=readData(logic_box=BoxNi(PointNi(0,0,1024),PointNi(2048,2048,1025)),resolution=24)\n",
    "data=numpy.reshape(data,data.shape[0:2]) # YXC drop last component which is the channel (==1)\n",
    "print(\"shape\",data.shape,\"dtype\",data.dtype)\n",
    "showData(data)"
   ]
  },
  {
   "cell_type": "markdown",
   "metadata": {},
   "source": [
    "**Test 2D plot**"
   ]
  },
  {
   "cell_type": "markdown",
   "metadata": {},
   "source": [
    "Making a 3D query for volume rendering"
   ]
  },
  {
   "cell_type": "code",
   "execution_count": null,
   "metadata": {},
   "outputs": [],
   "source": [
    "data=readData(logic_box=dataset.getLogicBox(),resolution=24)\n",
    "data=numpy.reshape(data,data.shape[0:3]) # ZYXC drop last component which is the channel (==1)\n",
    "print(\"shape\",data.shape,\"dtype\",data.dtype)\n"
   ]
  },
  {
   "cell_type": "markdown",
   "metadata": {},
   "source": [
    "**Test volume rendering with iPyVolume**"
   ]
  },
  {
   "cell_type": "code",
   "execution_count": null,
   "metadata": {},
   "outputs": [],
   "source": [
    "# this has problem on my Windows/Chrome browser\n",
    "ipyvolume.quickvolshow(\n",
    "    data, \n",
    "    level=[0.25, 0.75], \n",
    "    opacity=0.03, \n",
    "    level_width=0.1, \n",
    "    data_min=0, \n",
    "    data_max=255)"
   ]
  },
  {
   "cell_type": "code",
   "execution_count": null,
   "metadata": {},
   "outputs": [],
   "source": []
  },
  {
   "cell_type": "code",
   "execution_count": null,
   "metadata": {},
   "outputs": [],
   "source": []
  }
 ],
 "metadata": {
  "kernelspec": {
   "display_name": "Python 3",
   "language": "python",
   "name": "python3"
  },
  "language_info": {
   "codemirror_mode": {
    "name": "ipython",
    "version": 3
   },
   "file_extension": ".py",
   "mimetype": "text/x-python",
   "name": "python",
   "nbconvert_exporter": "python",
   "pygments_lexer": "ipython3",
   "version": "3.7.4"
  }
 },
 "nbformat": 4,
 "nbformat_minor": 2
}
