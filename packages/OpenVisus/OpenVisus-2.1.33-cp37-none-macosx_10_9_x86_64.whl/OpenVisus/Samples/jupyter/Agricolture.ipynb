{
 "cells": [
  {
   "cell_type": "markdown",
   "metadata": {},
   "source": [
    "**OpenViSUS: read from a remote dataset**\n",
    "\n",
    "To execute this jupyter notebook have to install: OpenViSUS, numpy, matplotlib, ipyvolume\n",
    "\n",
    "pip3 install numpy matplotlib ipyvolume\n",
    "\n",
    "You can do it with pip3 (which uses python3):\n",
    "pip3 install OpenVisus\n",
    "\n",
    "If the installation of OpenVisus via pip does not work you have to build it and install it yourself (see OpenViSUS README), or add your build directory to the PYTHONPATH, or in your program add it to the sys path before the import:\n",
    "sys.path.append('/somepath_to_your/OpenVisus/build')\n"
   ]
  },
  {
   "cell_type": "code",
   "execution_count": null,
   "metadata": {},
   "outputs": [],
   "source": [
    "import os,sys\n",
    "import math\n",
    "import matplotlib.pyplot as plt\n",
    "import numpy\n",
    "\n",
    "from ipywidgets import *\n"
   ]
  },
  {
   "cell_type": "code",
   "execution_count": null,
   "metadata": {},
   "outputs": [],
   "source": [
    "import OpenVisus\n",
    "from OpenVisus           import *\n",
    "from OpenVisus.PyDataset import *\n",
    "from OpenVisus           import PyUtils \n",
    "\n",
    "DbModule.attach()"
   ]
  },
  {
   "cell_type": "code",
   "execution_count": null,
   "metadata": {},
   "outputs": [],
   "source": [
    "dataset=LoadDatasetPy(\"http://molniya.sci.utah.edu/mod_visus?dataset=agricolture_time\")\n",
    "print(\"idx\",dataset.toString())\n",
    "\n",
    "def readData(\n",
    "    time=dataset.getDefaultTime(),\n",
    "    field=dataset.getDefaultField(),\n",
    "    logic_box=dataset.getLogicBox(),\n",
    "    resolution=resolution):\n",
    "    data,__bounds__=dataset.readData(logic_box,time=time,field=field,resolution=resolution)\n",
    "    return data\n",
    "\n",
    "def showData(data):\n",
    "    fig = plt.figure(figsize = (70,20))\n",
    "    ax = fig.add_subplot(1,1,1)\n",
    "    ax.imshow(data, origin='lower')\n",
    "    plt.show()\n",
    "\n",
    "# in 2D this means more or less a 1024x1024 image in power-2 logic box\n",
    "resolution=20 "
   ]
  },
  {
   "cell_type": "code",
   "execution_count": null,
   "metadata": {},
   "outputs": [],
   "source": [
    "showData(readData(0))"
   ]
  },
  {
   "cell_type": "code",
   "execution_count": null,
   "metadata": {},
   "outputs": [],
   "source": [
    "interact(\n",
    "    lambda time: showData(readData(time=time)), \n",
    "    time=widgets.IntSlider(value=0,min=0,max=4,step=1))"
   ]
  },
  {
   "cell_type": "code",
   "execution_count": null,
   "metadata": {},
   "outputs": [],
   "source": [
    "data = (readData(time=1)-readData(time=0))[:,:,0:3]\n",
    "showData(data)"
   ]
  },
  {
   "cell_type": "code",
   "execution_count": null,
   "metadata": {},
   "outputs": [],
   "source": [
    " interact(lambda time0,time1: showData(\n",
    "    PyUtils.ConvertToGrayScale(readData(time=time1))-\n",
    "    PyUtils.ConvertToGrayScale(readData(time=time0))), \n",
    "    time0=widgets.IntSlider(value=0,min=0, max=6, step=1), \n",
    "    time1=widgets.IntSlider(value=1,min=0, max=6, step=1))"
   ]
  }
 ],
 "metadata": {
  "kernelspec": {
   "display_name": "Python 3",
   "language": "python",
   "name": "python3"
  },
  "language_info": {
   "codemirror_mode": {
    "name": "ipython",
    "version": 3
   },
   "file_extension": ".py",
   "mimetype": "text/x-python",
   "name": "python",
   "nbconvert_exporter": "python",
   "pygments_lexer": "ipython3",
   "version": "3.7.4"
  }
 },
 "nbformat": 4,
 "nbformat_minor": 2
}
