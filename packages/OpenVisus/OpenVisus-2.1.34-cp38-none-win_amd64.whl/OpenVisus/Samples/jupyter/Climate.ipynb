{
 "cells": [
  {
   "cell_type": "markdown",
   "metadata": {},
   "source": [
    "**OpenViSUS: read from a remote dataset**\n",
    "\n",
    "To execute this jupyter notebook have to install: OpenViSUS, numpy, matplotlib, ipyvolume\n",
    "\n",
    "pip3 install numpy matplotlib ipyvolume\n",
    "\n",
    "You can do it with pip3 (which uses python3):\n",
    "pip3 install OpenVisus\n",
    "\n",
    "If the installation of OpenVisus via pip does not work you have to build it and install it yourself (see OpenViSUS README), or add your build directory to the PYTHONPATH, or in your program add it to the sys path before the import:\n",
    "sys.path.append('/somepath_to_your/OpenVisus/build')\n"
   ]
  },
  {
   "cell_type": "code",
   "execution_count": null,
   "metadata": {},
   "outputs": [],
   "source": [
    "import os,sys\n",
    "import math\n",
    "import matplotlib.pyplot as plt\n",
    "import numpy\n",
    "import ipywidgets \n",
    "\n",
    "def ShowData(data):\n",
    "    fig = plt.figure(figsize = (70,20))\n",
    "    ax = fig.add_subplot(1,1,1)\n",
    "    ax.imshow(data, origin='lower')\n",
    "    plt.show()"
   ]
  },
  {
   "cell_type": "code",
   "execution_count": null,
   "metadata": {},
   "outputs": [],
   "source": [
    "sys.path.append(r\"D:\\projects\\OpenVisus\\build\\RelWithDebInfo\")\n",
    "from OpenVisus import *\n",
    "DbModule.attach()"
   ]
  },
  {
   "cell_type": "code",
   "execution_count": null,
   "metadata": {},
   "outputs": [],
   "source": [
    "db=PyDataset(\"http://atlantis.sci.utah.edu/mod_visus?dataset=BlueMarble\")\n",
    "print(db.getDatasetBody().toString())\n",
    "\n",
    "# in 2D this means more or less a 2048x1024 image in power-2 logic box \n",
    "max_resolution=21\n"
   ]
  },
  {
   "cell_type": "code",
   "execution_count": null,
   "metadata": {},
   "outputs": [],
   "source": [
    "logic_box=db.getLogicBox()\n",
    "data=next(db.read(time=0,max_resolution=max_resolution))\n",
    "ShowData(data)"
   ]
  },
  {
   "cell_type": "code",
   "execution_count": null,
   "metadata": {},
   "outputs": [],
   "source": [
    "def RefreshAll(time,num_refinements=3):\n",
    "    images=list(db.read(logic_box=logic_box, time=time,max_resolution=max_resolution,num_refinements=num_refinements))\n",
    "    for data in images:\n",
    "        ShowData(data)\n",
    "\n",
    "ipywidgets.interact(\n",
    "    RefreshAll,\n",
    "    time=ipywidgets.widgets.IntSlider(value=0,min=0,max=4,step=1), \n",
    "    resolution=ipywidgets.widgets.IntSlider(value=9,min=1,max=db.getMaxResolution(),step=2))"
   ]
  },
  {
   "cell_type": "code",
   "execution_count": null,
   "metadata": {},
   "outputs": [],
   "source": []
  }
 ],
 "metadata": {
  "kernelspec": {
   "display_name": "Python 3",
   "language": "python",
   "name": "python3"
  },
  "language_info": {
   "codemirror_mode": {
    "name": "ipython",
    "version": 3
   },
   "file_extension": ".py",
   "mimetype": "text/x-python",
   "name": "python",
   "nbconvert_exporter": "python",
   "pygments_lexer": "ipython3",
   "version": "3.7.6"
  }
 },
 "nbformat": 4,
 "nbformat_minor": 2
}
