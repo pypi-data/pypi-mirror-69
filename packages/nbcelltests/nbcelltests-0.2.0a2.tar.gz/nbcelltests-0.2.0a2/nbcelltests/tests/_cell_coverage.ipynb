{
 "cells": [
  {
   "cell_type": "code",
   "execution_count": 1,
   "metadata": {
    "tests": [
     "assert x == 1\n",
     "class X: pass"
    ]
   },
   "outputs": [],
   "source": [
    "# nothing"
   ]
  },
  {
   "cell_type": "markdown",
   "source": [
    "def f(x): return x\n",
    "class X: pass"
   ],   
   "metadata": {}
  },
  {
   "cell_type": "code",
   "execution_count": 2,
   "metadata": {
    "tests": [
     "%cell\n",
     "def f(x): return x"
    ]
   },
   "outputs": [],
   "source": [
    "def f(x): return x\n",
    "f(1)\n",
    "f(2)"
   ]
  },
  {
   "cell_type": "raw",
   "source": [
    "class X: pass\n",
    "%magics3"
   ],   
   "metadata": {}
  },
  {
   "cell_type": "code",
   "execution_count": 3,
   "metadata": {
    "tests": [
     "assert x == 3\n",
     "%magics1"
    ]
   },
   "outputs": [],
   "source": [
    "x = 3"
   ]
  },
  {
   "cell_type": "code",
   "execution_count": 4,
   "metadata": {
    "tests": []
   },
   "outputs": [],
   "source": [
    "x = 4"
   ]
  },
  {
   "cell_type": "code",
   "execution_count": 5,
   "metadata": {},
   "outputs": [],
   "source": [
    "%magics2\n",
    "class X: pass"
   ]
  }      
 ],
 "metadata": {
  "celltests": {
   "cell_coverage": 50
  }, 
  "kernelspec": {
   "display_name": "Python 3",
   "language": "python",
   "name": "python3"
  },
  "language_info": {
   "codemirror_mode": {
    "name": "ipython",
    "version": 3
   },
   "file_extension": ".py",
   "mimetype": "text/x-python",
   "name": "python",
   "nbconvert_exporter": "python",
   "pygments_lexer": "ipython3",
   "version": "3.7.6"
  }
 },
 "nbformat": 4,
 "nbformat_minor": 4
}
