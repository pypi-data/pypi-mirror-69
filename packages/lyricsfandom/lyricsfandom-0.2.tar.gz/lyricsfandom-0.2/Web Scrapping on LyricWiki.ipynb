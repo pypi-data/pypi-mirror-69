{
 "cells": [
  {
   "cell_type": "markdown",
   "metadata": {},
   "source": [
    "# Extract data from https://lyrics.fandom.com/\n",
    "\n",
    "Reload the kernel:"
   ]
  },
  {
   "cell_type": "code",
   "execution_count": 1,
   "metadata": {},
   "outputs": [],
   "source": [
    "# Some more magic so that the notebook will reload external python modules;\n",
    "# see http://stackoverflow.com/questions/1907993/autoreload-of-modules-in-ipython\n",
    "%load_ext autoreload\n",
    "%autoreload 2"
   ]
  },
  {
   "cell_type": "markdown",
   "metadata": {},
   "source": [
    "# 1. [LyricsFandom](https://github.com/arthurdjn/scrape-lyricswiki): a python package to scrape music data\n",
    "\n",
    "Import ``lyricsfandom`` package:"
   ]
  },
  {
   "cell_type": "code",
   "execution_count": null,
   "metadata": {},
   "outputs": [],
   "source": [
    "!pip install lyricsfandom"
   ]
  },
  {
   "cell_type": "code",
   "execution_count": 2,
   "metadata": {},
   "outputs": [],
   "source": [
    "from lyricsfandom import LyricWiki  # API\n",
    "from lyricsfandom.music import Artist, Album, Song  # For custom usage"
   ]
  },
  {
   "cell_type": "markdown",
   "metadata": {},
   "source": [
    "Create an instance; and set global parameters:\n",
    "* verbose (bool): if ``True``, will display a log at each connection.\n",
    "* sleep (float): number of seconds to wait between each connection.\n",
    "* user (string): user agent used to connect. "
   ]
  },
  {
   "cell_type": "code",
   "execution_count": 3,
   "metadata": {},
   "outputs": [],
   "source": [
    "wiki = LyricWiki(verbose=False, sleep=0)"
   ]
  },
  {
   "cell_type": "markdown",
   "metadata": {},
   "source": [
    "Search ``Artist``, ``Album``, ``Song`` with:\n",
    "* ``lyricwiki.search_artist(ARTIST_NAME)``\n",
    "* ``lyricwiki.search_album(ARTIST_NAME, ALBUM_NAME)``\n",
    "* ``lyricwiki.search_song(ARTIST_NAME, SONG_NAME)``\n",
    "\n",
    "This will create an instance of the desired object."
   ]
  },
  {
   "cell_type": "code",
   "execution_count": 4,
   "metadata": {},
   "outputs": [
    {
     "data": {
      "text/plain": [
       "Artist: Daughter"
      ]
     },
     "execution_count": 4,
     "metadata": {},
     "output_type": "execute_result"
    }
   ],
   "source": [
    "ARTIST_NAME = 'daughter'\n",
    "artist = wiki.search_artist(ARTIST_NAME)\n",
    "\n",
    "artist"
   ]
  },
  {
   "cell_type": "code",
   "execution_count": 5,
   "metadata": {},
   "outputs": [
    {
     "data": {
      "text/plain": [
       "Daughter: Album \"If You Leave\" (2013), Songs: 12"
      ]
     },
     "execution_count": 5,
     "metadata": {},
     "output_type": "execute_result"
    }
   ],
   "source": [
    "ALBUM_NAME = 'if you leave'\n",
    "album = wiki.search_album(ARTIST_NAME, ALBUM_NAME)\n",
    "\n",
    "album"
   ]
  },
  {
   "cell_type": "code",
   "execution_count": 6,
   "metadata": {},
   "outputs": [
    {
     "data": {
      "text/plain": [
       "Daughter: \"If You Leave\""
      ]
     },
     "execution_count": 6,
     "metadata": {},
     "output_type": "execute_result"
    }
   ],
   "source": [
    "SONG_NAME = 'smoke'\n",
    "song = wiki.search_song(ARTIST_NAME, ALBUM_NAME)\n",
    "\n",
    "song"
   ]
  },
  {
   "cell_type": "markdown",
   "metadata": {},
   "source": [
    "If you want to scrape directly in a **JSON** format, you can use:\n",
    "* ``lyricwiki.get_artist(ARTIST_NAME)``\n",
    "* ``lyricwiki.get_albums(ARTIST_NAME)``\n",
    "* ``lyricwiki.get_songs(ARTIST_NAME)``\n",
    "* ``lyricwiki.get_lyrics(ARTIST_NAME)``"
   ]
  },
  {
   "cell_type": "markdown",
   "metadata": {},
   "source": [
    "***\n",
    "\n",
    "You can also use the core classes ``Artist``, ``Album``, ``Song`` directly:"
   ]
  },
  {
   "cell_type": "code",
   "execution_count": 7,
   "metadata": {},
   "outputs": [
    {
     "data": {
      "text/plain": [
       "Artist: Daughter"
      ]
     },
     "execution_count": 7,
     "metadata": {},
     "output_type": "execute_result"
    }
   ],
   "source": [
    "artist = Artist(ARTIST_NAME)\n",
    "\n",
    "artist"
   ]
  },
  {
   "cell_type": "code",
   "execution_count": 8,
   "metadata": {},
   "outputs": [
    {
     "data": {
      "text/plain": [
       "Daughter: \"If You Leave\""
      ]
     },
     "execution_count": 8,
     "metadata": {},
     "output_type": "execute_result"
    }
   ],
   "source": [
    "album = Album(ARTIST_NAME, ALBUM_NAME)\n",
    "\n",
    "album"
   ]
  },
  {
   "cell_type": "code",
   "execution_count": 9,
   "metadata": {},
   "outputs": [
    {
     "data": {
      "text/plain": [
       "Daughter: \"Smoke\""
      ]
     },
     "execution_count": 9,
     "metadata": {},
     "output_type": "execute_result"
    }
   ],
   "source": [
    "song = Song(ARTIST_NAME, SONG_NAME)\n",
    "\n",
    "song"
   ]
  },
  {
   "cell_type": "code",
   "execution_count": 10,
   "metadata": {},
   "outputs": [
    {
     "name": "stdout",
     "output_type": "stream",
     "text": [
      "In a smoke filled room\n",
      "With your father watching me\n",
      "There's three doors and no keys\n",
      "It's rising, it's choking me\n",
      "\n",
      "In a smoke filled room\n",
      "In a smoke filled room\n",
      "\n",
      "There's a man with no face\n",
      "Just a blurred out portrait, in a photo frame\n",
      "I'm losing again, I'm losing my friend\n",
      "He's face down on the pavement\n",
      "\n",
      "Then a woman, she screams, it's a terrible night\n",
      "As the mood changes to dark from light\n",
      "Tell the doctor what's become of me\n",
      "So you can analyse, analyse my dreams\n",
      "\n",
      "Of a smoke filled room\n",
      "Of a smoke filled room\n",
      "Of a smoke filled room\n",
      "\n",
      "Then we kiss and his lips turn into sand\n",
      "And the whole of him cascades through my hands\n",
      "Making a castle on the floor\n",
      "Then I'm alone again\n",
      "No keys and three doors\n",
      "In a smoke filled room\n",
      "\n",
      "Now we're both in the room, and we're breathing the fumes\n",
      "No doors this time, just a gap in the roof\n",
      "Light floods in, heaven, we're blind\n",
      "And slowly suffocating, we're dying\n",
      "\n",
      "In a smoke filled room\n",
      "We're dying in a smoke filled room\n",
      "We're dying in a smoke filled room\n",
      "(In a smoke filled room)\n",
      "\n",
      "In a smoke filled room\n",
      "In a smoke filled room\n",
      "In a smoke filled room\n"
     ]
    }
   ],
   "source": [
    "lyrics = song.get_lyrics()\n",
    "\n",
    "print(lyrics)"
   ]
  },
  {
   "cell_type": "markdown",
   "metadata": {},
   "source": [
    "# 2. Interaction between classes"
   ]
  },
  {
   "cell_type": "markdown",
   "metadata": {},
   "source": [
    "You can retrieve information and data from each classes (from parent to children and the other way).\n",
    "\n",
    "The structure is describe as follows:\n",
    "\n",
    "* ``class Artist:``\n",
    "* ``class Album:`` inherits from Artist\n",
    "* ``class Song:`` inherits from Album\n",
    "\n",
    "However, this structure is partially shared (through an abstract skeleton), so not all attributes and methods are inherited."
   ]
  },
  {
   "cell_type": "code",
   "execution_count": 11,
   "metadata": {},
   "outputs": [
    {
     "data": {
      "text/plain": [
       "Artist: Daughter"
      ]
     },
     "execution_count": 11,
     "metadata": {},
     "output_type": "execute_result"
    }
   ],
   "source": [
    "artist = Artist(ARTIST_NAME)\n",
    "artist"
   ]
  },
  {
   "cell_type": "code",
   "execution_count": 12,
   "metadata": {},
   "outputs": [
    {
     "data": {
      "text/plain": [
       "[Daughter: EP \"His Young Heart\" (2011), Songs: 4,\n",
       " Daughter: EP \"The Wild Youth\" (2011), Songs: 4,\n",
       " Daughter: Album \"If You Leave\" (2013), Songs: 12,\n",
       " Daughter: Album \"Not To Disappear\" (2016), Songs: 11,\n",
       " Daughter: Album \"Music From Before The Storm\" (2017), Songs: 13,\n",
       " Daughter: Single \"Other Songs\", Songs: 1]"
      ]
     },
     "execution_count": 12,
     "metadata": {},
     "output_type": "execute_result"
    }
   ],
   "source": [
    "albums = artist.get_albums()\n",
    "albums"
   ]
  },
  {
   "cell_type": "code",
   "execution_count": 13,
   "metadata": {},
   "outputs": [
    {
     "data": {
      "text/plain": [
       "[Daughter: \"Winter\", from \"If You Leave\" (2013),\n",
       " Daughter: \"Smother\", from \"If You Leave\" (2013),\n",
       " Daughter: \"Youth\", from \"If You Leave\" (2013),\n",
       " Daughter: \"Still\", from \"If You Leave\" (2013),\n",
       " Daughter: \"Lifeforms\", from \"If You Leave\" (2013),\n",
       " Daughter: \"Tomorrow\", from \"If You Leave\" (2013),\n",
       " Daughter: \"Human\", from \"If You Leave\" (2013),\n",
       " Daughter: \"Touch\", from \"If You Leave\" (2013),\n",
       " Daughter: \"Amsterdam\", from \"If You Leave\" (2013),\n",
       " Daughter: \"Shallows\", from \"If You Leave\" (2013),\n",
       " Daughter: \"Smoke\", from \"If You Leave\" (2013),\n",
       " Daughter: \"Drift\", from \"If You Leave\" (2013)]"
      ]
     },
     "execution_count": 13,
     "metadata": {},
     "output_type": "execute_result"
    }
   ],
   "source": [
    "album = albums[2]\n",
    "\n",
    "songs = album.get_songs()\n",
    "songs"
   ]
  },
  {
   "cell_type": "code",
   "execution_count": 14,
   "metadata": {},
   "outputs": [
    {
     "name": "stdout",
     "output_type": "stream",
     "text": [
      "In a smoke filled room\n",
      "With your father watching me\n",
      "There's three doors and no keys\n",
      "It's rising, it's choking me\n",
      "\n",
      "In a smoke filled room\n",
      "In a smoke filled room\n",
      "\n",
      "There's a man with no face\n",
      "Just a blurred out portrait, in a photo frame\n",
      "I'm losing again, I'm losing my friend\n",
      "He's face down on the pavement\n",
      "\n",
      "Then a woman, she screams, it's a terrible night\n",
      "As the mood changes to dark from light\n",
      "Tell the doctor what's become of me\n",
      "So you can analyse, analyse my dreams\n",
      "\n",
      "Of a smoke filled room\n",
      "Of a smoke filled room\n",
      "Of a smoke filled room\n",
      "\n",
      "Then we kiss and his lips turn into sand\n",
      "And the whole of him cascades through my hands\n",
      "Making a castle on the floor\n",
      "Then I'm alone again\n",
      "No keys and three doors\n",
      "In a smoke filled room\n",
      "\n",
      "Now we're both in the room, and we're breathing the fumes\n",
      "No doors this time, just a gap in the roof\n",
      "Light floods in, heaven, we're blind\n",
      "And slowly suffocating, we're dying\n",
      "\n",
      "In a smoke filled room\n",
      "We're dying in a smoke filled room\n",
      "We're dying in a smoke filled room\n",
      "(In a smoke filled room)\n",
      "\n",
      "In a smoke filled room\n",
      "In a smoke filled room\n",
      "In a smoke filled room\n"
     ]
    }
   ],
   "source": [
    "song = songs[-2]\n",
    "\n",
    "lyrics = song.get_lyrics()\n",
    "print(lyrics)"
   ]
  },
  {
   "cell_type": "markdown",
   "metadata": {},
   "source": [
    "...and from a specific object, you can have access to the parent class:"
   ]
  },
  {
   "cell_type": "code",
   "execution_count": 15,
   "metadata": {},
   "outputs": [
    {
     "data": {
      "text/plain": [
       "Daughter: Album \"If You Leave\" (2013), Songs: 12"
      ]
     },
     "execution_count": 15,
     "metadata": {},
     "output_type": "execute_result"
    }
   ],
   "source": [
    "song.get_album()"
   ]
  },
  {
   "cell_type": "code",
   "execution_count": 16,
   "metadata": {},
   "outputs": [
    {
     "data": {
      "text/plain": [
       "Artist: Daughter"
      ]
     },
     "execution_count": 16,
     "metadata": {},
     "output_type": "execute_result"
    }
   ],
   "source": [
    "song.get_artist()"
   ]
  },
  {
   "cell_type": "code",
   "execution_count": 17,
   "metadata": {},
   "outputs": [
    {
     "data": {
      "text/plain": [
       "Artist: Daughter"
      ]
     },
     "execution_count": 17,
     "metadata": {},
     "output_type": "execute_result"
    }
   ],
   "source": [
    "album.get_artist()"
   ]
  },
  {
   "cell_type": "markdown",
   "metadata": {},
   "source": [
    "You can also add new songs, albums if some of them are missing:"
   ]
  },
  {
   "cell_type": "code",
   "execution_count": 18,
   "metadata": {},
   "outputs": [],
   "source": [
    "album_new = Album(ARTIST_NAME, 'Another Album')\n",
    "artist.add_album(album_new)"
   ]
  },
  {
   "cell_type": "code",
   "execution_count": 19,
   "metadata": {},
   "outputs": [
    {
     "data": {
      "text/plain": [
       "[Daughter: EP \"His Young Heart\" (2011), Songs: 4,\n",
       " Daughter: EP \"The Wild Youth\" (2011), Songs: 4,\n",
       " Daughter: Album \"If You Leave\" (2013), Songs: 12,\n",
       " Daughter: Album \"Not To Disappear\" (2016), Songs: 11,\n",
       " Daughter: Album \"Music From Before The Storm\" (2017), Songs: 13,\n",
       " Daughter: Single \"Other Songs\", Songs: 1,\n",
       " Daughter: \"Another Album\"]"
      ]
     },
     "execution_count": 19,
     "metadata": {},
     "output_type": "execute_result"
    }
   ],
   "source": [
    "artist.get_albums()"
   ]
  },
  {
   "cell_type": "code",
   "execution_count": 20,
   "metadata": {},
   "outputs": [
    {
     "name": "stderr",
     "output_type": "stream",
     "text": [
      "D:\\home\\Arthur\\Documents\\Informatique\\GitHub\\scrape-lyricwiki\\lyricfandom\\music\\album.py:134: RuntimeWarning: \n",
      "Invalid Names: Album name from \"\" does not match parent album Another Album. The song has been added, but you can change this behavior by setting the parameter `force=True` to update song's album information to its parent.\n",
      "  warnings.warn(warn_msg, RuntimeWarning)\n"
     ]
    }
   ],
   "source": [
    "song_new = Song(ARTIST_NAME, 'Another Song')\n",
    "album_new.add_song(song_new)"
   ]
  },
  {
   "cell_type": "markdown",
   "metadata": {},
   "source": [
    "The warning message just tells that the song was previously linked to no albums. When you add somethinh to another instance, it will verifiy if the object you are adding is already related to another instance, and update everything."
   ]
  },
  {
   "cell_type": "code",
   "execution_count": 21,
   "metadata": {},
   "outputs": [
    {
     "data": {
      "text/plain": [
       "Daughter: \"Another Album\", Songs: 1"
      ]
     },
     "execution_count": 21,
     "metadata": {},
     "output_type": "execute_result"
    }
   ],
   "source": [
    "song_new.get_album()"
   ]
  },
  {
   "cell_type": "code",
   "execution_count": 22,
   "metadata": {},
   "outputs": [
    {
     "data": {
      "text/plain": [
       "Artist: Daughter"
      ]
     },
     "execution_count": 22,
     "metadata": {},
     "output_type": "execute_result"
    }
   ],
   "source": [
    "song_new.get_artist()"
   ]
  },
  {
   "cell_type": "code",
   "execution_count": 23,
   "metadata": {},
   "outputs": [
    {
     "data": {
      "text/plain": [
       "[Daughter: EP \"His Young Heart\" (2011), Songs: 4,\n",
       " Daughter: EP \"The Wild Youth\" (2011), Songs: 4,\n",
       " Daughter: Album \"If You Leave\" (2013), Songs: 12,\n",
       " Daughter: Album \"Not To Disappear\" (2016), Songs: 11,\n",
       " Daughter: Album \"Music From Before The Storm\" (2017), Songs: 13,\n",
       " Daughter: Single \"Other Songs\", Songs: 1,\n",
       " Daughter: \"Another Album\", Songs: 1]"
      ]
     },
     "execution_count": 23,
     "metadata": {},
     "output_type": "execute_result"
    }
   ],
   "source": [
    "artist.get_albums()"
   ]
  },
  {
   "cell_type": "markdown",
   "metadata": {},
   "source": [
    "# 3. Comparison with other packages\n",
    "\n",
    "Basic import:"
   ]
  },
  {
   "cell_type": "code",
   "execution_count": 26,
   "metadata": {},
   "outputs": [],
   "source": [
    "import matplotlib.pyplot as plt\n",
    "import time\n",
    "\n",
    "# This is a bit of magic to make matplotlib figures appear inline in the notebook\n",
    "# rather than in a new window.\n",
    "%matplotlib inline\n",
    "plt.rcParams['figure.figsize'] = (10.0, 8.0) # set default size of plots\n",
    "plt.rcParams['image.interpolation'] = 'nearest'\n",
    "plt.style.use('seaborn-darkgrid')\n",
    "# Change the font ?\n",
    "font = {'size'   : 15}\n",
    "plt.rc('font', **font)"
   ]
  },
  {
   "cell_type": "markdown",
   "metadata": {},
   "source": [
    "## 3.1. [PyLyrics3](https://github.com/jameswenzel/pylyrics3)\n",
    "\n",
    "> Lyric scraper very loosely based on py-lyrics, updated for Python 3"
   ]
  },
  {
   "cell_type": "code",
   "execution_count": 27,
   "metadata": {},
   "outputs": [],
   "source": [
    "import pylyrics3"
   ]
  },
  {
   "cell_type": "code",
   "execution_count": 28,
   "metadata": {},
   "outputs": [
    {
     "name": "stdout",
     "output_type": "stream",
     "text": [
      "Time elapsed: 10.503966331481934\n"
     ]
    }
   ],
   "source": [
    "start = time.time()\n",
    "\n",
    "daughter_lyrics = pylyrics3.get_artist_lyrics('daughter')\n",
    "\n",
    "time_pylyrics3 = time.time() - start\n",
    "print(f\"Time elapsed: {time_pylyrics3}\")"
   ]
  },
  {
   "cell_type": "markdown",
   "metadata": {},
   "source": [
    "## 3.2. [LyricsMaster](https://github.com/SekouD/lyricsmaster)\n",
    "\n",
    "> LyricsMaster is a library for downloading lyrics from multiple lyrics providers."
   ]
  },
  {
   "cell_type": "code",
   "execution_count": 29,
   "metadata": {},
   "outputs": [],
   "source": [
    "from lyricsmaster import LyricWiki, TorController\n",
    "\n",
    "provider = LyricWiki()"
   ]
  },
  {
   "cell_type": "code",
   "execution_count": 30,
   "metadata": {},
   "outputs": [
    {
     "name": "stderr",
     "output_type": "stream",
     "text": [
      "2020-05-21 21:52:35,939 WARNINGconnectionpool.py  274: Connection pool is full, discarding connection: lyrics.wikia.com\n",
      "2020-05-21 21:52:36,306 WARNINGconnectionpool.py  274: Connection pool is full, discarding connection: lyrics.wikia.com\n",
      "2020-05-21 21:52:36,640 WARNINGconnectionpool.py  274: Connection pool is full, discarding connection: lyrics.wikia.com\n"
     ]
    },
    {
     "name": "stdout",
     "output_type": "stream",
     "text": [
      "Time elapsed: 17.43413758277893\n"
     ]
    }
   ],
   "source": [
    "start = time.time()\n",
    "\n",
    "discography = provider.get_lyrics('daughter')\n",
    "\n",
    "time_lyricsmaster = time.time() - start\n",
    "print(f\"Time elapsed: {time_lyricsmaster}\")"
   ]
  },
  {
   "cell_type": "markdown",
   "metadata": {},
   "source": [
    "## 3.3. [LyricsFandom](https://github.com/arthurdjn/scrape-lyricswiki)\n",
    "\n",
    "> Scrape music data from LyricWiki (https://lyrics.fandom.com). Artists, Albums, Songs can be extracted."
   ]
  },
  {
   "cell_type": "code",
   "execution_count": 31,
   "metadata": {},
   "outputs": [],
   "source": [
    "from lyricsfandom import LyricWiki\n",
    "\n",
    "wiki = LyricWiki(verbose=False)"
   ]
  },
  {
   "cell_type": "code",
   "execution_count": 32,
   "metadata": {},
   "outputs": [
    {
     "name": "stdout",
     "output_type": "stream",
     "text": [
      "Time elapsed: 15.401979923248291\n"
     ]
    }
   ],
   "source": [
    "start = time.time()\n",
    "\n",
    "lyrics = wiki.get_lyrics('Daughter', cover=False, other=False)\n",
    "\n",
    "time_lyricwiki = time.time() - start\n",
    "print(f\"Time elapsed: {time_lyricwiki}\")"
   ]
  },
  {
   "cell_type": "markdown",
   "metadata": {},
   "source": [
    "## 3.4. Speed comparison"
   ]
  },
  {
   "cell_type": "code",
   "execution_count": 38,
   "metadata": {},
   "outputs": [],
   "source": [
    "time_pylyrics3 = []\n",
    "time_lyricsmaster = []\n",
    "time_lyricwiki = []"
   ]
  },
  {
   "cell_type": "code",
   "execution_count": 40,
   "metadata": {
    "collapsed": true,
    "jupyter": {
     "outputs_hidden": true
    }
   },
   "outputs": [
    {
     "name": "stdout",
     "output_type": "stream",
     "text": [
      "pylyrics: 0.6276760101318359\n",
      "lyricsmaster: 4.18030309677124\n",
      "lyricwiki: 0.3098011016845703\n",
      "-----------------\n",
      "pylyrics: 0.20415949821472168\n",
      "lyricsmaster: 3.893815279006958\n",
      "lyricwiki: 0.33399105072021484\n",
      "-----------------\n",
      "pylyrics: 0.23291659355163574\n",
      "lyricsmaster: 4.117064714431763\n",
      "lyricwiki: 0.28302478790283203\n",
      "-----------------\n",
      "pylyrics: 0.17683100700378418\n",
      "lyricsmaster: 3.987844467163086\n",
      "lyricwiki: 0.3383333683013916\n",
      "-----------------\n",
      "pylyrics: 0.21234440803527832\n",
      "lyricsmaster: 4.348703145980835\n",
      "lyricwiki: 0.3814656734466553\n",
      "-----------------\n",
      "pylyrics: 0.20139217376708984\n",
      "lyricsmaster: 3.867363929748535\n",
      "lyricwiki: 0.33527350425720215\n",
      "-----------------\n",
      "pylyrics: 0.20982599258422852\n",
      "lyricsmaster: 3.9674665927886963\n",
      "lyricwiki: 0.34012460708618164\n",
      "-----------------\n",
      "pylyrics: 0.31386423110961914\n",
      "lyricsmaster: 3.997500419616699\n",
      "lyricwiki: 0.3078317642211914\n",
      "-----------------\n",
      "pylyrics: 0.522721529006958\n",
      "lyricsmaster: 3.6506710052490234\n",
      "lyricwiki: 0.3311290740966797\n",
      "-----------------\n",
      "pylyrics: 0.20496225357055664\n",
      "lyricsmaster: 4.094377279281616\n",
      "lyricwiki: 0.3292722702026367\n",
      "-----------------\n",
      "pylyrics: 0.22593259811401367\n",
      "lyricsmaster: 3.924149990081787\n",
      "lyricwiki: 0.2870025634765625\n",
      "-----------------\n",
      "pylyrics: 0.22256088256835938\n",
      "lyricsmaster: 4.464243650436401\n",
      "lyricwiki: 0.29053568840026855\n",
      "-----------------\n",
      "pylyrics: 0.20395183563232422\n",
      "lyricsmaster: 4.596329212188721\n",
      "lyricwiki: 0.3292827606201172\n",
      "-----------------\n",
      "pylyrics: 0.2049098014831543\n",
      "lyricsmaster: 3.718440532684326\n",
      "lyricwiki: 0.3484182357788086\n",
      "-----------------\n",
      "pylyrics: 0.272845983505249\n",
      "lyricsmaster: 4.174258708953857\n",
      "lyricwiki: 0.36196255683898926\n",
      "-----------------\n",
      "pylyrics: 0.2030940055847168\n",
      "lyricsmaster: 3.8991756439208984\n",
      "lyricwiki: 0.3350551128387451\n",
      "-----------------\n",
      "pylyrics: 0.38614487648010254\n",
      "lyricsmaster: 4.078378200531006\n",
      "lyricwiki: 0.3342268466949463\n",
      "-----------------\n",
      "pylyrics: 0.21154212951660156\n",
      "lyricsmaster: 3.9897878170013428\n",
      "lyricwiki: 0.32761335372924805\n",
      "-----------------\n",
      "pylyrics: 0.21992897987365723\n",
      "lyricsmaster: 3.947422981262207\n",
      "lyricwiki: 0.32105374336242676\n",
      "-----------------\n",
      "pylyrics: 0.22587370872497559\n",
      "lyricsmaster: 4.32467246055603\n",
      "lyricwiki: 0.43874597549438477\n",
      "-----------------\n",
      "pylyrics: 0.27184605598449707\n",
      "lyricsmaster: 4.154000282287598\n",
      "lyricwiki: 0.34598851203918457\n",
      "-----------------\n",
      "pylyrics: 0.21532607078552246\n",
      "lyricsmaster: 4.105276107788086\n",
      "lyricwiki: 0.38778066635131836\n",
      "-----------------\n",
      "pylyrics: 0.21595549583435059\n",
      "lyricsmaster: 3.956730842590332\n",
      "lyricwiki: 0.346494197845459\n",
      "-----------------\n",
      "pylyrics: 0.21346068382263184\n",
      "lyricsmaster: 3.743293285369873\n",
      "lyricwiki: 0.3149909973144531\n",
      "-----------------\n",
      "pylyrics: 0.21683955192565918\n",
      "lyricsmaster: 3.9365437030792236\n",
      "lyricwiki: 0.3379354476928711\n",
      "-----------------\n",
      "pylyrics: 0.21892023086547852\n",
      "lyricsmaster: 4.44286584854126\n",
      "lyricwiki: 0.3520021438598633\n",
      "-----------------\n",
      "pylyrics: 0.19192218780517578\n",
      "lyricsmaster: 3.5243172645568848\n",
      "lyricwiki: 0.31946802139282227\n",
      "-----------------\n",
      "pylyrics: 0.20690107345581055\n",
      "lyricsmaster: 3.967146635055542\n",
      "lyricwiki: 0.33413100242614746\n",
      "-----------------\n",
      "pylyrics: 0.2038722038269043\n",
      "lyricsmaster: 3.9653544425964355\n",
      "lyricwiki: 0.29212474822998047\n",
      "-----------------\n",
      "pylyrics: 0.20390748977661133\n",
      "lyricsmaster: 3.8089866638183594\n",
      "lyricwiki: 0.33413052558898926\n",
      "-----------------\n",
      "pylyrics: 0.20700550079345703\n",
      "lyricsmaster: 4.231414556503296\n",
      "lyricwiki: 0.3818016052246094\n",
      "-----------------\n",
      "pylyrics: 0.19890332221984863\n",
      "lyricsmaster: 4.488476514816284\n",
      "lyricwiki: 0.3420109748840332\n",
      "-----------------\n",
      "pylyrics: 0.22889471054077148\n",
      "lyricsmaster: 4.816340684890747\n",
      "lyricwiki: 0.36602354049682617\n",
      "-----------------\n",
      "pylyrics: 0.19578981399536133\n",
      "lyricsmaster: 5.036949157714844\n",
      "lyricwiki: 0.3757638931274414\n",
      "-----------------\n",
      "pylyrics: 0.2468583583831787\n",
      "lyricsmaster: 3.684943675994873\n",
      "lyricwiki: 0.2808496952056885\n",
      "-----------------\n",
      "pylyrics: 0.17192387580871582\n",
      "lyricsmaster: 3.9022469520568848\n",
      "lyricwiki: 0.4048926830291748\n",
      "-----------------\n",
      "pylyrics: 0.19926691055297852\n",
      "lyricsmaster: 4.252335548400879\n",
      "lyricwiki: 0.3575611114501953\n",
      "-----------------\n",
      "pylyrics: 0.46625399589538574\n",
      "lyricsmaster: 4.121601581573486\n",
      "lyricwiki: 0.4077742099761963\n",
      "-----------------\n",
      "pylyrics: 0.6656398773193359\n",
      "lyricsmaster: 4.287903308868408\n",
      "lyricwiki: 0.3383753299713135\n",
      "-----------------\n",
      "pylyrics: 0.22888541221618652\n",
      "lyricsmaster: 4.685292959213257\n",
      "lyricwiki: 0.38901829719543457\n",
      "-----------------\n",
      "pylyrics: 0.27484869956970215\n",
      "lyricsmaster: 4.2594077587127686\n",
      "lyricwiki: 0.29760122299194336\n",
      "-----------------\n",
      "pylyrics: 0.2648494243621826\n",
      "lyricsmaster: 4.302539348602295\n",
      "lyricwiki: 0.3408794403076172\n",
      "-----------------\n",
      "pylyrics: 0.2258772850036621\n",
      "lyricsmaster: 4.882221937179565\n",
      "lyricwiki: 0.3239173889160156\n",
      "-----------------\n",
      "pylyrics: 0.22116875648498535\n",
      "lyricsmaster: 4.33601450920105\n",
      "lyricwiki: 0.31977081298828125\n",
      "-----------------\n",
      "pylyrics: 0.21431326866149902\n",
      "lyricsmaster: 4.3041558265686035\n",
      "lyricwiki: 0.5558626651763916\n",
      "-----------------\n",
      "pylyrics: 0.5696704387664795\n",
      "lyricsmaster: 5.464971303939819\n",
      "lyricwiki: 0.4442179203033447\n",
      "-----------------\n",
      "pylyrics: 0.29943060874938965\n",
      "lyricsmaster: 5.496511220932007\n",
      "lyricwiki: 0.41670846939086914\n",
      "-----------------\n",
      "pylyrics: 0.23900246620178223\n",
      "lyricsmaster: 4.999216794967651\n",
      "lyricwiki: 0.4697291851043701\n",
      "-----------------\n",
      "pylyrics: 0.2859480381011963\n",
      "lyricsmaster: 5.021768569946289\n",
      "lyricwiki: 0.36292338371276855\n",
      "-----------------\n",
      "pylyrics: 0.2948329448699951\n",
      "lyricsmaster: 4.766729831695557\n",
      "lyricwiki: 0.4078071117401123\n",
      "-----------------\n",
      "pylyrics: 0.236907958984375\n",
      "lyricsmaster: 6.24043345451355\n",
      "lyricwiki: 0.5627024173736572\n",
      "-----------------\n",
      "pylyrics: 0.38178157806396484\n",
      "lyricsmaster: 4.683649063110352\n",
      "lyricwiki: 0.3375282287597656\n",
      "-----------------\n",
      "pylyrics: 0.23886489868164062\n",
      "lyricsmaster: 4.816270589828491\n",
      "lyricwiki: 0.38202977180480957\n",
      "-----------------\n",
      "pylyrics: 0.4518449306488037\n",
      "lyricsmaster: 4.868574142456055\n",
      "lyricwiki: 0.6879134178161621\n",
      "-----------------\n",
      "pylyrics: 0.2643892765045166\n",
      "lyricsmaster: 5.094226360321045\n",
      "lyricwiki: 0.4427378177642822\n",
      "-----------------\n",
      "pylyrics: 0.2988276481628418\n",
      "lyricsmaster: 5.966734409332275\n",
      "lyricwiki: 0.44475269317626953\n",
      "-----------------\n",
      "pylyrics: 0.22792625427246094\n",
      "lyricsmaster: 4.461488962173462\n",
      "lyricwiki: 0.35384511947631836\n",
      "-----------------\n",
      "pylyrics: 0.3722259998321533\n",
      "lyricsmaster: 4.839354753494263\n",
      "lyricwiki: 0.3642086982727051\n",
      "-----------------\n",
      "pylyrics: 0.24985861778259277\n",
      "lyricsmaster: 4.495598793029785\n",
      "lyricwiki: 0.4078514575958252\n",
      "-----------------\n",
      "pylyrics: 0.248856782913208\n",
      "lyricsmaster: 5.663023471832275\n",
      "lyricwiki: 0.37575507164001465\n",
      "-----------------\n",
      "pylyrics: 0.36575913429260254\n",
      "lyricsmaster: 5.415079593658447\n",
      "lyricwiki: 0.39111924171447754\n",
      "-----------------\n",
      "pylyrics: 0.22886180877685547\n",
      "lyricsmaster: 5.6487390995025635\n",
      "lyricwiki: 0.43986964225769043\n",
      "-----------------\n",
      "pylyrics: 0.3088259696960449\n",
      "lyricsmaster: 5.035903453826904\n",
      "lyricwiki: 0.3798561096191406\n",
      "-----------------\n",
      "pylyrics: 0.2681128978729248\n",
      "lyricsmaster: 5.264243125915527\n",
      "lyricwiki: 0.3268086910247803\n",
      "-----------------\n",
      "pylyrics: 0.21087884902954102\n",
      "lyricsmaster: 6.022143125534058\n",
      "lyricwiki: 0.3409111499786377\n",
      "-----------------\n",
      "pylyrics: 0.2348954677581787\n",
      "lyricsmaster: 5.367876291275024\n",
      "lyricwiki: 1.0331270694732666\n",
      "-----------------\n",
      "pylyrics: 0.2240278720855713\n",
      "lyricsmaster: 5.305358648300171\n",
      "lyricwiki: 0.4137613773345947\n",
      "-----------------\n",
      "pylyrics: 0.3997645378112793\n",
      "lyricsmaster: 4.909883499145508\n",
      "lyricwiki: 0.42775511741638184\n",
      "-----------------\n",
      "pylyrics: 0.2599022388458252\n",
      "lyricsmaster: 5.784832000732422\n",
      "lyricwiki: 0.40542149543762207\n",
      "-----------------\n",
      "pylyrics: 0.3298029899597168\n",
      "lyricsmaster: 5.146831750869751\n",
      "lyricwiki: 0.4397451877593994\n",
      "-----------------\n",
      "pylyrics: 0.4397430419921875\n",
      "lyricsmaster: 5.282343626022339\n",
      "lyricwiki: 0.4008517265319824\n",
      "-----------------\n",
      "pylyrics: 0.23505640029907227\n",
      "lyricsmaster: 4.541086912155151\n",
      "lyricwiki: 0.41976118087768555\n",
      "-----------------\n",
      "pylyrics: 0.21090126037597656\n",
      "lyricsmaster: 4.952298879623413\n",
      "lyricwiki: 0.34931254386901855\n",
      "-----------------\n",
      "pylyrics: 0.20588040351867676\n",
      "lyricsmaster: 4.6962549686431885\n",
      "lyricwiki: 0.3985903263092041\n",
      "-----------------\n",
      "pylyrics: 0.25684547424316406\n",
      "lyricsmaster: 5.410501003265381\n",
      "lyricwiki: 0.39809441566467285\n",
      "-----------------\n",
      "pylyrics: 0.26984167098999023\n",
      "lyricsmaster: 5.390735387802124\n",
      "lyricwiki: 0.4897129535675049\n",
      "-----------------\n",
      "pylyrics: 0.26784849166870117\n",
      "lyricsmaster: 5.291748285293579\n",
      "lyricwiki: 0.4327421188354492\n",
      "-----------------\n",
      "pylyrics: 0.28583550453186035\n",
      "lyricsmaster: 5.608777284622192\n",
      "lyricwiki: 0.4217867851257324\n",
      "-----------------\n",
      "pylyrics: 0.42272353172302246\n",
      "lyricsmaster: 5.223987817764282\n",
      "lyricwiki: 0.36975550651550293\n",
      "-----------------\n",
      "pylyrics: 0.36678338050842285\n",
      "lyricsmaster: 5.835385084152222\n",
      "lyricwiki: 0.43471789360046387\n",
      "-----------------\n",
      "pylyrics: 0.32381510734558105\n",
      "lyricsmaster: 4.856850624084473\n",
      "lyricwiki: 0.45070719718933105\n",
      "-----------------\n",
      "pylyrics: 0.27587223052978516\n",
      "lyricsmaster: 4.87117862701416\n",
      "lyricwiki: 0.42960309982299805\n",
      "-----------------\n",
      "pylyrics: 0.5038754940032959\n",
      "lyricsmaster: 5.5137412548065186\n",
      "lyricwiki: 0.7845487594604492\n",
      "-----------------\n",
      "pylyrics: 0.3752472400665283\n",
      "lyricsmaster: 5.529216766357422\n",
      "lyricwiki: 0.37351059913635254\n",
      "-----------------\n",
      "pylyrics: 0.2938365936279297\n",
      "lyricsmaster: 4.149669170379639\n",
      "lyricwiki: 0.3879251480102539\n",
      "-----------------\n",
      "pylyrics: 0.27684617042541504\n",
      "lyricsmaster: 4.531331300735474\n",
      "lyricwiki: 0.3947620391845703\n",
      "-----------------\n",
      "pylyrics: 0.5941634178161621\n",
      "lyricsmaster: 4.438613414764404\n",
      "lyricwiki: 0.3369319438934326\n",
      "-----------------\n",
      "pylyrics: 0.28383612632751465\n",
      "lyricsmaster: 4.941287279129028\n",
      "lyricwiki: 0.36179471015930176\n",
      "-----------------\n",
      "pylyrics: 0.22487902641296387\n",
      "lyricsmaster: 4.6462061405181885\n",
      "lyricwiki: 0.3359689712524414\n",
      "-----------------\n",
      "pylyrics: 0.20187854766845703\n",
      "lyricsmaster: 4.404006481170654\n",
      "lyricwiki: 0.2944314479827881\n",
      "-----------------\n"
     ]
    }
   ],
   "source": [
    "artist_name = 'Ex:Re'\n",
    "for _ in range(90):  \n",
    "    start = time.time()\n",
    "    lyrics = pylyrics3.get_artist_lyrics(artist_name)\n",
    "    time_pylyrics3.append(time.time() - start)\n",
    "    print('pylyrics:', time.time() - start)\n",
    "    \n",
    "    start = time.time()\n",
    "    discography = provider.get_lyrics(artist_name)\n",
    "    time_lyricsmaster.append(time.time() - start)\n",
    "    print('lyricsmaster:', time.time() - start)\n",
    "\n",
    "    start = time.time()\n",
    "    lyrics = wiki.get_lyrics(artist_name)\n",
    "    time_lyricwiki.append(time.time() - start)\n",
    "    print('lyricwiki:', time.time() - start)\n",
    "    print('-----------------')"
   ]
  },
  {
   "cell_type": "code",
   "execution_count": 102,
   "metadata": {},
   "outputs": [
    {
     "data": {
      "text/plain": [
       "<matplotlib.legend.Legend at 0x2c8a1146848>"
      ]
     },
     "execution_count": 102,
     "metadata": {},
     "output_type": "execute_result"
    },
    {
     "data": {
      "image/png": "[encoded data removed]",
      "text/plain": [
       "<Figure size 1080x504 with 1 Axes>"
      ]
     },
     "metadata": {},
     "output_type": "display_data"
    }
   ],
   "source": [
    "plt.subplots(figsize=(15, 7))\n",
    "\n",
    "plt.plot(time_pylyrics3, color='limegreen', label='1 - PyLyrics3')\n",
    "plt.plot(time_lyricwiki, color='darkcyan', label='2 - LyricWiki')\n",
    "plt.plot(time_lyricsmaster, color='red', label='3 - LyricsMaster')\n",
    "\n",
    "plt.title('Ellapsed time to scrape an album of 10 songs.')\n",
    "plt.ylabel('Ellapsed time (s)')\n",
    "plt.xlabel('Number of sessions')\n",
    "plt.legend(frameon=True)"
   ]
  }
 ],
 "metadata": {
  "kernelspec": {
   "display_name": "Python 3",
   "language": "python",
   "name": "python3"
  },
  "language_info": {
   "codemirror_mode": {
    "name": "ipython",
    "version": 3
   },
   "file_extension": ".py",
   "mimetype": "text/x-python",
   "name": "python",
   "nbconvert_exporter": "python",
   "pygments_lexer": "ipython3",
   "version": "3.7.4"
  }
 },
 "nbformat": 4,
 "nbformat_minor": 4
}
